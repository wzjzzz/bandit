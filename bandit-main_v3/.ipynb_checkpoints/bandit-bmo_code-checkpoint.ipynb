{
 "cells": [
  {
   "cell_type": "code",
   "execution_count": 1,
   "metadata": {},
   "outputs": [],
   "source": [
    "import numpy as np \n",
    "\n",
    "import matplotlib.pyplot as plt\n",
    "from itertools import product\n",
    "import pandas as pd\n",
    "import math\n",
    "%matplotlib inline "
   ]
  },
  {
   "cell_type": "code",
   "execution_count": 2,
   "metadata": {},
   "outputs": [
    {
     "data": {
      "image/png": "[encoded data removed]",
      "text/plain": [
       "<Figure size 432x288 with 1 Axes>"
      ]
     },
     "metadata": {
      "needs_background": "light"
     },
     "output_type": "display_data"
    }
   ],
   "source": [
    "df = pd.read_csv('../TSLA.csv')\n",
    "plt.plot(df['Adj Close'])\n",
    "plt.show()"
   ]
  },
  {
   "cell_type": "code",
   "execution_count": null,
   "metadata": {},
   "outputs": [],
   "source": []
  },
  {
   "cell_type": "code",
   "execution_count": 3,
   "metadata": {},
   "outputs": [
    {
     "data": {
      "image/png": "[encoded data removed]",
      "text/plain": [
       "<Figure size 432x288 with 1 Axes>"
      ]
     },
     "metadata": {
      "needs_background": "light"
     },
     "output_type": "display_data"
    }
   ],
   "source": [
    "windows = 10\n",
    "data = df['Adj Close'].rolling(windows).std()[windows-1:].values\n",
    "plt.plot(data)\n",
    "plt.show()"
   ]
  },
  {
   "cell_type": "code",
   "execution_count": 4,
   "metadata": {},
   "outputs": [],
   "source": [
    "eta = 1e-3;  epsilon = 1e-2"
   ]
  },
  {
   "cell_type": "code",
   "execution_count": 5,
   "metadata": {},
   "outputs": [],
   "source": [
    "c_scale = 6\n",
    "def func(x):\n",
    "    # x in range [0, 1]\n",
    "    id_ = int(np.floor(x*len(data)))\n",
    "    reward = data[id_] * c_scale\n",
    "    \n",
    "    observation = np.random.normal(reward, 0.1)\n",
    "    return reward, observation - reward"
   ]
  },
  {
   "cell_type": "code",
   "execution_count": 6,
   "metadata": {},
   "outputs": [],
   "source": [
    "delta = 1e-3\n",
    "MAX_REWARD = np.max(data) * c_scale\n",
    "delta_MAX = np.quantile(data, 1-delta) * c_scale"
   ]
  },
  {
   "cell_type": "code",
   "execution_count": 7,
   "metadata": {},
   "outputs": [],
   "source": [
    "class cube():\n",
    "    \n",
    "    def __init__(self, x1_left, x1_right, parent, children, xs, ys, bmo = True):\n",
    "#         print(\"options: {0}\".format(option)) \n",
    "        self.x1_left = x1_left\n",
    "        self.x1_right = x1_right\n",
    "    \n",
    "        self.parent = parent\n",
    "        self.children = children\n",
    "        \n",
    "        self.xs = xs\n",
    "        self.ys = ys\n",
    "            \n",
    "        self.bmo = False    \n",
    "    \n",
    "    def is_terminal(self):\n",
    "        \n",
    "        if len(self.children) == 0:\n",
    "            return True\n",
    "        else:\n",
    "            return False\n",
    "        \n",
    "    def is_preparent(self):\n",
    "        \n",
    "        is_preparent = False\n",
    "        \n",
    "        for c in self.children:\n",
    "            if c.is_terminal(): \n",
    "                return True\n",
    "        \n",
    "        return False\n",
    "    \n",
    "    def is_parent( self ):\n",
    "        \n",
    "        if self.parent is None:\n",
    "            return True\n",
    "        \n",
    "        if self.parent.is_preparent():\n",
    "            return False\n",
    "        else:\n",
    "            return True\n",
    "        \n",
    "    def measure(self): \n",
    "        \n",
    "        return (self.x1_right - self.x1_left)\n",
    "    \n",
    "    def insert_point(self, x1, y): \n",
    "        \n",
    "        if (x1 >= self.x1_left ) & (x1 <= self.x1_right ):\n",
    "                        \n",
    "            self.xs = list(self.xs) + [[x1]] \n",
    "            self.ys = list(self.ys) + [y] \n",
    "            \n",
    "    def insert_all_children(self, x1, y):\n",
    "        \n",
    "        self.insert_point(x1, y) \n",
    "        \n",
    "#         if len(self.children) > 0: \n",
    "            \n",
    "        for j in range(len(self.children)):\n",
    "\n",
    "            q = self.children[j]\n",
    "\n",
    "            q.insert_all_children(x1, y) \n",
    "\n",
    "    \n",
    "#     def observe(self, x1, x2, y):\n",
    "        \n",
    "# #         self.insert_point(x1, x2 , y)\n",
    "        \n",
    "#         self.insert_all_children( x1, x2, y)\n",
    "        \n",
    "#         self.update_children()\n",
    "        \n",
    "    def get_terminals( self ):\n",
    "        \n",
    "#         terminals = []\n",
    "        \n",
    "        if len(self.children) == 0:\n",
    "            return [self] \n",
    "                            \n",
    "        l0 = self.children[0].get_terminals()\n",
    "        l1 = self.children[1].get_terminals()\n",
    "        \n",
    "        return l0 + l1\n",
    "    \n",
    "    \n",
    "    def get_all_cubes(self ):\n",
    "                \n",
    "        if len(self.children) == 0:\n",
    "            return [self] \n",
    "                            \n",
    "        l0 = self.children[0].get_terminals() \n",
    "        l1 = self.children[1].get_terminals() \n",
    "        \n",
    "        return [self] + l0 + l1\n",
    "        \n",
    "#         self.children\n",
    "        \n",
    "#         self.xs.append(x) \n",
    "#         self.ys.append(y) \n",
    "        \n",
    "#         self.update()\n",
    "        \n",
    "    def m(self): \n",
    "        \n",
    "        return np.mean(self.ys) \n",
    "    \n",
    "    def n(self):\n",
    "        \n",
    "        return len(self.ys)\n",
    "    \n",
    "    def get_parent(self):\n",
    "        \n",
    "        if self.parent is None:\n",
    "            return self\n",
    "        \n",
    "        else:\n",
    "            if self.parent.is_parent():\n",
    "#                 if self.parent.colored == False:\n",
    "#                     self.parent.colored = True\n",
    "                return self.parent\n",
    "#                 else:\n",
    "#                     return 'colored'\n",
    "            else:\n",
    "                return self.parent.get_parent() \n",
    "            \n",
    "    def reset_color(self):\n",
    "\n",
    "        self.colored = False\n",
    "        \n",
    "#     def U(self):\n",
    "        \n",
    "#         return self.m() + "
   ]
  },
  {
   "cell_type": "code",
   "execution_count": 8,
   "metadata": {},
   "outputs": [],
   "source": [
    "def update_children(c, bmo = True, alpha=1):\n",
    "    global split_times\n",
    "    \n",
    "    \n",
    "    terminals = c.get_terminals() \n",
    "\n",
    "    updated = False\n",
    "\n",
    "    for q in terminals: \n",
    "\n",
    "        if bmo : \n",
    "#             condition = (np.sqrt(np.log(T/epsilon))/np.sqrt( max([1,q.n()]) ) < alpha * np.log( q.measure() / eta ) )\n",
    "#             print((np.sqrt(np.log(T/epsilon))/np.sqrt( max([1,q.n()]) ),  np.log( q.measure() / eta )) )\n",
    "            \n",
    "            condition = (np.log(T**2/epsilon))*np.sqrt(np.log(T**2/epsilon))/np.sqrt( max([1,q.n()]) ) < alpha * np.log( q.measure() / eta )\n",
    "        else:\n",
    "            condition = (np.sqrt(np.log(T/epsilon))/np.sqrt( 1 + q.n() ) < (q.x1_right - q.x1_left) )\n",
    "\n",
    "        if condition: \n",
    "            split_times += 1\n",
    "\n",
    "            updated = True\n",
    "\n",
    "            l_children = 0\n",
    "\n",
    "            x1_mid = (q.x1_right + q.x1_left) / 2. \n",
    "\n",
    "            xs = np.array( q.xs ).copy(); ys = np.array( q.ys ).copy() \n",
    "            xs1 = xs[:,0].copy()\n",
    "    \n",
    "            xs_tmp = xs[ (xs1 < x1_mid), : ].copy()\n",
    "            ys_tmp = ys[ (xs1 < x1_mid) ].copy()\n",
    "\n",
    "\n",
    "            l_children += len(ys_tmp)\n",
    "\n",
    "            q1 = cube( q.x1_left, x1_mid, \n",
    "                      q, [  ], xs_tmp, ys_tmp, bmo )\n",
    "\n",
    "#                 x1_left, x1_right, x2_left, x2_right, parent, children, xs, ys, bmo = True\n",
    "\n",
    "            xs = np.array( q.xs ).copy(); ys = np.array( q.ys ).copy() \n",
    "            xs1 = xs[:,0].copy()\n",
    "            xs_tmp = xs[ (xs1 >= x1_mid), : ].copy()\n",
    "            ys_tmp = ys[ (xs1 >= x1_mid)  ].copy()\n",
    "\n",
    "            l_children += len(ys_tmp)\n",
    "\n",
    "            q2 = cube( x1_mid, q.x1_right, \n",
    "                      q, [  ], xs_tmp, ys_tmp, bmo )\n",
    "\n",
    "            q.children = [q1, q2] \n",
    "\n",
    "    return updated"
   ]
  },
  {
   "cell_type": "code",
   "execution_count": 9,
   "metadata": {},
   "outputs": [],
   "source": [
    "N = 5000; eta = 1e-4; T = 2 * N"
   ]
  },
  {
   "cell_type": "markdown",
   "metadata": {},
   "source": [
    "# bandit-bmo-z"
   ]
  },
  {
   "cell_type": "code",
   "execution_count": 10,
   "metadata": {},
   "outputs": [
    {
     "name": "stdout",
     "output_type": "stream",
     "text": [
      "0\n"
     ]
    },
    {
     "name": "stderr",
     "output_type": "stream",
     "text": [
      "  0%|                                                                                         | 0/5000 [00:00<?, ?it/s]E:\\anoconda\\anoconda\\envs\\torch\\lib\\site-packages\\numpy\\core\\fromnumeric.py:3372: RuntimeWarning: Mean of empty slice.\n",
      "  return _methods._mean(a, axis=axis, dtype=dtype,\n",
      "E:\\anoconda\\anoconda\\envs\\torch\\lib\\site-packages\\numpy\\core\\_methods.py:170: RuntimeWarning: invalid value encountered in double_scalars\n",
      "  ret = ret.dtype.type(ret / rcount)\n",
      "100%|█████████████████████████████████████████████████████████████████████████████| 5000/5000 [00:39<00:00, 127.65it/s]\n"
     ]
    },
    {
     "name": "stdout",
     "output_type": "stream",
     "text": [
      "1\n"
     ]
    },
    {
     "name": "stderr",
     "output_type": "stream",
     "text": [
      "100%|█████████████████████████████████████████████████████████████████████████████| 5000/5000 [00:38<00:00, 128.23it/s]\n"
     ]
    },
    {
     "name": "stdout",
     "output_type": "stream",
     "text": [
      "2\n"
     ]
    },
    {
     "name": "stderr",
     "output_type": "stream",
     "text": [
      "100%|█████████████████████████████████████████████████████████████████████████████| 5000/5000 [00:37<00:00, 131.99it/s]\n"
     ]
    },
    {
     "name": "stdout",
     "output_type": "stream",
     "text": [
      "3\n"
     ]
    },
    {
     "name": "stderr",
     "output_type": "stream",
     "text": [
      "100%|█████████████████████████████████████████████████████████████████████████████| 5000/5000 [00:38<00:00, 128.34it/s]\n"
     ]
    },
    {
     "name": "stdout",
     "output_type": "stream",
     "text": [
      "4\n"
     ]
    },
    {
     "name": "stderr",
     "output_type": "stream",
     "text": [
      "100%|█████████████████████████████████████████████████████████████████████████████| 5000/5000 [00:38<00:00, 130.44it/s]\n"
     ]
    },
    {
     "name": "stdout",
     "output_type": "stream",
     "text": [
      "5\n"
     ]
    },
    {
     "name": "stderr",
     "output_type": "stream",
     "text": [
      "100%|█████████████████████████████████████████████████████████████████████████████| 5000/5000 [00:38<00:00, 131.02it/s]\n"
     ]
    },
    {
     "name": "stdout",
     "output_type": "stream",
     "text": [
      "6\n"
     ]
    },
    {
     "name": "stderr",
     "output_type": "stream",
     "text": [
      "100%|█████████████████████████████████████████████████████████████████████████████| 5000/5000 [00:39<00:00, 125.49it/s]\n"
     ]
    },
    {
     "name": "stdout",
     "output_type": "stream",
     "text": [
      "7\n"
     ]
    },
    {
     "name": "stderr",
     "output_type": "stream",
     "text": [
      "100%|█████████████████████████████████████████████████████████████████████████████| 5000/5000 [00:41<00:00, 121.31it/s]\n"
     ]
    },
    {
     "name": "stdout",
     "output_type": "stream",
     "text": [
      "8\n"
     ]
    },
    {
     "name": "stderr",
     "output_type": "stream",
     "text": [
      "100%|█████████████████████████████████████████████████████████████████████████████| 5000/5000 [00:39<00:00, 127.31it/s]\n"
     ]
    },
    {
     "name": "stdout",
     "output_type": "stream",
     "text": [
      "9\n"
     ]
    },
    {
     "name": "stderr",
     "output_type": "stream",
     "text": [
      "100%|█████████████████████████████████████████████████████████████████████████████| 5000/5000 [00:40<00:00, 123.28it/s]\n"
     ]
    }
   ],
   "source": [
    "from tqdm import tqdm\n",
    "arms = []; rewards = []; avg_rewards = []\n",
    "\n",
    "split_times = 0\n",
    "\n",
    "for dummy in range(10):\n",
    "    \n",
    "    rewards_tmp = []; avg_rewards_tmp = []\n",
    "    \n",
    "    print(dummy)\n",
    "    \n",
    "    root = cube( 0, 1., None, [], [], [], True )\n",
    "\n",
    "    for t in tqdm(range(N)): \n",
    "#         print(split_times, t)\n",
    "\n",
    "        terminals = root.get_terminals() \n",
    "\n",
    "        parents = []; Us = []; rs = []; ns = []; children_ns = []\n",
    "\n",
    "        for q in terminals:\n",
    "            p = q.get_parent()\n",
    "            if p not in parents:\n",
    "                parents.append(q.get_parent())\n",
    "\n",
    "        for q in parents:\n",
    "    \n",
    "#             u = q.m() + np.sqrt( np.log(T/epsilon) ) / np.sqrt( max([1, q.n()] ) ) +\\\n",
    "#                        max([0, np.log( q.measure() / eta )  ] )\n",
    "        \n",
    "            u = q.m() + (np.log(T**2/epsilon))*np.sqrt(np.log(T**2/epsilon))/np.sqrt( max([1,q.n()]) ) +\\\n",
    "                       max([0, np.log( q.measure() / eta )  ] )\n",
    "\n",
    "            Us.append( u ) \n",
    "\n",
    "            rs.append( q.x1_right - q.x1_left )\n",
    "            ns.append( len(q.ys) ) \n",
    "\n",
    "            for i in range(len(q.children)):\n",
    "\n",
    "                children_ns.append( len(q.children[i].ys) ) \n",
    "\n",
    "        selected = parents[ np.argmax( Us ) ]\n",
    "\n",
    "        if len( selected.children ) == 0:\n",
    "\n",
    "            x1 = np.random.uniform( selected.x1_left , selected.x1_right )\n",
    "\n",
    "            reward, noise = func(x1) \n",
    "\n",
    "            root.insert_all_children( x1, reward + noise )\n",
    "\n",
    "            updated = True \n",
    "\n",
    "            while updated:\n",
    "\n",
    "                updated = update_children(root, alpha=30)\n",
    "\n",
    "            arms.append((x1))\n",
    "\n",
    "            rewards_tmp.append( reward ) \n",
    "            \n",
    "#             xs1 = np.random.uniform( selected.x1_left ,selected.x1_right, size = (1000,1) )\n",
    "            \n",
    "#             avg_reward = np.mean( func(xs1)[0] )\n",
    "            \n",
    "#             avg_rewards_tmp.append(avg_reward)\n",
    "\n",
    "        else:\n",
    "\n",
    "            for j in range(2):\n",
    "\n",
    "                x1 = np.random.uniform( selected.children[j].x1_left , selected.children[j].x1_right )\n",
    "\n",
    "                reward, noise = func(x1) \n",
    "\n",
    "                root.insert_all_children( x1, reward + noise )\n",
    "\n",
    "                updated = True\n",
    "\n",
    "                while updated:\n",
    "                    \n",
    "                    updated = update_children(root)\n",
    "\n",
    "                arms.append((x1))\n",
    "                \n",
    "                rewards_tmp.append( reward ) \n",
    "                \n",
    "#                 xs1 = np.random.uniform( selected.children[j].x1_left , selected.children[j].x1_right, size = (1000,1) )\n",
    "#                 xs1 = np.random.uniform(selected.children[j].x1_left , selected.children[j].x1_right)\n",
    "\n",
    "#                 avg_reward = np.mean( func(xs1)[0] )\n",
    "\n",
    "#                 avg_rewards_tmp.append(avg_reward)\n",
    "\n",
    "    rewards.append( rewards_tmp ) \n",
    "    \n",
    "#     avg_rewards.append(avg_rewards_tmp)"
   ]
  },
  {
   "cell_type": "code",
   "execution_count": 11,
   "metadata": {},
   "outputs": [],
   "source": [
    "# rewards, avg_rewards = pickle.load(open('bmo-bandit-z-res','rb')) \n",
    "regrets_bmoz = []; delta_regrets_bmoz = []\n",
    "\n",
    "for j in range(len(rewards)): \n",
    "    \n",
    "    regret_tmp = []; delta_regret_tmp = []; \n",
    "\n",
    "    for i in range(len(rewards[j])):\n",
    "#         reward = np.exp((rewards[j][i] * 2.427) + 8.693)\n",
    "#         MAX_REWARD_ = np.exp(MAX_REWARD * 2.427 + 8.693)\n",
    "#         delta_MAX_ = np.exp(delta_MAX * 2.427 + 8.693)\n",
    "#         regret = max([0, MAX_REWARD_ - reward])\n",
    "#         delta_regret = max([0, delta_MAX_ - avg_rewards[j][i]])\n",
    "        \n",
    "        regret = max([0, MAX_REWARD - rewards[j][i] ]) \n",
    "        delta_regret = max([0, delta_MAX - rewards[j][i] ])  \n",
    "        \n",
    "        regret_tmp.append(regret) \n",
    "        \n",
    "        delta_regret_tmp.append( delta_regret )\n",
    "        \n",
    "    regrets_bmoz.append( regret_tmp ) \n",
    "    delta_regrets_bmoz.append( delta_regret_tmp )"
   ]
  },
  {
   "cell_type": "code",
   "execution_count": 12,
   "metadata": {},
   "outputs": [
    {
     "data": {
      "image/png": "[encoded data removed]",
      "text/plain": [
       "<Figure size 432x288 with 1 Axes>"
      ]
     },
     "metadata": {
      "needs_background": "light"
     },
     "output_type": "display_data"
    }
   ],
   "source": [
    "# for i in range(dummy):\n",
    "#     data_delta = np.cumsum( regrets_bmoz[i] )\n",
    "#     data = np.cumsum(regrets_bmoz[i])\n",
    "#     plt.plot( data_delta, label='{}'.format(i) ) \n",
    "# plt.legend()\n",
    "# plt.show()\n",
    "\n",
    "for i in range(10):\n",
    "    data_delta = np.cumsum( delta_regrets_bmoz[i] )\n",
    "    plt.plot( data_delta, label='{}'.format(i) ) \n",
    "plt.legend()\n",
    "plt.show()"
   ]
  },
  {
   "cell_type": "code",
   "execution_count": 13,
   "metadata": {},
   "outputs": [
    {
     "data": {
      "image/png": "[encoded data removed]",
      "text/plain": [
       "<Figure size 432x288 with 1 Axes>"
      ]
     },
     "metadata": {
      "needs_background": "light"
     },
     "output_type": "display_data"
    }
   ],
   "source": [
    "for i in range(10):\n",
    "    data_ = np.cumsum(regrets_bmoz[i])\n",
    "    plt.plot(data_, label='{}'.format(i) ) \n",
    "plt.legend()\n",
    "plt.show()"
   ]
  },
  {
   "cell_type": "code",
   "execution_count": 14,
   "metadata": {},
   "outputs": [],
   "source": [
    "# regret_m = np.mean(np.cumsum(regrets_bmoz, axis=1), axis=0)\n",
    "# regret_std = np.std(np.cumsum(regrets_bmoz, axis=1), axis=0)\n",
    "regret_m_delta = np.mean(np.cumsum(delta_regrets_bmoz, axis=1), axis=0)\n",
    "regret_std_delta = np.std(np.cumsum(delta_regrets_bmoz, axis=1), axis=0)"
   ]
  },
  {
   "cell_type": "code",
   "execution_count": 15,
   "metadata": {},
   "outputs": [
    {
     "data": {
      "image/png": "[encoded data removed]",
      "text/plain": [
       "<Figure size 432x288 with 1 Axes>"
      ]
     },
     "metadata": {
      "needs_background": "light"
     },
     "output_type": "display_data"
    }
   ],
   "source": [
    "# plt.plot(regret_m)\n",
    "plt.plot(regret_m_delta)\n",
    "# plt.fill_between(np.array(range(len(regret_m))), \n",
    "#                  regret_m - regret_std, regret_m + regret_std, alpha=0.1, color='b')\n",
    "plt.fill_between(np.array(range(len(regret_m_delta))), \n",
    "                                regret_m_delta - regret_std_delta, regret_m_delta + regret_std_delta, alpha=0.1, color='r')\n",
    "plt.show()"
   ]
  },
  {
   "cell_type": "code",
   "execution_count": 16,
   "metadata": {},
   "outputs": [],
   "source": [
    "np.savetxt('bmoz_delta.csv', delta_regrets_bmoz)\n",
    "np.savetxt('bmoz.csv', regrets_bmoz)"
   ]
  },
  {
   "cell_type": "markdown",
   "metadata": {},
   "source": [
    "# bandit_bmo_p"
   ]
  },
  {
   "cell_type": "code",
   "execution_count": 17,
   "metadata": {},
   "outputs": [
    {
     "name": "stdout",
     "output_type": "stream",
     "text": [
      "0\n"
     ]
    },
    {
     "name": "stderr",
     "output_type": "stream",
     "text": [
      "  0%|                                                                                        | 0/10000 [00:00<?, ?it/s]E:\\anoconda\\anoconda\\envs\\torch\\lib\\site-packages\\numpy\\core\\fromnumeric.py:3372: RuntimeWarning: Mean of empty slice.\n",
      "  return _methods._mean(a, axis=axis, dtype=dtype,\n",
      "E:\\anoconda\\anoconda\\envs\\torch\\lib\\site-packages\\numpy\\core\\_methods.py:170: RuntimeWarning: invalid value encountered in double_scalars\n",
      "  ret = ret.dtype.type(ret / rcount)\n",
      "100%|██████████████████████████████████████████████████████████████████████████| 10000/10000 [00:09<00:00, 1007.17it/s]\n"
     ]
    },
    {
     "name": "stdout",
     "output_type": "stream",
     "text": [
      "1\n"
     ]
    },
    {
     "name": "stderr",
     "output_type": "stream",
     "text": [
      "100%|███████████████████████████████████████████████████████████████████████████| 10000/10000 [00:10<00:00, 981.75it/s]\n"
     ]
    },
    {
     "name": "stdout",
     "output_type": "stream",
     "text": [
      "2\n"
     ]
    },
    {
     "name": "stderr",
     "output_type": "stream",
     "text": [
      "100%|███████████████████████████████████████████████████████████████████████████| 10000/10000 [00:10<00:00, 974.59it/s]\n"
     ]
    },
    {
     "name": "stdout",
     "output_type": "stream",
     "text": [
      "3\n"
     ]
    },
    {
     "name": "stderr",
     "output_type": "stream",
     "text": [
      "100%|███████████████████████████████████████████████████████████████████████████| 10000/10000 [00:10<00:00, 938.52it/s]\n"
     ]
    },
    {
     "name": "stdout",
     "output_type": "stream",
     "text": [
      "4\n"
     ]
    },
    {
     "name": "stderr",
     "output_type": "stream",
     "text": [
      "100%|███████████████████████████████████████████████████████████████████████████| 10000/10000 [00:10<00:00, 971.65it/s]\n"
     ]
    },
    {
     "name": "stdout",
     "output_type": "stream",
     "text": [
      "5\n"
     ]
    },
    {
     "name": "stderr",
     "output_type": "stream",
     "text": [
      "100%|███████████████████████████████████████████████████████████████████████████| 10000/10000 [00:10<00:00, 937.73it/s]\n"
     ]
    },
    {
     "name": "stdout",
     "output_type": "stream",
     "text": [
      "6\n"
     ]
    },
    {
     "name": "stderr",
     "output_type": "stream",
     "text": [
      "100%|██████████████████████████████████████████████████████████████████████████| 10000/10000 [00:09<00:00, 1030.49it/s]\n"
     ]
    },
    {
     "name": "stdout",
     "output_type": "stream",
     "text": [
      "7\n"
     ]
    },
    {
     "name": "stderr",
     "output_type": "stream",
     "text": [
      "100%|███████████████████████████████████████████████████████████████████████████| 10000/10000 [00:10<00:00, 981.18it/s]\n"
     ]
    },
    {
     "name": "stdout",
     "output_type": "stream",
     "text": [
      "8\n"
     ]
    },
    {
     "name": "stderr",
     "output_type": "stream",
     "text": [
      "100%|███████████████████████████████████████████████████████████████████████████| 10000/10000 [00:10<00:00, 990.12it/s]\n"
     ]
    },
    {
     "name": "stdout",
     "output_type": "stream",
     "text": [
      "9\n"
     ]
    },
    {
     "name": "stderr",
     "output_type": "stream",
     "text": [
      "100%|██████████████████████████████████████████████████████████████████████████| 10000/10000 [00:09<00:00, 1025.49it/s]\n"
     ]
    }
   ],
   "source": [
    "from tqdm import tqdm\n",
    "\n",
    "arms_p = []; rewards_p = []; avg_rewards_p = []; \n",
    "\n",
    "for dummy in range(10):\n",
    "    \n",
    "    split_times = 0\n",
    "    \n",
    "    print(dummy)\n",
    "    \n",
    "    rewards_tmp = []; avg_rewards_tmp = []\n",
    "    \n",
    "    root = cube( 0, 1., None, [], [], [], True )\n",
    "\n",
    "    for t in tqdm(range(N*2)): \n",
    "\n",
    "        terminals = root.get_terminals() \n",
    "\n",
    "        Us = []; \n",
    "\n",
    "        for q in terminals:\n",
    "\n",
    "            u = q.m() + (np.log(T**2/epsilon))*np.sqrt(np.log(T**2/epsilon))/np.sqrt( max([1,q.n()]) ) +\\\n",
    "                       max([0, np.log( q.measure() / eta )  ] )\n",
    "\n",
    "            Us.append( u ) \n",
    "\n",
    "        selected = terminals[ np.argmax( Us ) ]\n",
    "\n",
    "        x1 = np.random.uniform( selected.x1_left , selected.x1_right )\n",
    "\n",
    "        reward, noise = func(x1) \n",
    "\n",
    "        root.insert_all_children( x1, reward + noise )\n",
    "\n",
    "        updated = True \n",
    "\n",
    "        while updated:\n",
    "            updated = update_children(root) \n",
    "\n",
    "        arms.append((x1))\n",
    "        \n",
    "        rewards_tmp.append( reward )\n",
    "        \n",
    "#         xs1 = np.random.uniform( selected.x1_left , selected.x1_right, size = (1000,1) )\n",
    "\n",
    "#         avg_reward = np.mean( func(xs1)[0] )\n",
    "        \n",
    "#         avg_rewards_tmp.append( avg_reward ) \n",
    "\n",
    "    rewards_p.append( rewards_tmp ) \n",
    "    \n",
    "#     avg_rewards.append( avg_rewards_tmp ) \n"
   ]
  },
  {
   "cell_type": "code",
   "execution_count": 18,
   "metadata": {},
   "outputs": [],
   "source": [
    "regrets_bmop = []; delta_regrets_bmop = []\n",
    "\n",
    "for j in range(len(rewards_p)): \n",
    "    \n",
    "    regret_tmp = []; delta_regret_tmp = []; \n",
    "\n",
    "    for i in range(len(rewards_p[j])):\n",
    "#         reward = np.exp((rewards[j][i] * 2.427) + 8.693)\n",
    "#         MAX_REWARD_ = np.exp(MAX_REWARD * 2.427 + 8.693)\n",
    "#         delta_MAX_ = np.exp(delta_MAX * 2.427 + 8.693)\n",
    "#         regret = max([0, MAX_REWARD_ - reward])\n",
    "#         delta_regret = max([0, delta_MAX_ - avg_rewards[j][i]])\n",
    "        \n",
    "        regret = max([0, MAX_REWARD - rewards_p[j][i] ]) \n",
    "        delta_regret = max([0, delta_MAX - rewards_p[j][i] ])  \n",
    "        \n",
    "        regret_tmp.append(regret) \n",
    "        \n",
    "        delta_regret_tmp.append( delta_regret )\n",
    "        \n",
    "    regrets_bmop.append( regret_tmp ) \n",
    "    delta_regrets_bmop.append( delta_regret_tmp )"
   ]
  },
  {
   "cell_type": "code",
   "execution_count": 19,
   "metadata": {},
   "outputs": [
    {
     "data": {
      "image/png": "[encoded data removed]",
      "text/plain": [
       "<Figure size 432x288 with 1 Axes>"
      ]
     },
     "metadata": {
      "needs_background": "light"
     },
     "output_type": "display_data"
    }
   ],
   "source": [
    "for i in range(10):\n",
    "    data_delta = np.cumsum( delta_regrets_bmop[i] )\n",
    "    plt.plot( data_delta, label='{}'.format(i) ) \n",
    "plt.legend()\n",
    "plt.show()"
   ]
  },
  {
   "cell_type": "code",
   "execution_count": 20,
   "metadata": {},
   "outputs": [
    {
     "data": {
      "image/png": "[encoded data removed]",
      "text/plain": [
       "<Figure size 432x288 with 1 Axes>"
      ]
     },
     "metadata": {
      "needs_background": "light"
     },
     "output_type": "display_data"
    }
   ],
   "source": [
    "for i in range(10):\n",
    "    data_ = np.cumsum(regrets_bmop[i])\n",
    "    plt.plot(data_, label='{}'.format(i) ) \n",
    "plt.legend()\n",
    "plt.show()"
   ]
  },
  {
   "cell_type": "code",
   "execution_count": 21,
   "metadata": {},
   "outputs": [],
   "source": [
    "regret_m_delta = np.mean(np.cumsum(delta_regrets_bmop, axis=1), axis=0)\n",
    "regret_std_delta = np.std(np.cumsum(delta_regrets_bmop, axis=1), axis=0)"
   ]
  },
  {
   "cell_type": "code",
   "execution_count": 22,
   "metadata": {},
   "outputs": [
    {
     "data": {
      "image/png": "[encoded data removed]",
      "text/plain": [
       "<Figure size 432x288 with 1 Axes>"
      ]
     },
     "metadata": {
      "needs_background": "light"
     },
     "output_type": "display_data"
    }
   ],
   "source": [
    "# plt.plot(regret_m)\n",
    "plt.plot(regret_m_delta)\n",
    "# plt.fill_between(np.array(range(len(regret_m))), \n",
    "#                  regret_m - regret_std, regret_m + regret_std, alpha=0.1, color='b')\n",
    "plt.fill_between(np.array(range(len(regret_m_delta))), \n",
    "                                regret_m_delta - regret_std_delta, regret_m_delta + regret_std_delta, alpha=0.1, color='r')\n",
    "plt.show()"
   ]
  },
  {
   "cell_type": "code",
   "execution_count": 23,
   "metadata": {},
   "outputs": [],
   "source": [
    "np.savetxt('bmop_delta.csv', delta_regrets_bmop)\n",
    "np.savetxt('bmop.csv', regrets_bmop)"
   ]
  },
  {
   "cell_type": "code",
   "execution_count": null,
   "metadata": {},
   "outputs": [],
   "source": []
  },
  {
   "cell_type": "code",
   "execution_count": 24,
   "metadata": {},
   "outputs": [
    {
     "data": {
      "text/plain": [
       "[<matplotlib.lines.Line2D at 0x1a77ce21190>]"
      ]
     },
     "execution_count": 24,
     "metadata": {},
     "output_type": "execute_result"
    },
    {
     "data": {
      "image/png": "[encoded data removed]",
      "text/plain": [
       "<Figure size 432x288 with 1 Axes>"
      ]
     },
     "metadata": {
      "needs_background": "light"
     },
     "output_type": "display_data"
    }
   ],
   "source": [
    "plt.plot(data[int(0.875*len(data)): int(0.90625*len(data))])"
   ]
  },
  {
   "cell_type": "code",
   "execution_count": 25,
   "metadata": {},
   "outputs": [
    {
     "data": {
      "text/plain": [
       "[<matplotlib.lines.Line2D at 0x1a778163df0>]"
      ]
     },
     "execution_count": 25,
     "metadata": {},
     "output_type": "execute_result"
    },
    {
     "data": {
      "image/png": "[encoded data removed]",
      "text/plain": [
       "<Figure size 432x288 with 1 Axes>"
      ]
     },
     "metadata": {
      "needs_background": "light"
     },
     "output_type": "display_data"
    }
   ],
   "source": [
    "plt.plot(data[int(0.90625*len(data)): int(0.9375*len(data))])"
   ]
  },
  {
   "cell_type": "code",
   "execution_count": 26,
   "metadata": {},
   "outputs": [
    {
     "data": {
      "text/plain": [
       "25.547984525108863"
      ]
     },
     "execution_count": 26,
     "metadata": {},
     "output_type": "execute_result"
    }
   ],
   "source": [
    "data[int(0.915*len(data))]"
   ]
  },
  {
   "cell_type": "code",
   "execution_count": null,
   "metadata": {},
   "outputs": [],
   "source": []
  }
 ],
 "metadata": {
  "kernelspec": {
   "display_name": "Python 3 (ipykernel)",
   "language": "python",
   "name": "python3"
  },
  "language_info": {
   "codemirror_mode": {
    "name": "ipython",
    "version": 3
   },
   "file_extension": ".py",
   "mimetype": "text/x-python",
   "name": "python",
   "nbconvert_exporter": "python",
   "pygments_lexer": "ipython3",
   "version": "3.8.8"
  },
  "vscode": {
   "interpreter": {
    "hash": "37548702c2f54b096bb9f9be13c433d20d272ff03f3af3fb72cba1f38f113e47"
   }
  }
 },
 "nbformat": 4,
 "nbformat_minor": 2
}
