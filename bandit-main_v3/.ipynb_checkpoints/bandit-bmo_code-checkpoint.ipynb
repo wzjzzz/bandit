{
 "cells": [
  {
   "cell_type": "code",
   "execution_count": 1,
   "metadata": {},
   "outputs": [],
   "source": [
    "import numpy as np \n",
    "import matplotlib.pyplot as plt\n",
    "from itertools import product\n",
    "import pandas as pd\n",
    "import math\n",
    "from tqdm import tqdm\n",
    "%matplotlib inline "
   ]
  },
  {
   "cell_type": "code",
   "execution_count": 2,
   "metadata": {},
   "outputs": [
    {
     "data": {
      "image/png": "[encoded data removed]",
      "text/plain": [
       "<Figure size 432x288 with 1 Axes>"
      ]
     },
     "metadata": {
      "needs_background": "light"
     },
     "output_type": "display_data"
    }
   ],
   "source": [
    "df = pd.read_csv('../TSLA.csv')\n",
    "plt.plot(df['Adj Close'])\n",
    "plt.show()"
   ]
  },
  {
   "cell_type": "code",
   "execution_count": 3,
   "metadata": {},
   "outputs": [
    {
     "data": {
      "image/png": "[encoded data removed]",
      "text/plain": [
       "<Figure size 432x288 with 1 Axes>"
      ]
     },
     "metadata": {
      "needs_background": "light"
     },
     "output_type": "display_data"
    }
   ],
   "source": [
    "windows = 10\n",
    "data = df['Adj Close'].rolling(windows).var()[windows-1:].values\n",
    "plt.title('TSLA')\n",
    "plt.xlabel('arm space')\n",
    "plt.ylabel('variance')\n",
    "ticks = [0, len(data)//5, len(data)*2//5, len(data)*3//5, len(data)*4//5, len(data)]\n",
    "labels = [0, 0.2, 0.4, 0.6, 0.8, 1]\n",
    "plt.xticks(ticks=ticks, labels=labels)\n",
    "plt.plot(data, 'black')\n",
    "plt.savefig('./TSLA.png', dpi=100)\n",
    "plt.show()"
   ]
  },
  {
   "cell_type": "code",
   "execution_count": 4,
   "metadata": {},
   "outputs": [],
   "source": [
    "def func(x):\n",
    "    if x == 1:\n",
    "        idx = -1\n",
    "    else:\n",
    "        idx = int(np.floor(x*(len(data)-1)))\n",
    "    reward = data[idx]\n",
    "    observation = np.random.normal(reward, 0.1)\n",
    "    return reward, observation - reward"
   ]
  },
  {
   "cell_type": "code",
   "execution_count": 5,
   "metadata": {},
   "outputs": [],
   "source": [
    "delta = 1e-2\n",
    "MAX_REWARD = np.max(data)\n",
    "delta_MAX = np.quantile(data, 1-delta)"
   ]
  },
  {
   "cell_type": "code",
   "execution_count": 6,
   "metadata": {},
   "outputs": [],
   "source": [
    "class cube():\n",
    "    \n",
    "    def __init__(self, x1_left, x1_right, parent, children, xs, ys, bmo = True):\n",
    "        self.x1_left = x1_left\n",
    "        self.x1_right = x1_right\n",
    "    \n",
    "        self.parent = parent\n",
    "        self.children = children\n",
    "        \n",
    "        self.xs = xs\n",
    "        self.ys = ys\n",
    "            \n",
    "        self.bmo = False    \n",
    "    \n",
    "    def is_terminal(self):\n",
    "        if len(self.children) == 0:\n",
    "            return True\n",
    "        else:\n",
    "            return False\n",
    "        \n",
    "    def is_preparent(self):\n",
    "        is_preparent = False\n",
    "        for c in self.children:\n",
    "            if c.is_terminal(): \n",
    "                return True\n",
    "        \n",
    "        return False\n",
    "    \n",
    "    def is_parent( self ):\n",
    "        if self.parent is None:\n",
    "            return True\n",
    "        \n",
    "        if self.parent.is_preparent():\n",
    "            return False\n",
    "        else:\n",
    "            return True\n",
    "        \n",
    "    def measure(self): \n",
    "        return (self.x1_right - self.x1_left)\n",
    "    \n",
    "    def insert_point(self, x1, y): \n",
    "        if (x1 >= self.x1_left ) & (x1 <= self.x1_right ):           \n",
    "            self.xs = list(self.xs) + [[x1]] \n",
    "            self.ys = list(self.ys) + [y] \n",
    "            \n",
    "    def insert_all_children(self, x1, y):\n",
    "        self.insert_point(x1, y) \n",
    "        for j in range(len(self.children)):\n",
    "            q = self.children[j]\n",
    "            q.insert_all_children(x1, y) \n",
    "\n",
    "    \n",
    "        \n",
    "    def get_terminals( self ):\n",
    "        \n",
    "        if len(self.children) == 0:\n",
    "            return [self]                 \n",
    "        l0 = self.children[0].get_terminals()\n",
    "        l1 = self.children[1].get_terminals()\n",
    "        \n",
    "        return l0 + l1\n",
    "    \n",
    "    \n",
    "    def get_all_cubes(self ):\n",
    "        if len(self.children) == 0:\n",
    "            return [self]                  \n",
    "        l0 = self.children[0].get_terminals() \n",
    "        l1 = self.children[1].get_terminals() \n",
    "        return [self] + l0 + l1\n",
    "        \n",
    "        \n",
    "    def m(self): \n",
    "        if len(self.ys):\n",
    "            return np.mean(self.ys) \n",
    "        else:\n",
    "            return 0\n",
    "\n",
    "    def n(self):\n",
    "        return len(self.ys)\n",
    "    \n",
    "    \n",
    "    def get_parent(self):\n",
    "        if self.parent is None:\n",
    "            return self\n",
    "        else:\n",
    "            if self.parent.is_parent():\n",
    "                return self.parent\n",
    "            else:\n",
    "                return self.parent.get_parent() \n",
    "            \n",
    "    def reset_color(self):\n",
    "        self.colored = False\n"
   ]
  },
  {
   "cell_type": "code",
   "execution_count": 7,
   "metadata": {},
   "outputs": [],
   "source": [
    "def update_children(c, bmo = True, alpha=1):\n",
    "    global split_times\n",
    "    \n",
    "    \n",
    "    terminals = c.get_terminals() \n",
    "\n",
    "    updated = False\n",
    "\n",
    "    for q in terminals: \n",
    "\n",
    "        if bmo :             \n",
    "            condition = (np.log(T**2/epsilon) + np.log2(1/eta))/max([1,q.n()])  < alpha * np.log( q.measure() / eta )\n",
    "        else:\n",
    "            condition =  (np.log(T**2/epsilon) + np.log2(1/eta))/max([1,q.n()])  < (q.x1_right - q.x1_left) \n",
    "\n",
    "        if condition: \n",
    "            split_times += 1\n",
    "\n",
    "            updated = True\n",
    "\n",
    "            l_children = 0\n",
    "\n",
    "            x1_mid = (q.x1_right + q.x1_left) / 2. \n",
    "\n",
    "            xs = np.array( q.xs ).copy(); ys = np.array( q.ys ).copy() \n",
    "            xs1 = xs[:,0].copy()\n",
    "    \n",
    "            xs_tmp = xs[ (xs1 < x1_mid), : ].copy()\n",
    "            ys_tmp = ys[ (xs1 < x1_mid) ].copy()\n",
    "\n",
    "\n",
    "            l_children += len(ys_tmp)\n",
    "\n",
    "            q1 = cube( q.x1_left, x1_mid, \n",
    "                      q, [  ], xs_tmp, ys_tmp, bmo )\n",
    "\n",
    "#                 x1_left, x1_right, x2_left, x2_right, parent, children, xs, ys, bmo = True\n",
    "\n",
    "            xs = np.array( q.xs ).copy(); ys = np.array( q.ys ).copy() \n",
    "            xs1 = xs[:,0].copy()\n",
    "            xs_tmp = xs[ (xs1 >= x1_mid), : ].copy()\n",
    "            ys_tmp = ys[ (xs1 >= x1_mid)  ].copy()\n",
    "\n",
    "            l_children += len(ys_tmp)\n",
    "\n",
    "            q2 = cube( x1_mid, q.x1_right, \n",
    "                      q, [  ], xs_tmp, ys_tmp, bmo )\n",
    "\n",
    "            q.children = [q1, q2] \n",
    "\n",
    "    return updated"
   ]
  },
  {
   "cell_type": "code",
   "execution_count": 8,
   "metadata": {},
   "outputs": [],
   "source": [
    "N = 500; eta = 1e-5; T = 2 * N; alpha = 3;  epsilon = 1e-2"
   ]
  },
  {
   "cell_type": "markdown",
   "metadata": {},
   "source": [
    "# bandit-bmo-z"
   ]
  },
  {
   "cell_type": "code",
   "execution_count": 9,
   "metadata": {},
   "outputs": [
    {
     "name": "stdout",
     "output_type": "stream",
     "text": [
      "0\n"
     ]
    },
    {
     "name": "stderr",
     "output_type": "stream",
     "text": [
      "100%|███████████████████████████████████████████████████████████████████████████████| 500/500 [00:00<00:00, 514.15it/s]\n"
     ]
    },
    {
     "name": "stdout",
     "output_type": "stream",
     "text": [
      "1\n"
     ]
    },
    {
     "name": "stderr",
     "output_type": "stream",
     "text": [
      "100%|███████████████████████████████████████████████████████████████████████████████| 500/500 [00:00<00:00, 554.32it/s]\n"
     ]
    },
    {
     "name": "stdout",
     "output_type": "stream",
     "text": [
      "2\n"
     ]
    },
    {
     "name": "stderr",
     "output_type": "stream",
     "text": [
      "100%|███████████████████████████████████████████████████████████████████████████████| 500/500 [00:00<00:00, 512.38it/s]\n"
     ]
    },
    {
     "name": "stdout",
     "output_type": "stream",
     "text": [
      "3\n"
     ]
    },
    {
     "name": "stderr",
     "output_type": "stream",
     "text": [
      "100%|███████████████████████████████████████████████████████████████████████████████| 500/500 [00:01<00:00, 492.29it/s]\n"
     ]
    },
    {
     "name": "stdout",
     "output_type": "stream",
     "text": [
      "4\n"
     ]
    },
    {
     "name": "stderr",
     "output_type": "stream",
     "text": [
      "100%|███████████████████████████████████████████████████████████████████████████████| 500/500 [00:00<00:00, 522.07it/s]\n"
     ]
    },
    {
     "name": "stdout",
     "output_type": "stream",
     "text": [
      "5\n"
     ]
    },
    {
     "name": "stderr",
     "output_type": "stream",
     "text": [
      "100%|███████████████████████████████████████████████████████████████████████████████| 500/500 [00:00<00:00, 598.92it/s]\n"
     ]
    },
    {
     "name": "stdout",
     "output_type": "stream",
     "text": [
      "6\n"
     ]
    },
    {
     "name": "stderr",
     "output_type": "stream",
     "text": [
      "100%|███████████████████████████████████████████████████████████████████████████████| 500/500 [00:00<00:00, 592.67it/s]\n"
     ]
    },
    {
     "name": "stdout",
     "output_type": "stream",
     "text": [
      "7\n"
     ]
    },
    {
     "name": "stderr",
     "output_type": "stream",
     "text": [
      "100%|███████████████████████████████████████████████████████████████████████████████| 500/500 [00:00<00:00, 546.43it/s]\n"
     ]
    },
    {
     "name": "stdout",
     "output_type": "stream",
     "text": [
      "8\n"
     ]
    },
    {
     "name": "stderr",
     "output_type": "stream",
     "text": [
      "100%|███████████████████████████████████████████████████████████████████████████████| 500/500 [00:00<00:00, 573.49it/s]\n"
     ]
    },
    {
     "name": "stdout",
     "output_type": "stream",
     "text": [
      "9\n"
     ]
    },
    {
     "name": "stderr",
     "output_type": "stream",
     "text": [
      "100%|███████████████████████████████████████████████████████████████████████████████| 500/500 [00:00<00:00, 508.44it/s]\n"
     ]
    }
   ],
   "source": [
    "arms = []; rewards = []; avg_rewards = []\n",
    "\n",
    "for dummy in range(10):\n",
    "    split_times = 0\n",
    "    \n",
    "    rewards_tmp = []; avg_rewards_tmp = []\n",
    "    \n",
    "    print(dummy)\n",
    "    \n",
    "    root = cube( 0, 1., None, [], [], [], True )\n",
    "\n",
    "    for t in tqdm(range(N)): \n",
    "\n",
    "        terminals = root.get_terminals() \n",
    "\n",
    "        parents = []; Us = []; rs = []; ns = []; children_ns = []\n",
    "\n",
    "        for q in terminals:\n",
    "            p = q.get_parent()\n",
    "            if p not in parents:\n",
    "                parents.append(q.get_parent())\n",
    "\n",
    "        for q in parents:\n",
    "        \n",
    "            u = q.m() +  (np.log(T**2/epsilon) + np.log2(1/eta))/max([1,q.n()]) +\\\n",
    "                       max([0, np.log( q.measure() / eta )  ] )\n",
    "\n",
    "            Us.append( u ) \n",
    "\n",
    "            rs.append( q.x1_right - q.x1_left )\n",
    "            ns.append( len(q.ys) ) \n",
    "\n",
    "            for i in range(len(q.children)):\n",
    "\n",
    "                children_ns.append( len(q.children[i].ys) ) \n",
    "\n",
    "        selected = parents[ np.argmax( Us ) ]\n",
    "\n",
    "        if len( selected.children ) == 0:\n",
    "\n",
    "            x1 = np.random.uniform( selected.x1_left , selected.x1_right )\n",
    "\n",
    "            reward, noise = func(x1) \n",
    "\n",
    "            root.insert_all_children( x1, reward + noise )\n",
    "\n",
    "            updated = True \n",
    "\n",
    "            while updated:\n",
    "\n",
    "                updated = update_children(root, alpha=alpha)\n",
    "\n",
    "            arms.append((x1))\n",
    "\n",
    "            rewards_tmp.append( reward ) \n",
    "            \n",
    "\n",
    "        else:\n",
    "\n",
    "            for j in range(2):\n",
    "\n",
    "                x1 = np.random.uniform( selected.children[j].x1_left , selected.children[j].x1_right )\n",
    "\n",
    "                reward, noise = func(x1) \n",
    "\n",
    "                root.insert_all_children( x1, reward + noise )\n",
    "\n",
    "                updated = True\n",
    "\n",
    "                while updated:\n",
    "                    \n",
    "                    updated = update_children(root, alpha=alpha)\n",
    "\n",
    "                arms.append((x1))\n",
    "                \n",
    "                rewards_tmp.append( reward ) \n",
    "\n",
    "\n",
    "    rewards.append( rewards_tmp ) \n",
    "    "
   ]
  },
  {
   "cell_type": "code",
   "execution_count": 10,
   "metadata": {},
   "outputs": [],
   "source": [
    "regrets_bmoz = []; delta_regrets_bmoz = []\n",
    "\n",
    "for j in range(len(rewards)): \n",
    "    \n",
    "    regret_tmp = []; delta_regret_tmp = []; \n",
    "\n",
    "    for i in range(len(rewards[j])):        \n",
    "        regret = max([0, MAX_REWARD - rewards[j][i] ]) \n",
    "        delta_regret = max([0, delta_MAX - rewards[j][i] ])  \n",
    "        \n",
    "        regret_tmp.append(regret) \n",
    "        \n",
    "        delta_regret_tmp.append( delta_regret )\n",
    "        \n",
    "    regrets_bmoz.append( regret_tmp ) \n",
    "    delta_regrets_bmoz.append( delta_regret_tmp )"
   ]
  },
  {
   "cell_type": "code",
   "execution_count": 11,
   "metadata": {},
   "outputs": [
    {
     "data": {
      "image/png": "[encoded data removed]",
      "text/plain": [
       "<Figure size 432x288 with 1 Axes>"
      ]
     },
     "metadata": {
      "needs_background": "light"
     },
     "output_type": "display_data"
    }
   ],
   "source": [
    "for i in range(10):\n",
    "    data_delta = np.cumsum( delta_regrets_bmoz[i] )\n",
    "    plt.plot( data_delta, label='{}'.format(i) ) \n",
    "plt.legend()\n",
    "plt.show()"
   ]
  },
  {
   "cell_type": "code",
   "execution_count": 12,
   "metadata": {},
   "outputs": [],
   "source": [
    "regrets_bmoz = []; delta_regrets_bmoz = []\n",
    "\n",
    "for j in range(len(rewards)): \n",
    "    \n",
    "    regret_tmp = []; delta_regret_tmp = []; \n",
    "\n",
    "    for i in range(len(rewards[j])):\n",
    "        \n",
    "        regret = max([0, MAX_REWARD - rewards[j][i] ]) \n",
    "        delta_regret = max([0, delta_MAX - rewards[j][i] ])  \n",
    "        \n",
    "        regret_tmp.append(regret) \n",
    "        \n",
    "        delta_regret_tmp.append( delta_regret )\n",
    "        \n",
    "    regrets_bmoz.append( regret_tmp ) \n",
    "    delta_regrets_bmoz.append( delta_regret_tmp )"
   ]
  },
  {
   "cell_type": "code",
   "execution_count": 14,
   "metadata": {},
   "outputs": [],
   "source": [
    "regret_m_delta = np.mean(np.cumsum(delta_regrets_bmoz, axis=1), axis=0)\n",
    "regret_std_delta = np.std(np.cumsum(delta_regrets_bmoz, axis=1), axis=0)"
   ]
  },
  {
   "cell_type": "code",
   "execution_count": 15,
   "metadata": {},
   "outputs": [
    {
     "data": {
      "image/png": "[encoded data removed]",
      "text/plain": [
       "<Figure size 432x288 with 1 Axes>"
      ]
     },
     "metadata": {
      "needs_background": "light"
     },
     "output_type": "display_data"
    }
   ],
   "source": [
    "plt.plot(regret_m_delta)\n",
    "plt.fill_between(np.array(range(len(regret_m_delta))), \n",
    "                                regret_m_delta - regret_std_delta, regret_m_delta + regret_std_delta, alpha=0.1, color='r')\n",
    "plt.show()"
   ]
  },
  {
   "cell_type": "code",
   "execution_count": 16,
   "metadata": {},
   "outputs": [],
   "source": [
    "np.savetxt('bmoz_delta.csv', delta_regrets_bmoz)\n",
    "# np.savetxt('bmoz.csv', regrets_bmoz)"
   ]
  },
  {
   "cell_type": "markdown",
   "metadata": {},
   "source": [
    "# bandit_bmo_p"
   ]
  },
  {
   "cell_type": "code",
   "execution_count": 17,
   "metadata": {},
   "outputs": [
    {
     "name": "stdout",
     "output_type": "stream",
     "text": [
      "0\n"
     ]
    },
    {
     "name": "stderr",
     "output_type": "stream",
     "text": [
      "100%|████████████████████████████████████████████████████████████████████████████| 1000/1000 [00:00<00:00, 1352.64it/s]\n"
     ]
    },
    {
     "name": "stdout",
     "output_type": "stream",
     "text": [
      "1\n"
     ]
    },
    {
     "name": "stderr",
     "output_type": "stream",
     "text": [
      "100%|████████████████████████████████████████████████████████████████████████████| 1000/1000 [00:00<00:00, 1323.26it/s]\n"
     ]
    },
    {
     "name": "stdout",
     "output_type": "stream",
     "text": [
      "2\n"
     ]
    },
    {
     "name": "stderr",
     "output_type": "stream",
     "text": [
      "100%|████████████████████████████████████████████████████████████████████████████| 1000/1000 [00:00<00:00, 1088.04it/s]\n"
     ]
    },
    {
     "name": "stdout",
     "output_type": "stream",
     "text": [
      "3\n"
     ]
    },
    {
     "name": "stderr",
     "output_type": "stream",
     "text": [
      "100%|████████████████████████████████████████████████████████████████████████████| 1000/1000 [00:00<00:00, 1323.33it/s]\n"
     ]
    },
    {
     "name": "stdout",
     "output_type": "stream",
     "text": [
      "4\n"
     ]
    },
    {
     "name": "stderr",
     "output_type": "stream",
     "text": [
      "100%|████████████████████████████████████████████████████████████████████████████| 1000/1000 [00:00<00:00, 1284.08it/s]\n"
     ]
    },
    {
     "name": "stdout",
     "output_type": "stream",
     "text": [
      "5\n"
     ]
    },
    {
     "name": "stderr",
     "output_type": "stream",
     "text": [
      "100%|████████████████████████████████████████████████████████████████████████████| 1000/1000 [00:00<00:00, 1395.67it/s]\n"
     ]
    },
    {
     "name": "stdout",
     "output_type": "stream",
     "text": [
      "6\n"
     ]
    },
    {
     "name": "stderr",
     "output_type": "stream",
     "text": [
      "100%|████████████████████████████████████████████████████████████████████████████| 1000/1000 [00:00<00:00, 1279.95it/s]\n"
     ]
    },
    {
     "name": "stdout",
     "output_type": "stream",
     "text": [
      "7\n"
     ]
    },
    {
     "name": "stderr",
     "output_type": "stream",
     "text": [
      "100%|████████████████████████████████████████████████████████████████████████████| 1000/1000 [00:00<00:00, 1164.81it/s]\n"
     ]
    },
    {
     "name": "stdout",
     "output_type": "stream",
     "text": [
      "8\n"
     ]
    },
    {
     "name": "stderr",
     "output_type": "stream",
     "text": [
      "100%|████████████████████████████████████████████████████████████████████████████| 1000/1000 [00:00<00:00, 1174.70it/s]\n"
     ]
    },
    {
     "name": "stdout",
     "output_type": "stream",
     "text": [
      "9\n"
     ]
    },
    {
     "name": "stderr",
     "output_type": "stream",
     "text": [
      "100%|████████████████████████████████████████████████████████████████████████████| 1000/1000 [00:00<00:00, 1387.95it/s]\n"
     ]
    }
   ],
   "source": [
    "from tqdm import tqdm\n",
    "\n",
    "arms_p = []; rewards_p = []; avg_rewards_p = []; \n",
    "\n",
    "for dummy in range(10):\n",
    "    \n",
    "    split_times = 0\n",
    "    \n",
    "    print(dummy)\n",
    "    \n",
    "    rewards_tmp = []; avg_rewards_tmp = []\n",
    "    \n",
    "    root = cube( 0, 1., None, [], [], [], True )\n",
    "\n",
    "    for t in tqdm(range(N*2)): \n",
    "\n",
    "        terminals = root.get_terminals() \n",
    "\n",
    "        Us = []; \n",
    "\n",
    "        for q in terminals:\n",
    "\n",
    "            u = q.m() + (np.log(T**2/epsilon) + np.log2(1/eta))/max([1,q.n()]) +\\\n",
    "                       max([0, np.log( q.measure() / eta )  ] )\n",
    "\n",
    "            Us.append( u ) \n",
    "\n",
    "        selected = terminals[ np.argmax( Us ) ]\n",
    "\n",
    "        x1 = np.random.uniform( selected.x1_left , selected.x1_right )\n",
    "\n",
    "        reward, noise = func(x1) \n",
    "\n",
    "        root.insert_all_children( x1, reward + noise )\n",
    "\n",
    "        updated = True \n",
    "\n",
    "        while updated:\n",
    "            updated = update_children(root) \n",
    "\n",
    "        arms.append((x1))\n",
    "        \n",
    "        rewards_tmp.append( reward )\n",
    "    \n",
    "\n",
    "    rewards_p.append( rewards_tmp ) \n",
    "    \n"
   ]
  },
  {
   "cell_type": "code",
   "execution_count": 18,
   "metadata": {},
   "outputs": [],
   "source": [
    "regrets_bmop = []; delta_regrets_bmop = []\n",
    "\n",
    "for j in range(len(rewards_p)): \n",
    "    \n",
    "    regret_tmp = []; delta_regret_tmp = []; \n",
    "\n",
    "    for i in range(len(rewards_p[j])):\n",
    "        \n",
    "        regret = max([0, MAX_REWARD - rewards_p[j][i] ]) \n",
    "        delta_regret = max([0, delta_MAX - rewards_p[j][i] ])  \n",
    "        \n",
    "        regret_tmp.append(regret) \n",
    "        \n",
    "        delta_regret_tmp.append( delta_regret )\n",
    "        \n",
    "    regrets_bmop.append( regret_tmp ) \n",
    "    delta_regrets_bmop.append( delta_regret_tmp )"
   ]
  },
  {
   "cell_type": "code",
   "execution_count": 19,
   "metadata": {},
   "outputs": [
    {
     "data": {
      "image/png": "[encoded data removed]",
      "text/plain": [
       "<Figure size 432x288 with 1 Axes>"
      ]
     },
     "metadata": {
      "needs_background": "light"
     },
     "output_type": "display_data"
    }
   ],
   "source": [
    "for i in range(10):\n",
    "    data_delta = np.cumsum( delta_regrets_bmop[i] )\n",
    "    plt.plot( data_delta, label='{}'.format(i) ) \n",
    "plt.legend()\n",
    "plt.show()"
   ]
  },
  {
   "cell_type": "code",
   "execution_count": 20,
   "metadata": {},
   "outputs": [],
   "source": [
    "regret_m_delta = np.mean(np.cumsum(delta_regrets_bmop, axis=1), axis=0)\n",
    "regret_std_delta = np.std(np.cumsum(delta_regrets_bmop, axis=1), axis=0)"
   ]
  },
  {
   "cell_type": "code",
   "execution_count": 21,
   "metadata": {},
   "outputs": [
    {
     "data": {
      "image/png": "[encoded data removed]",
      "text/plain": [
       "<Figure size 432x288 with 1 Axes>"
      ]
     },
     "metadata": {
      "needs_background": "light"
     },
     "output_type": "display_data"
    }
   ],
   "source": [
    "plt.plot(regret_m_delta)\n",
    "plt.fill_between(np.array(range(len(regret_m_delta))), \n",
    "                                regret_m_delta - regret_std_delta, regret_m_delta + regret_std_delta, alpha=0.1, color='r')\n",
    "plt.show()"
   ]
  },
  {
   "cell_type": "code",
   "execution_count": 22,
   "metadata": {},
   "outputs": [],
   "source": [
    "np.savetxt('bmop_delta.csv', delta_regrets_bmop)\n",
    "# np.savetxt('bmop.csv', regrets_bmop)"
   ]
  },
  {
   "cell_type": "code",
   "execution_count": null,
   "metadata": {},
   "outputs": [],
   "source": []
  }
 ],
 "metadata": {
  "kernelspec": {
   "display_name": "Python 3 (ipykernel)",
   "language": "python",
   "name": "python3"
  },
  "language_info": {
   "codemirror_mode": {
    "name": "ipython",
    "version": 3
   },
   "file_extension": ".py",
   "mimetype": "text/x-python",
   "name": "python",
   "nbconvert_exporter": "python",
   "pygments_lexer": "ipython3",
   "version": "3.8.8"
  },
  "vscode": {
   "interpreter": {
    "hash": "37548702c2f54b096bb9f9be13c433d20d272ff03f3af3fb72cba1f38f113e47"
   }
  }
 },
 "nbformat": 4,
 "nbformat_minor": 2
}
