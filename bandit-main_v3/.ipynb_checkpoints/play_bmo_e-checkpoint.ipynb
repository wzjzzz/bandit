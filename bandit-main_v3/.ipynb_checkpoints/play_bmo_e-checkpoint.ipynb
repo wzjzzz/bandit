{
 "cells": [
  {
   "cell_type": "code",
   "execution_count": 1,
   "id": "14feb16e",
   "metadata": {},
   "outputs": [],
   "source": [
    "from bandit_e import BMO_E\n",
    "\n",
    "from itertools import product\n",
    "import numpy as np\n",
    "from tqdm import tqdm\n",
    "\n",
    "import matplotlib.pyplot as plt\n",
    "\n",
    "class cube:\n",
    "    def __init__(self, x, ys, xs, cube_length, d=1, reward=0):\n",
    "        '''\n",
    "        Parameters\n",
    "        ----------\n",
    "        x : TYPE: list or numpy.array\n",
    "            'bottom left' point of initial cube, \n",
    "            'bottom left' means the coordinates of other points in the cube are not less than this point\n",
    "            for example: the 'bottom left' point of cube [(0,0),(1,0),(0,1),(1,1)] is (0,0)\n",
    "        cube_length : TYPE: float\n",
    "            edge length of cube\n",
    "        d : TYPE, int\n",
    "            dimension of cube\n",
    "        reward: TYPE, float\n",
    "            mean reward of the cube\n",
    "        '''\n",
    "        self.x = x\n",
    "        self.cube_length = cube_length\n",
    "        self.d = d\n",
    "        self.ys = ys\n",
    "        self.xs = xs       \n",
    "        self.children = []\n",
    "        \n",
    "        \n",
    "    def split(self):\n",
    "        '''split by dyadic'''\n",
    "        new_cube_length = self.cube_length / 2\n",
    "        candidate_idx = np.array(list(product([0,1], repeat=self.d)))\n",
    "        for idx in candidate_idx:\n",
    "            new_x = self.x + idx * new_cube_length\n",
    "            if not np.array(self.xs).any():\n",
    "                new_cube = cube(new_x, [], [], new_cube_length)\n",
    "            else:\n",
    "                new_xs, new_ys = self.update_xy(self.xs, self.ys, new_x, new_cube_length)\n",
    "                new_cube = cube(new_x, new_ys, new_xs, new_cube_length)\n",
    "            new_cube.parent = self\n",
    "            self.children.append(new_cube)\n",
    "        return self.children\n",
    "    \n",
    "    \n",
    "    def insert_point(self, x, y):\n",
    "        if (x >= self.x).all() and (x <= (self.x+self.cube_length)).all():\n",
    "            self.xs.append(x)\n",
    "            self.ys.append(y)\n",
    "    \n",
    "\n",
    "        \n",
    "        \n",
    "        \n",
    "    def update_xy(self, parent_xs, parent_ys, child_x, child_cube_length):\n",
    "        xs = np.array(parent_xs).copy()\n",
    "        ys = np.array(parent_ys).copy()\n",
    "        condition = ((xs >= child_x) & (xs <= child_x + child_cube_length)).all(axis=1)\n",
    "        try:\n",
    "            return xs[condition], ys[condition]\n",
    "        except:\n",
    "            print(child_x)\n",
    "            print(ys.shape)\n",
    "    \n",
    "    \n",
    "    \n",
    "    def mean_reward(self):\n",
    "        return np.mean(self.ys)\n",
    "        \n",
    "        \n",
    "\n",
    "            \n",
    "        \n",
    "class BMO_E:\n",
    "    def __init__(self, T, init_x, init_cube_length, eta, epsilon, delta, c, data, split_times=1):\n",
    "        '''\n",
    "        Parameters\n",
    "        ----------\n",
    "        B : TYPE: int\n",
    "            total batch number\n",
    "        init_x : TYPE: list or numpy.array\n",
    "            'bottom left' point of initial cube, \n",
    "            'bottom le8ft' means the coordinates of other points in the cube are not less than this point\n",
    "            for example: the 'bottom left' point of cube [(0,0),(1,0),(0,1),(1,1)] is (0,0)\n",
    "        init_cube_length :TYPE: float\n",
    "            edge length of initial cube\n",
    "\n",
    "        '''\n",
    "        \n",
    "        self.init_cubes = [cube(np.array(init_x), [], [], init_cube_length)]\n",
    "        #self.regrets = []  #regret list of each batch\n",
    "        self.T = T   #time horizon\n",
    "        self.s_cubes = []  #cubes surviving each batch\n",
    "        self.cubes = []    #cubes played each batch\n",
    "        self.count = 0     #number of times arm has been played\n",
    "        self.eta = eta\n",
    "        self.epsilon = epsilon\n",
    "        self.delta = delta\n",
    "        self.regrets = []   #regret list\n",
    "        self.cur_regret = 0  #current regret\n",
    "        self.rewards = []\n",
    "        self.arms = []\n",
    "        self.delta_regret = 0\n",
    "        self.split_times = split_times\n",
    "        self.c = c\n",
    "        self.tmp = []\n",
    "        self.data = data\n",
    "        self.c_scale = 6\n",
    "\n",
    "        \n",
    "    \n",
    "    def initialize(self):\n",
    "        \n",
    "        # calcalate f_delta\n",
    "#         print('------initialize--------')\n",
    "#         print('get f_delta:')\n",
    "        self.delta_regret = np.quantile(self.data, 1-self.delta) * self.c_scale\n",
    "        self.m_regret = np.max(self.data) * self.c_scale\n",
    "        \n",
    "        \n",
    "#         print('----play batch 0 ------')\n",
    "        cubes = self.init_cubes\n",
    "        for i in range(self.split_times):\n",
    "            cubes = self.partition(cubes)\n",
    "        self.cubes.append(cubes)\n",
    "        \n",
    "        nb, Hb = self.values4batch()\n",
    "#         print('Hb', Hb)\n",
    "        self.play_one_batch(cubes, nb)\n",
    "#         print('have play {} times totally'.format(self.count))\n",
    "        \n",
    "        s_cubes = self.elimination(cubes, Hb)\n",
    "        self.s_cubes.append(s_cubes)\n",
    "        \n",
    "        \n",
    "          \n",
    "    def values4batch(self):\n",
    "        '''\n",
    "        get some values related to batch\n",
    "        \n",
    "        Returns\n",
    "        -------\n",
    "        nb : playtimes of batch\n",
    "        Hb : Hoeffding bound of batch\n",
    "        '''\n",
    "        phi = np.max([np.log(self.T**2/self.epsilon), 2*np.log2(1/self.eta)])\n",
    "        denominator = phi * np.sqrt(2*np.log(2*self.T**2/self.epsilon))\n",
    "        \n",
    "#         denominator = np.sqrt(np.log(self.T/self.epsilon))\n",
    "        \n",
    "        cube_length = self.cubes[-1][-1].cube_length\n",
    "        d = self.cubes[-1][-1].d\n",
    "        mu_cube = pow(cube_length, d)\n",
    "        numerator = self.c * np.log(mu_cube/self.eta)\n",
    "        \n",
    "        nb_sqrt = np.floor(denominator / numerator)\n",
    "        \n",
    "        nb = pow(nb_sqrt, 2)\n",
    "#         print(nb)\n",
    "        Hb = denominator / np.sqrt(nb)\n",
    "#         print('Hb', Hb)\n",
    "        \n",
    "        return int(nb), Hb\n",
    "        \n",
    "        \n",
    "    def partition(self, cubes):\n",
    "        '''\n",
    "        cubes: list of cubes to be split\n",
    "        '''\n",
    "        new_cubes = []\n",
    "        for cube in cubes:\n",
    "            new_cubes_ = cube.split()\n",
    "            new_cubes += new_cubes_\n",
    "        return new_cubes\n",
    "    \n",
    "    \n",
    "    \n",
    "    def play_one_batch(self, cubes, nb):\n",
    "#         print('every cube need to be played {} times this batch'.format(nb))\n",
    "        \n",
    "        for cube in cubes:\n",
    "            cube_nb = max(0, nb - len(cube.xs))\n",
    "            for t in range(cube_nb):\n",
    "                cube_nb = max(0, nb - len(cube.xs))\n",
    "                self.count += 1\n",
    "                if self.count > self.T:\n",
    "                    break\n",
    "                arm = self.sample(cube)\n",
    "                self.arms.append(arm)\n",
    "                observation, reward = self.get_reward(arm)\n",
    "                cube.xs = list(cube.xs) + [arm]\n",
    "                cube.ys = list(cube.ys) + [observation]\n",
    "                \n",
    "                self.cur_regret += max(self.delta_regret - reward, 0)\n",
    "                self.regrets.append(self.cur_regret)\n",
    "                self.rewards.append(reward)\n",
    "                \n",
    "            if self.count > self.T:\n",
    "                break\n",
    "                \n",
    "                \n",
    "\n",
    "        \n",
    "            \n",
    "    def elimination(self, cubes, Hb):\n",
    "        rewards = [cube.mean_reward() for cube in cubes]\n",
    "        max_reward = np.max(rewards)\n",
    "        rewards_diff = max_reward - rewards\n",
    "        s_cubes_idx = np.where(rewards_diff <= (2+1/self.c)*Hb)[0]\n",
    "        s_cubes = [cubes[idx] for idx in s_cubes_idx]\n",
    "        return s_cubes\n",
    "                \n",
    "        \n",
    "    def sample(self, cube):\n",
    "        arm = np.random.uniform(cube.x, cube.x+cube.cube_length)\n",
    "        return arm\n",
    "        \n",
    "    \n",
    "    def get_reward(self, arm):\n",
    "        '''  get function value of arm\n",
    "        function: bmo function in [-1, 1]\n",
    "        arm: shape (1, 1) in this example\n",
    "        '''\n",
    "        x = arm[0]\n",
    "        x = int(np.floor(x*len(self.data)))\n",
    "        reward = self.data[x]\n",
    "        reward = reward * self.c_scale\n",
    "        observation = np.random.normal(reward, 0.1)\n",
    "        return observation, reward\n",
    "\n",
    "    \n",
    "    \n",
    "    def play(self):\n",
    "        self.initialize()\n",
    "        for b in range(1, self.T):\n",
    "#             print('----play batch {} ------'.format(b))\n",
    "            cubes = self.partition(self.s_cubes[-1])\n",
    "            if self.count > self.T:\n",
    "                break\n",
    "                \n",
    "            \n",
    "            self.cubes.append(cubes)\n",
    "            nb, Hb = self.values4batch()\n",
    "#             print('Hb', Hb)\n",
    "\n",
    "            self.play_one_batch(cubes, nb)\n",
    "#             print('have play {} times totally'.format(self.count-1))\n",
    "            \n",
    "            s_cubes = self.elimination(cubes, Hb)\n",
    "            self.s_cubes.append(s_cubes)\n",
    "            \n",
    "            \n",
    "    def plot(self):\n",
    "        self.play()\n",
    "        scale_rewards = self.rewards\n",
    "        delta_regret = self.delta_regret\n",
    "        m_regret = self.m_regret\n",
    "        #scale_rewards = [(np.log(reward*8000) - 8.693) / 2.427 for reward in self.rewards]\n",
    "        #delta_regret = (np.log(self.delta_regret*8000) - 8.693) / 2.427\n",
    "        scale_regrets = [max(0, delta_regret - reward) for reward in scale_rewards]\n",
    "        regrets = [(m_regret - reward) for reward in scale_rewards]\n",
    "        #plt.plot(np.cumsum(scale_regrets))\n",
    "        #plt.plot(np.cumsum(regrets))\n",
    "        #plt.show()\n",
    "\n",
    "        print('cubes num:', [len(cubes) for cubes in self.cubes])\n",
    "        print('s_cubes num:', [len(cubes) for cubes in self.s_cubes])\n",
    "        \n",
    "        return scale_regrets, regrets\n"
   ]
  },
  {
   "cell_type": "code",
   "execution_count": 2,
   "id": "c3e6afcd",
   "metadata": {},
   "outputs": [
    {
     "data": {
      "image/png": "[encoded data removed]",
      "text/plain": [
       "<Figure size 432x288 with 1 Axes>"
      ]
     },
     "metadata": {
      "needs_background": "light"
     },
     "output_type": "display_data"
    }
   ],
   "source": [
    "import pandas as pd\n",
    "df = pd.read_csv('../TSLA.csv')\n",
    "plt.plot(df['Adj Close'])\n",
    "plt.show()"
   ]
  },
  {
   "cell_type": "code",
   "execution_count": 3,
   "id": "3c935f61",
   "metadata": {},
   "outputs": [
    {
     "data": {
      "image/png": "[encoded data removed]",
      "text/plain": [
       "<Figure size 432x288 with 1 Axes>"
      ]
     },
     "metadata": {
      "needs_background": "light"
     },
     "output_type": "display_data"
    }
   ],
   "source": [
    "windows = 10\n",
    "data = df['Adj Close'].rolling(windows).std()[windows-1:].values\n",
    "plt.plot(data)\n",
    "plt.show()"
   ]
  },
  {
   "cell_type": "code",
   "execution_count": 4,
   "id": "5fc480c7",
   "metadata": {
    "scrolled": false
   },
   "outputs": [
    {
     "name": "stdout",
     "output_type": "stream",
     "text": [
      "cubes num: [4, 8, 16, 32, 14, 22, 12, 4, 4, 2, 4, 6]\n",
      "s_cubes num: [4, 8, 16, 7, 11, 6, 2, 2, 1, 2, 3, 3]\n",
      "cubes num: [4, 8, 16, 32, 14, 22, 10, 4, 4, 2, 4, 6]\n",
      "s_cubes num: [4, 8, 16, 7, 11, 5, 2, 2, 1, 2, 3, 3]\n",
      "cubes num: [4, 8, 16, 32, 16, 22, 12, 4, 4, 2, 4, 6]\n",
      "s_cubes num: [4, 8, 16, 8, 11, 6, 2, 2, 1, 2, 3, 3]\n",
      "cubes num: [4, 8, 16, 32, 16, 22, 8, 2, 4, 2, 4, 6]\n",
      "s_cubes num: [4, 8, 16, 8, 11, 4, 1, 2, 1, 2, 3, 3]\n",
      "cubes num: [4, 8, 16, 32, 14, 22, 10, 2, 4, 2, 4, 6]\n",
      "s_cubes num: [4, 8, 16, 7, 11, 5, 1, 2, 1, 2, 3, 3]\n",
      "cubes num: [4, 8, 16, 32, 14, 24, 20, 6, 4, 2, 4, 6]\n",
      "s_cubes num: [4, 8, 16, 7, 12, 10, 3, 2, 1, 2, 3, 3]\n",
      "cubes num: [4, 8, 16, 32, 14, 22, 12, 6, 4, 2, 4, 6]\n",
      "s_cubes num: [4, 8, 16, 7, 11, 6, 3, 2, 1, 2, 3, 3]\n",
      "cubes num: [4, 8, 16, 32, 16, 24, 30, 6, 6, 2, 4, 6]\n",
      "s_cubes num: [4, 8, 16, 8, 12, 15, 3, 3, 1, 2, 3, 3]\n",
      "cubes num: [4, 8, 16, 32, 14, 20, 8, 2, 4, 2, 4, 6]\n",
      "s_cubes num: [4, 8, 16, 7, 10, 4, 1, 2, 1, 2, 3, 3]\n",
      "cubes num: [4, 8, 16, 32, 16, 24, 22, 2, 4, 2, 4, 6]\n",
      "s_cubes num: [4, 8, 16, 8, 12, 11, 1, 2, 1, 2, 3, 3]\n"
     ]
    }
   ],
   "source": [
    "T = 10000\n",
    "init_x = [0]\n",
    "init_cube_length = 1\n",
    "eta = 1e-4\n",
    "epsilon = 1e-2\n",
    "delta = 1e-3\n",
    "c = 6\n",
    "split_times = 2\n",
    "\n",
    "regrets_all = []\n",
    "regrets_delta_all = []\n",
    "for _ in range(10):\n",
    "    A = BMO_E(T, init_x, init_cube_length, eta, epsilon, delta, c, data, split_times=split_times)\n",
    "    regrets_delta, regrets = A.plot()\n",
    "    regrets_all.append(regrets)\n",
    "    regrets_delta_all.append(regrets_delta)"
   ]
  },
  {
   "cell_type": "code",
   "execution_count": 5,
   "id": "db184ac4",
   "metadata": {},
   "outputs": [
    {
     "data": {
      "image/png": "[encoded data removed]",
      "text/plain": [
       "<Figure size 432x288 with 1 Axes>"
      ]
     },
     "metadata": {
      "needs_background": "light"
     },
     "output_type": "display_data"
    }
   ],
   "source": [
    "import matplotlib.pyplot as plt\n",
    "import numpy as np\n",
    "# for i in range(10):\n",
    "#     plt.plot(np.cumsum(regrets_all, axis=1)[i], label='{}'.format(i))\n",
    "# plt.legend()\n",
    "# plt.show()\n",
    "\n",
    "for i in range(10):\n",
    "    plt.plot(np.cumsum(regrets_delta_all, axis=1)[i], label='{}'.format(i))\n",
    "plt.legend()\n",
    "plt.show()"
   ]
  },
  {
   "cell_type": "code",
   "execution_count": 6,
   "id": "abfb696e",
   "metadata": {},
   "outputs": [
    {
     "data": {
      "image/png": "[encoded data removed]",
      "text/plain": [
       "<Figure size 432x288 with 1 Axes>"
      ]
     },
     "metadata": {
      "needs_background": "light"
     },
     "output_type": "display_data"
    }
   ],
   "source": [
    "for i in range(10):\n",
    "    plt.plot(np.cumsum(regrets_all, axis=1)[i], label='{}'.format(i))\n",
    "plt.legend()\n",
    "plt.show()"
   ]
  },
  {
   "cell_type": "code",
   "execution_count": 7,
   "id": "9daf761b",
   "metadata": {},
   "outputs": [],
   "source": [
    "regret_m = np.mean(np.cumsum(regrets_all, axis=1), axis=0)\n",
    "regret_std = np.std(np.cumsum(regrets_all, axis=1), axis=0)\n",
    "regret_m_delta = np.mean(np.cumsum(regrets_delta_all, axis=1), axis=0)\n",
    "regret_std_delta = np.std(np.cumsum(regrets_delta_all, axis=1), axis=0)"
   ]
  },
  {
   "cell_type": "code",
   "execution_count": 8,
   "id": "c2fa9412",
   "metadata": {},
   "outputs": [
    {
     "data": {
      "image/png": "[encoded data removed]",
      "text/plain": [
       "<Figure size 432x288 with 1 Axes>"
      ]
     },
     "metadata": {
      "needs_background": "light"
     },
     "output_type": "display_data"
    }
   ],
   "source": [
    "import matplotlib.pyplot as plt\n",
    "# plt.plot(regret_m)\n",
    "plt.plot(regret_m_delta)\n",
    "# plt.fill_between(np.array(range(len(regret_m))), \n",
    "#                  regret_m - regret_std, regret_m + regret_std, alpha=0.1, color='b')\n",
    "plt.fill_between(np.array(range(len(regret_m_delta))), \n",
    "                                regret_m_delta - regret_std_delta, regret_m_delta + regret_std_delta, alpha=0.1, color='r')\n",
    "plt.show()"
   ]
  },
  {
   "cell_type": "code",
   "execution_count": null,
   "id": "531cef74",
   "metadata": {},
   "outputs": [],
   "source": []
  },
  {
   "cell_type": "code",
   "execution_count": 9,
   "id": "bfb10cb1",
   "metadata": {},
   "outputs": [],
   "source": [
    "import numpy as np\n",
    "np.savetxt('bmo_eli_delta.csv', regrets_delta_all)\n",
    "np.savetxt('bmo_eli.csv', regrets_all)"
   ]
  },
  {
   "cell_type": "code",
   "execution_count": null,
   "id": "da334edb",
   "metadata": {},
   "outputs": [],
   "source": []
  },
  {
   "cell_type": "code",
   "execution_count": null,
   "id": "d00d9949",
   "metadata": {},
   "outputs": [],
   "source": []
  },
  {
   "cell_type": "code",
   "execution_count": null,
   "id": "dff524e6",
   "metadata": {},
   "outputs": [],
   "source": []
  },
  {
   "cell_type": "code",
   "execution_count": null,
   "id": "30d509bf",
   "metadata": {},
   "outputs": [],
   "source": []
  },
  {
   "cell_type": "code",
   "execution_count": null,
   "id": "0068098c",
   "metadata": {},
   "outputs": [],
   "source": []
  }
 ],
 "metadata": {
  "kernelspec": {
   "display_name": "Python 3 (ipykernel)",
   "language": "python",
   "name": "python3"
  },
  "language_info": {
   "codemirror_mode": {
    "name": "ipython",
    "version": 3
   },
   "file_extension": ".py",
   "mimetype": "text/x-python",
   "name": "python",
   "nbconvert_exporter": "python",
   "pygments_lexer": "ipython3",
   "version": "3.8.8"
  },
  "vscode": {
   "interpreter": {
    "hash": "37548702c2f54b096bb9f9be13c433d20d272ff03f3af3fb72cba1f38f113e47"
   }
  }
 },
 "nbformat": 4,
 "nbformat_minor": 5
}
