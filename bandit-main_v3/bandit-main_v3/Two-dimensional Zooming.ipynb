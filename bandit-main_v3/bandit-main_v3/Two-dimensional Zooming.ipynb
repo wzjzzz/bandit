{
 "cells": [
  {
   "cell_type": "code",
   "execution_count": 1,
   "metadata": {},
   "outputs": [],
   "source": [
    "import numpy as np\n",
    "import matplotlib.pyplot as plt\n",
    "from scipy.stats import pareto\n",
    "import abc\n",
    "from tqdm import tqdm\n",
    "import pandas as pd\n",
    "import math"
   ]
  },
  {
   "cell_type": "code",
   "execution_count": 2,
   "metadata": {},
   "outputs": [
    {
     "data": {
      "image/png": "[encoded data removed]",
      "text/plain": [
       "<Figure size 432x288 with 1 Axes>"
      ]
     },
     "metadata": {
      "needs_background": "light"
     },
     "output_type": "display_data"
    }
   ],
   "source": [
    "df = pd.read_csv('../TSLA.csv')\n",
    "plt.plot(df['Adj Close'])\n",
    "plt.show()"
   ]
  },
  {
   "cell_type": "code",
   "execution_count": 3,
   "metadata": {},
   "outputs": [
    {
     "data": {
      "text/plain": [
       "[<matplotlib.lines.Line2D at 0x1e8075a4250>]"
      ]
     },
     "execution_count": 3,
     "metadata": {},
     "output_type": "execute_result"
    },
    {
     "data": {
      "image/png": "[encoded data removed]",
      "text/plain": [
       "<Figure size 432x288 with 1 Axes>"
      ]
     },
     "metadata": {
      "needs_background": "light"
     },
     "output_type": "display_data"
    }
   ],
   "source": [
    "windows = 10\n",
    "data = df.groupby(lambda x:math.floor(x/windows)).std()['Adj Close']\n",
    "plt.plot(data)"
   ]
  },
  {
   "cell_type": "code",
   "execution_count": 4,
   "metadata": {},
   "outputs": [],
   "source": [
    "c_scale = 600\n",
    "def mu(x):\n",
    "    # x in range [0, 1]\n",
    "    x = np.floor(x*len(data))\n",
    "    return data[x] / c_scale\n",
    "#     observation = np.random.normal(reward, 0.1)"
   ]
  },
  {
   "cell_type": "markdown",
   "metadata": {},
   "source": []
  },
  {
   "cell_type": "code",
   "execution_count": 5,
   "metadata": {},
   "outputs": [],
   "source": [
    "delta = 1e-2\n",
    "arms = np.arange(len(data))\n",
    "mu_m_delta = np.quantile(data, 1-delta)\n",
    "mu_m = np.max(data)\n",
    "# mu_m_delta_scale = mu_m_delta\n",
    "# mu_m_scale = mu_m\n",
    "mu_m_delta_scale = mu_m_delta * c_scale\n",
    "mu_m_scale = mu_m * c_scale\n"
   ]
  },
  {
   "cell_type": "code",
   "execution_count": 6,
   "metadata": {},
   "outputs": [],
   "source": [
    "def sample(x, y):\n",
    "    arm = np.random.uniform(x, y)\n",
    "    return arm\n",
    "\n",
    "\n",
    "def get_uncovered_1d(arm, r):\n",
    "    xgrid = [0, 1]\n",
    "    \n",
    "    for aa, rr in zip(arm,  r):\n",
    "        xgrid.append(max(aa - rr, 0))\n",
    "        xgrid.append(min(aa + rr, 1))\n",
    "    \n",
    "    xgrid = sorted(list(set(xgrid)))\n",
    "    \n",
    "    partition = np.zeros(len(xgrid) - 1)\n",
    "    for central, radious in zip(arm, r):\n",
    "        x_b = 0\n",
    "        x_e = 0\n",
    "        for i in range(len(xgrid)):\n",
    "            if xgrid[i] == max(central - radious, -1):\n",
    "                x_b = i\n",
    "                break\n",
    "        for i in range(len(xgrid) - 1, -1, -1):\n",
    "            if xgrid[i] == min(central + radious, 1):\n",
    "                x_e = i\n",
    "                break\n",
    "        for i in range(x_b, x_e, 1):\n",
    "            partition[i] = 1\n",
    "                \n",
    "    for i in range(len(xgrid) - 1):\n",
    "        if partition[i] == 0:\n",
    "            return sample(xgrid[i], xgrid[i+1])\n",
    "    return None"
   ]
  },
  {
   "cell_type": "code",
   "execution_count": 7,
   "metadata": {},
   "outputs": [],
   "source": [
    "class Algorithm(metaclass=abc.ABCMeta):  # abstract class of `Algorithm`\n",
    "    def __init__(self, delta, T, c):\n",
    "        self.delta = delta\n",
    "        self.T = T\n",
    "        self.c = c\n",
    "        self.pulled_idx = None\n",
    "        self.active_arms = None\n",
    "        self.mu = None\n",
    "        self.n = None\n",
    "        self.r = None\n",
    "\n",
    "    @abc.abstractmethod\n",
    "    def initialize(self):\n",
    "        pass\n",
    "\n",
    "    @abc.abstractmethod\n",
    "    def output(self):\n",
    "        pass\n",
    "\n",
    "    @abc.abstractmethod\n",
    "    def observe(self, t, y):\n",
    "        pass\n",
    "\n",
    "    def get_uncovered(self):\n",
    "        return get_uncovered_1d(self.active_arms, self.r)"
   ]
  },
  {
   "cell_type": "code",
   "execution_count": 8,
   "metadata": {},
   "outputs": [],
   "source": [
    "class Zooming(Algorithm):\n",
    "    def __init__(self, delta, T, c, nu):\n",
    "        super().__init__(delta, T, c)\n",
    "        self.nu = nu\n",
    "\n",
    "    def initialize(self):\n",
    "        self.active_arms = []\n",
    "        self.mu = []\n",
    "        self.n = []\n",
    "        self.r = []\n",
    "\n",
    "    def output(self):\n",
    "        uncovered = self.get_uncovered()\n",
    "        if uncovered is None:\n",
    "            score = [mu + 2 * r for mu, r in zip(self.mu, self.r)]\n",
    "            self.pulled_idx = np.argmax(score)\n",
    "        else:\n",
    "            new_arm = uncovered\n",
    "            self.active_arms.append(new_arm)\n",
    "            self.mu.append(0)\n",
    "            self.n.append(0)\n",
    "            self.r.append(0)\n",
    "            self.pulled_idx = len(self.active_arms) - 1\n",
    "        return self.pulled_idx\n",
    "\n",
    "    def observe(self, T, y):\n",
    "        idx = self.pulled_idx\n",
    "        self.mu[idx] = (self.mu[idx] * self.n[idx] + y) / (self.n[idx] + 1)\n",
    "        self.n[idx] += 1\n",
    "        for i, n in enumerate(self.n):\n",
    "#             self.r[i] = self.c * np.sqrt(np.log(T/0.01) / (n+1))\n",
    "            self.r[i] = self.c * np.log(T**2/0.01)*np.sqrt(np.log(T**2/0.01) / (n + 1))"
   ]
  },
  {
   "cell_type": "code",
   "execution_count": 13,
   "metadata": {},
   "outputs": [
    {
     "name": "stderr",
     "output_type": "stream",
     "text": [
      "\r",
      "  0%|                                                                                            | 0/1 [00:00<?, ?it/s]"
     ]
    },
    {
     "data": {
      "image/png": "[encoded data removed]",
      "text/plain": [
       "<Figure size 504x288 with 1 Axes>"
      ]
     },
     "metadata": {
      "needs_background": "light"
     },
     "output_type": "display_data"
    },
    {
     "name": "stderr",
     "output_type": "stream",
     "text": [
      "100%|████████████████████████████████████████████████████████████████████████████████████| 1/1 [00:31<00:00, 31.17s/it]\n"
     ]
    }
   ],
   "source": [
    "def simulate(algorithms, a, alpha, T, trials):\n",
    "    cum_regret = np.zeros((len(algorithms), T + 1))\n",
    "\n",
    "    cum_regret_scale = np.zeros((len(algorithms), T + 1)) #---------\n",
    "    \n",
    "    cum_regret_delta = np.zeros((len(algorithms), T + 1))\n",
    "    \n",
    "    cum_regret_delta_scale = np.zeros((len(algorithms), T + 1))\n",
    "\n",
    "    total_arm = 0\n",
    "    for trial in range(trials):\n",
    "        inst_regret = np.zeros((len(algorithms), T + 1))\n",
    "\n",
    "        inst_regret_scale = np.zeros((len(algorithms), T + 1)) #---------\n",
    "        \n",
    "        inst_regret_delta = np.zeros((len(algorithms), T + 1))\n",
    "        \n",
    "        inst_regret_delta_scale = np.zeros((len(algorithms), T + 1))\n",
    "\n",
    "        for alg in algorithms:\n",
    "            alg.initialize()\n",
    "\n",
    "        for t in range(1, T + 1):\n",
    "            for i, alg in enumerate(algorithms):\n",
    "                idx = alg.output()\n",
    "                arm = alg.active_arms[idx]\n",
    "                #\n",
    "                reward = mu(arm) * c_scale\n",
    "                \n",
    "#                 print(mu(arm))\n",
    "                inst_regret_scale[i, t] = max(mu_m_scale - reward, 0)\n",
    "                #\n",
    "                inst_regret[i, t] = max(mu_m - mu(arm), 0)\n",
    "                \n",
    "                inst_regret_delta[i, t] = max(mu_m_delta - mu(arm), 0)\n",
    "                \n",
    "                inst_regret_delta_scale[i, t] = max(mu_m_delta_scale - reward, 0)\n",
    "                \n",
    "                y = mu(arm) + np.random.normal(0, 0.1)\n",
    "                alg.observe(T, y)\n",
    "                total_arm = len(alg.active_arms)\n",
    "#             print(t,' ',len(alg.active_arms))\n",
    "\n",
    "        cum_regret += inst_regret\n",
    "\n",
    "        cum_regret_scale += inst_regret_scale\n",
    "        \n",
    "        cum_regret_delta += inst_regret_delta\n",
    "        \n",
    "        cum_regret_delta_scale += inst_regret_delta_scale\n",
    "        \n",
    "        \n",
    "        for alg in algorithms:\n",
    "            r = alg.r\n",
    "#     return [total_arm, r, cum_regret / trials, cum_regret_delta / trials]\n",
    "    return [total_arm, r, cum_regret / trials, cum_regret_scale / trials, cum_regret_delta / trials, cum_regret_delta_scale / trials]\n",
    "\n",
    "\n",
    "\n",
    "regrets_all = []\n",
    "regrets_delta_all = []\n",
    "\n",
    "\n",
    "for _ in tqdm(range(1)):\n",
    "\n",
    "    a = 0\n",
    "        # configure parameters of experiments\n",
    "    T = 60000  \n",
    "    trials = 1\n",
    "    delta = 0.1\n",
    "    alpha = 3.1\n",
    "    epsilon = 1\n",
    "\n",
    "    # compute upper bounds for moments of different orders\n",
    "    a_hat = max(abs(a), abs(a - 0.4))\n",
    "    sigma_second = max(alpha / ((alpha - 1) ** 2 * (alpha - 2)), 1 / (36 * np.sqrt(2)))\n",
    "    nu_second = max(a_hat ** 2 + sigma_second, np.power(12 * np.sqrt(2), -(1 + epsilon)))\n",
    "    nu_third = a_hat ** 3 + 2 * alpha * (alpha + 1) / (\n",
    "            (alpha - 1) ** 3 * (alpha - 2) * (alpha - 3)) + 3 * a_hat * sigma_second\n",
    "\n",
    "    # simulate\n",
    "    c_zooming = 0.01\n",
    "\n",
    "    algorithms = [Zooming(delta, T, c_zooming, nu_third)]\n",
    "\n",
    "    # [total, r, cum_regret, cum_regret_delta] = simulate(algorithms, a, alpha, T, trials)\n",
    "    [total, r, cum_regret, cum_regret_scale, cum_regret_delta, cum_regret_delta_scale] = simulate(algorithms, a, alpha, T, trials)\n",
    "#     print(total)\n",
    "#     for i in r:\n",
    "#         print(i)\n",
    "\n",
    "    # plot figure\n",
    "    plt.figure(figsize=(7, 4))\n",
    "    plt.locator_params(axis='x', nbins=5)\n",
    "    plt.locator_params(axis='y', nbins=5)\n",
    "    names = [f'{alg.__class__.__name__}' for alg in algorithms]\n",
    "    linestyles = ['-', '--', '-.']\n",
    "#     for result, name, linestyle in zip(cum_regret, names, linestyles):\n",
    "#         plt.plot(np.cumsum(result), label=name, linewidth=2.0, linestyle=linestyle)\n",
    "\n",
    "#     for result, name, linestyle in zip(cum_regret_delta, names, linestyles):\n",
    "#         plt.plot(np.cumsum(result), label=name, linewidth=2.0, linestyle=linestyle)\n",
    "\n",
    "\n",
    "#         plt.show()\n",
    "\n",
    "#     for result, name, linestyle in zip(cum_regret_scale, names, linestyles): #-------\n",
    "#         plt.plot(np.cumsum(result), label=name, linewidth=2.0, linestyle=linestyle) #-------\n",
    "\n",
    "    for result, name, linestyle in zip(cum_regret_delta_scale, names, linestyles): #-------\n",
    "        plt.plot(np.cumsum(result), label=name, linewidth=2.0, linestyle=linestyle) #-------\n",
    "        \n",
    "        plt.show()\n",
    "    \n",
    "    regrets_all.append(cum_regret_scale.reshape(-1))\n",
    "    regrets_delta_all.append(cum_regret_delta_scale.reshape(-1))\n",
    "    "
   ]
  },
  {
   "cell_type": "code",
   "execution_count": 14,
   "metadata": {},
   "outputs": [
    {
     "data": {
      "image/png": "[encoded data removed]",
      "text/plain": [
       "<Figure size 432x288 with 1 Axes>"
      ]
     },
     "metadata": {
      "needs_background": "light"
     },
     "output_type": "display_data"
    }
   ],
   "source": [
    "# for i in range(10):\n",
    "#     plt.plot(np.cumsum(regrets_all, axis=1)[i], label='{}'.format(i))\n",
    "# plt.legend()\n",
    "# plt.show()\n",
    "\n",
    "for i in range(1):\n",
    "    plt.plot(np.cumsum(regrets_delta_all, axis=1)[i], label='{}'.format(i))\n",
    "plt.legend()\n",
    "plt.show()"
   ]
  },
  {
   "cell_type": "code",
   "execution_count": 15,
   "metadata": {},
   "outputs": [],
   "source": [
    "# regret_m = np.mean(np.cumsum(regrets_all, axis=1), axis=0)\n",
    "# regret_std = np.std(np.cumsum(regrets_all, axis=1), axis=0)\n",
    "regret_m_delta = np.mean(np.cumsum(regrets_delta_all, axis=1), axis=0)\n",
    "regret_std_delta = np.std(np.cumsum(regrets_delta_all, axis=1), axis=0)"
   ]
  },
  {
   "cell_type": "code",
   "execution_count": 16,
   "metadata": {},
   "outputs": [
    {
     "data": {
      "image/png": "[encoded data removed]",
      "text/plain": [
       "<Figure size 432x288 with 1 Axes>"
      ]
     },
     "metadata": {
      "needs_background": "light"
     },
     "output_type": "display_data"
    }
   ],
   "source": [
    "# plt.plot(regret_m)\n",
    "plt.plot(regret_m_delta)\n",
    "# plt.fill_between(np.array(range(len(regret_m))), \n",
    "#                  regret_m - regret_std, regret_m + regret_std, alpha=0.1, color='b')\n",
    "plt.fill_between(np.array(range(len(regret_m_delta))), \n",
    "                                regret_m_delta - regret_std_delta, regret_m_delta + regret_std_delta, alpha=0.1, color='r')\n",
    "plt.show()"
   ]
  },
  {
   "cell_type": "code",
   "execution_count": 17,
   "metadata": {},
   "outputs": [],
   "source": [
    "np.savetxt('zooming_delta.csv', regrets_delta_all)\n",
    "# np.savetxt('zooming.csv', regrets_all)"
   ]
  },
  {
   "cell_type": "code",
   "execution_count": null,
   "metadata": {},
   "outputs": [],
   "source": []
  },
  {
   "cell_type": "code",
   "execution_count": null,
   "metadata": {},
   "outputs": [],
   "source": []
  },
  {
   "cell_type": "code",
   "execution_count": null,
   "metadata": {},
   "outputs": [],
   "source": []
  }
 ],
 "metadata": {
  "kernelspec": {
   "display_name": "Python 3 (ipykernel)",
   "language": "python",
   "name": "python3"
  },
  "language_info": {
   "codemirror_mode": {
    "name": "ipython",
    "version": 3
   },
   "file_extension": ".py",
   "mimetype": "text/x-python",
   "name": "python",
   "nbconvert_exporter": "python",
   "pygments_lexer": "ipython3",
   "version": "3.8.8"
  },
  "toc": {
   "base_numbering": 1,
   "nav_menu": {},
   "number_sections": true,
   "sideBar": true,
   "skip_h1_title": false,
   "title_cell": "Table of Contents",
   "title_sidebar": "Contents",
   "toc_cell": false,
   "toc_position": {},
   "toc_section_display": true,
   "toc_window_display": false
  },
  "vscode": {
   "interpreter": {
    "hash": "37548702c2f54b096bb9f9be13c433d20d272ff03f3af3fb72cba1f38f113e47"
   }
  }
 },
 "nbformat": 4,
 "nbformat_minor": 4
}
