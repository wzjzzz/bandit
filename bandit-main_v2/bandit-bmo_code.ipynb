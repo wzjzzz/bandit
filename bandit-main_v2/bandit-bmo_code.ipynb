{
 "cells": [
  {
   "cell_type": "code",
   "execution_count": 1,
   "metadata": {},
   "outputs": [],
   "source": [
    "import numpy as np \n",
    "\n",
    "import matplotlib.pyplot as plt\n",
    "from itertools import product\n",
    "%matplotlib inline "
   ]
  },
  {
   "cell_type": "code",
   "execution_count": 2,
   "metadata": {},
   "outputs": [],
   "source": [
    "eta = 1e-4;  epsilon = 1e-2"
   ]
  },
  {
   "cell_type": "code",
   "execution_count": 3,
   "metadata": {},
   "outputs": [],
   "source": [
    "def func(x):\n",
    "    reward = -np.log(abs(x)) - np.log(abs(x-1/2)) / 3\n",
    "    reward = reward * 20\n",
    "    \n",
    "    observation = np.random.normal(reward, 0.1)\n",
    "    return reward, observation - reward\n",
    "\n",
    "# def func(z,a): # Styblin-Tang\n",
    "    \n",
    "#     z = z - 0.5; a = a - 0.5\n",
    "    \n",
    "#     z = z * 5; a = a * 5\n",
    "    \n",
    "#     noise = np.random.normal(0,0.1) \n",
    "#     reward =  ((z**4 - 16* z**2 + 5 *z) + (a**4 - 16* a**2 + 5 *a) + 146.875) / 14.6875\n",
    "    \n",
    "#     return (reward, noise) "
   ]
  },
  {
   "cell_type": "code",
   "execution_count": 4,
   "metadata": {},
   "outputs": [],
   "source": [
    "delta = 1e-2\n",
    "from itertools import product\n",
    "linspace = np.linspace(-1,1,100000)\n",
    "arms = list(product(linspace, repeat=1))\n",
    "fun_values = []\n",
    "for arm in arms:\n",
    "    if arm == 0 or arm == 1/2:\n",
    "        continue\n",
    "    fun_values.append(func(arm[0]))\n",
    "fun_values = np.array(fun_values)\n",
    "MAX_REWARD = np.max(fun_values)\n",
    "delta_MAX = np.quantile(fun_values, 1 - delta)"
   ]
  },
  {
   "cell_type": "code",
   "execution_count": 5,
   "metadata": {},
   "outputs": [
    {
     "data": {
      "image/png": "[encoded data removed]",
      "text/plain": [
       "<Figure size 432x288 with 1 Axes>"
      ]
     },
     "metadata": {
      "needs_background": "light"
     },
     "output_type": "display_data"
    }
   ],
   "source": [
    "import matplotlib.pyplot as plt\n",
    "plt.plot(np.linspace(-1, 1, 100000), fun_values)\n",
    "plt.show()"
   ]
  },
  {
   "cell_type": "code",
   "execution_count": null,
   "metadata": {},
   "outputs": [],
   "source": []
  },
  {
   "cell_type": "code",
   "execution_count": 6,
   "metadata": {},
   "outputs": [],
   "source": [
    "class cube():\n",
    "    \n",
    "    def __init__(self, x1_left, x1_right, parent, children, xs, ys, bmo = True):\n",
    "#         print(\"options: {0}\".format(option)) \n",
    "        self.x1_left = x1_left\n",
    "        self.x1_right = x1_right\n",
    "    \n",
    "        self.parent = parent\n",
    "        self.children = children\n",
    "        \n",
    "        self.xs = xs\n",
    "        self.ys = ys\n",
    "            \n",
    "        self.bmo = False    \n",
    "    \n",
    "    def is_terminal(self):\n",
    "        \n",
    "        if len(self.children) == 0:\n",
    "            return True\n",
    "        else:\n",
    "            return False\n",
    "        \n",
    "    def is_preparent(self):\n",
    "        \n",
    "        is_preparent = False\n",
    "        \n",
    "        for c in self.children:\n",
    "            if c.is_terminal(): \n",
    "                return True\n",
    "        \n",
    "        return False\n",
    "    \n",
    "    def is_parent( self ):\n",
    "        \n",
    "        if self.parent is None:\n",
    "            return True\n",
    "        \n",
    "        if self.parent.is_preparent():\n",
    "            return False\n",
    "        else:\n",
    "            return True\n",
    "        \n",
    "    def measure(self): \n",
    "        \n",
    "        return (self.x1_right - self.x1_left)\n",
    "    \n",
    "    def insert_point(self, x1, y): \n",
    "        \n",
    "        if (x1 >= self.x1_left ) & (x1 <= self.x1_right ):\n",
    "                        \n",
    "            self.xs = list(self.xs) + [[x1]] \n",
    "            self.ys = list(self.ys) + [y] \n",
    "            \n",
    "    def insert_all_children(self, x1, y):\n",
    "        \n",
    "        self.insert_point(x1, y) \n",
    "        \n",
    "#         if len(self.children) > 0: \n",
    "            \n",
    "        for j in range(len(self.children)):\n",
    "\n",
    "            q = self.children[j]\n",
    "\n",
    "            q.insert_all_children(x1, y) \n",
    "\n",
    "    \n",
    "#     def observe(self, x1, x2, y):\n",
    "        \n",
    "# #         self.insert_point(x1, x2 , y)\n",
    "        \n",
    "#         self.insert_all_children( x1, x2, y)\n",
    "        \n",
    "#         self.update_children()\n",
    "        \n",
    "    def get_terminals( self ):\n",
    "        \n",
    "#         terminals = []\n",
    "        \n",
    "        if len(self.children) == 0:\n",
    "            return [self] \n",
    "                            \n",
    "        l0 = self.children[0].get_terminals()\n",
    "        l1 = self.children[1].get_terminals()\n",
    "        \n",
    "        return l0 + l1\n",
    "    \n",
    "    \n",
    "    def get_all_cubes(self ):\n",
    "                \n",
    "        if len(self.children) == 0:\n",
    "            return [self] \n",
    "                            \n",
    "        l0 = self.children[0].get_terminals() \n",
    "        l1 = self.children[1].get_terminals() \n",
    "        \n",
    "        return [self] + l0 + l1\n",
    "        \n",
    "#         self.children\n",
    "        \n",
    "#         self.xs.append(x) \n",
    "#         self.ys.append(y) \n",
    "        \n",
    "#         self.update()\n",
    "        \n",
    "    def m(self): \n",
    "        \n",
    "        return np.mean(self.ys) \n",
    "    \n",
    "    def n(self):\n",
    "        \n",
    "        return len(self.ys)\n",
    "    \n",
    "    def get_parent(self):\n",
    "        \n",
    "        if self.parent is None:\n",
    "            return self\n",
    "        \n",
    "        else:\n",
    "            if self.parent.is_parent():\n",
    "#                 if self.parent.colored == False:\n",
    "#                     self.parent.colored = True\n",
    "                return self.parent\n",
    "#                 else:\n",
    "#                     return 'colored'\n",
    "            else:\n",
    "                return self.parent.get_parent() \n",
    "            \n",
    "    def reset_color(self):\n",
    "\n",
    "        self.colored = False\n",
    "        \n",
    "#     def U(self):\n",
    "        \n",
    "#         return self.m() + "
   ]
  },
  {
   "cell_type": "code",
   "execution_count": 7,
   "metadata": {},
   "outputs": [],
   "source": [
    "def update_children(c, bmo = True):\n",
    "    global split_times\n",
    "    \n",
    "    alpha = 0.5\n",
    "        \n",
    "    terminals = c.get_terminals() \n",
    "\n",
    "    updated = False\n",
    "\n",
    "    for q in terminals: \n",
    "\n",
    "        if bmo : \n",
    "#             condition = (np.sqrt(np.log(T/epsilon))/np.sqrt( max([1,q.n()]) ) < alpha * np.log( q.measure() / eta ) )\n",
    "#             print((np.sqrt(np.log(T/epsilon))/np.sqrt( max([1,q.n()]) ),  np.log( q.measure() / eta )) )\n",
    "            \n",
    "            condition = (np.log(T**2/epsilon))*np.sqrt(np.log(T**2/epsilon))/np.sqrt( max([1,q.n()]) ) < alpha * np.log( q.measure() / eta )\n",
    "        else:\n",
    "            condition = (np.sqrt(np.log(T/epsilon))/np.sqrt( 1 + q.n() ) < (q.x1_right - q.x1_left) )\n",
    "\n",
    "        if condition: \n",
    "            split_times += 1\n",
    "\n",
    "            updated = True\n",
    "\n",
    "            l_children = 0\n",
    "\n",
    "            x1_mid = (q.x1_right + q.x1_left) / 2. \n",
    "\n",
    "            xs = np.array( q.xs ).copy(); ys = np.array( q.ys ).copy() \n",
    "            xs1 = xs[:,0].copy()\n",
    "    \n",
    "            xs_tmp = xs[ (xs1 < x1_mid), : ].copy()\n",
    "            ys_tmp = ys[ (xs1 < x1_mid) ].copy()\n",
    "\n",
    "\n",
    "            l_children += len(ys_tmp)\n",
    "\n",
    "            q1 = cube( q.x1_left, x1_mid, \n",
    "                      q, [  ], xs_tmp, ys_tmp, bmo )\n",
    "\n",
    "#                 x1_left, x1_right, x2_left, x2_right, parent, children, xs, ys, bmo = True\n",
    "\n",
    "            xs = np.array( q.xs ).copy(); ys = np.array( q.ys ).copy() \n",
    "            xs1 = xs[:,0].copy()\n",
    "            xs_tmp = xs[ (xs1 >= x1_mid), : ].copy()\n",
    "            ys_tmp = ys[ (xs1 >= x1_mid)  ].copy()\n",
    "\n",
    "            l_children += len(ys_tmp)\n",
    "\n",
    "            q2 = cube( x1_mid, q.x1_right, \n",
    "                      q, [  ], xs_tmp, ys_tmp, bmo )\n",
    "\n",
    "            q.children = [q1, q2] \n",
    "\n",
    "    return updated"
   ]
  },
  {
   "cell_type": "code",
   "execution_count": 8,
   "metadata": {},
   "outputs": [],
   "source": [
    "c = cube( -1., 1., None, [], [], [], True )\n",
    "\n",
    "\n",
    "for _ in range(3000):\n",
    "    \n",
    "    x1 = np.random.uniform(0,1)\n",
    "    y = np.random.uniform(0,1)\n",
    "\n",
    "    c.insert_all_children(x1, y)\n",
    "    \n",
    "#     update_children(c) "
   ]
  },
  {
   "cell_type": "code",
   "execution_count": 10,
   "metadata": {},
   "outputs": [],
   "source": [
    "N = 10000; eta = 1e-4; T = 2 * N"
   ]
  },
  {
   "cell_type": "markdown",
   "metadata": {},
   "source": [
    "# bandit-bmo-z"
   ]
  },
  {
   "cell_type": "code",
   "execution_count": 11,
   "metadata": {},
   "outputs": [
    {
     "name": "stdout",
     "output_type": "stream",
     "text": [
      "0\n"
     ]
    },
    {
     "name": "stderr",
     "output_type": "stream",
     "text": [
      "  0%|                                                                                        | 0/10000 [00:00<?, ?it/s]E:\\anoconda\\anoconda\\lib\\site-packages\\numpy\\core\\fromnumeric.py:3419: RuntimeWarning: Mean of empty slice.\n",
      "  return _methods._mean(a, axis=axis, dtype=dtype,\n",
      "E:\\anoconda\\anoconda\\lib\\site-packages\\numpy\\core\\_methods.py:188: RuntimeWarning: invalid value encountered in double_scalars\n",
      "  ret = ret.dtype.type(ret / rcount)\n",
      "100%|███████████████████████████████████████████████████████████████████████████| 10000/10000 [00:27<00:00, 367.24it/s]\n"
     ]
    },
    {
     "name": "stdout",
     "output_type": "stream",
     "text": [
      "1\n"
     ]
    },
    {
     "name": "stderr",
     "output_type": "stream",
     "text": [
      "100%|███████████████████████████████████████████████████████████████████████████| 10000/10000 [00:25<00:00, 396.92it/s]\n"
     ]
    },
    {
     "name": "stdout",
     "output_type": "stream",
     "text": [
      "2\n"
     ]
    },
    {
     "name": "stderr",
     "output_type": "stream",
     "text": [
      "100%|███████████████████████████████████████████████████████████████████████████| 10000/10000 [00:25<00:00, 393.46it/s]\n"
     ]
    },
    {
     "name": "stdout",
     "output_type": "stream",
     "text": [
      "3\n"
     ]
    },
    {
     "name": "stderr",
     "output_type": "stream",
     "text": [
      "100%|███████████████████████████████████████████████████████████████████████████| 10000/10000 [00:28<00:00, 351.23it/s]\n"
     ]
    },
    {
     "name": "stdout",
     "output_type": "stream",
     "text": [
      "4\n"
     ]
    },
    {
     "name": "stderr",
     "output_type": "stream",
     "text": [
      "100%|███████████████████████████████████████████████████████████████████████████| 10000/10000 [00:27<00:00, 363.95it/s]\n"
     ]
    },
    {
     "name": "stdout",
     "output_type": "stream",
     "text": [
      "5\n"
     ]
    },
    {
     "name": "stderr",
     "output_type": "stream",
     "text": [
      "100%|███████████████████████████████████████████████████████████████████████████| 10000/10000 [00:27<00:00, 357.33it/s]\n"
     ]
    },
    {
     "name": "stdout",
     "output_type": "stream",
     "text": [
      "6\n"
     ]
    },
    {
     "name": "stderr",
     "output_type": "stream",
     "text": [
      "100%|███████████████████████████████████████████████████████████████████████████| 10000/10000 [00:28<00:00, 346.10it/s]\n"
     ]
    },
    {
     "name": "stdout",
     "output_type": "stream",
     "text": [
      "7\n"
     ]
    },
    {
     "name": "stderr",
     "output_type": "stream",
     "text": [
      "100%|███████████████████████████████████████████████████████████████████████████| 10000/10000 [00:29<00:00, 338.27it/s]\n"
     ]
    },
    {
     "name": "stdout",
     "output_type": "stream",
     "text": [
      "8\n"
     ]
    },
    {
     "name": "stderr",
     "output_type": "stream",
     "text": [
      "100%|███████████████████████████████████████████████████████████████████████████| 10000/10000 [00:30<00:00, 328.63it/s]\n"
     ]
    },
    {
     "name": "stdout",
     "output_type": "stream",
     "text": [
      "9\n"
     ]
    },
    {
     "name": "stderr",
     "output_type": "stream",
     "text": [
      "100%|███████████████████████████████████████████████████████████████████████████| 10000/10000 [00:28<00:00, 345.97it/s]\n"
     ]
    }
   ],
   "source": [
    "from tqdm import tqdm\n",
    "arms = []; rewards = []; avg_rewards = []\n",
    "\n",
    "split_times = 0\n",
    "\n",
    "for dummy in range(10):\n",
    "    \n",
    "    rewards_tmp = []; avg_rewards_tmp = []\n",
    "    \n",
    "    print(dummy)\n",
    "    \n",
    "    root = cube( -1, 1., None, [], [], [], True )\n",
    "\n",
    "    for t in tqdm(range(N)): \n",
    "#         print(split_times, t)\n",
    "\n",
    "        terminals = root.get_terminals() \n",
    "\n",
    "        parents = []; Us = []; rs = []; ns = []; children_ns = []\n",
    "\n",
    "        for q in terminals:\n",
    "            p = q.get_parent()\n",
    "            if p not in parents:\n",
    "                parents.append(q.get_parent())\n",
    "\n",
    "        for q in parents:\n",
    "    \n",
    "#             u = q.m() + np.sqrt( np.log(T/epsilon) ) / np.sqrt( max([1, q.n()] ) ) +\\\n",
    "#                        max([0, np.log( q.measure() / eta )  ] )\n",
    "        \n",
    "            u = q.m() + (np.log(T**2/epsilon))*np.sqrt(np.log(T**2/epsilon))/np.sqrt( max([1,q.n()]) ) +\\\n",
    "                       max([0, np.log( q.measure() / eta )  ] )\n",
    "\n",
    "            Us.append( u ) \n",
    "\n",
    "            rs.append( q.x1_right - q.x1_left )\n",
    "            ns.append( len(q.ys) ) \n",
    "\n",
    "            for i in range(len(q.children)):\n",
    "\n",
    "                children_ns.append( len(q.children[i].ys) ) \n",
    "\n",
    "        selected = parents[ np.argmax( Us ) ]\n",
    "\n",
    "        if len( selected.children ) == 0:\n",
    "\n",
    "            x1 = np.random.uniform( selected.x1_left , selected.x1_right )\n",
    "\n",
    "            reward, noise = func(x1) \n",
    "\n",
    "            root.insert_all_children( x1, reward + noise )\n",
    "\n",
    "            updated = True \n",
    "\n",
    "            while updated:\n",
    "\n",
    "                updated = update_children(root)\n",
    "\n",
    "            arms.append((x1))\n",
    "\n",
    "            rewards_tmp.append( reward ) \n",
    "            \n",
    "            xs1 = np.random.uniform( selected.x1_left ,selected.x1_right, size = (1000,1) )\n",
    "            \n",
    "            avg_reward = np.mean( func(xs1)[0] )\n",
    "            \n",
    "            avg_rewards_tmp.append(avg_reward)\n",
    "\n",
    "        else:\n",
    "\n",
    "            for j in range(2):\n",
    "\n",
    "                x1 = np.random.uniform( selected.children[j].x1_left , selected.children[j].x1_right )\n",
    "\n",
    "                reward, noise = func(x1) \n",
    "\n",
    "                root.insert_all_children( x1, reward + noise )\n",
    "\n",
    "                updated = True\n",
    "\n",
    "                while updated:\n",
    "                    \n",
    "                    updated = update_children(root)\n",
    "\n",
    "                arms.append((x1))\n",
    "                \n",
    "                rewards_tmp.append( reward ) \n",
    "                \n",
    "                xs1 = np.random.uniform( selected.children[j].x1_left , selected.children[j].x1_right, size = (1000,1) )\n",
    "#                 xs1 = np.random.uniform(selected.children[j].x1_left , selected.children[j].x1_right)\n",
    "\n",
    "                avg_reward = np.mean( func(xs1)[0] )\n",
    "\n",
    "                avg_rewards_tmp.append(avg_reward)\n",
    "\n",
    "    rewards.append( rewards_tmp ) \n",
    "    \n",
    "    avg_rewards.append(avg_rewards_tmp)"
   ]
  },
  {
   "cell_type": "code",
   "execution_count": 12,
   "metadata": {},
   "outputs": [],
   "source": [
    "# rewards, avg_rewards = pickle.load(open('bmo-bandit-z-res','rb')) \n",
    "rewards.append(rewards_tmp)\n",
    "\n",
    "regrets_bmoz = []; delta_regrets_bmoz = []\n",
    "\n",
    "for j in range(len(rewards)): \n",
    "    \n",
    "    regret_tmp = []; delta_regret_tmp = []; \n",
    "\n",
    "    for i in range(len(rewards[j])):\n",
    "#         reward = np.exp((rewards[j][i] * 2.427) + 8.693)\n",
    "#         MAX_REWARD_ = np.exp(MAX_REWARD * 2.427 + 8.693)\n",
    "#         delta_MAX_ = np.exp(delta_MAX * 2.427 + 8.693)\n",
    "#         regret = max([0, MAX_REWARD_ - reward])\n",
    "#         delta_regret = max([0, delta_MAX_ - avg_rewards[j][i]])\n",
    "        \n",
    "        regret = max([0, MAX_REWARD - rewards[j][i] ]) \n",
    "        delta_regret = max([0, delta_MAX - rewards[j][i] ])  \n",
    "        \n",
    "        regret_tmp.append(regret) \n",
    "        \n",
    "        delta_regret_tmp.append( delta_regret )\n",
    "        \n",
    "    regrets_bmoz.append( regret_tmp ) \n",
    "    delta_regrets_bmoz.append( delta_regret_tmp )"
   ]
  },
  {
   "cell_type": "code",
   "execution_count": 13,
   "metadata": {},
   "outputs": [
    {
     "data": {
      "image/png": "[encoded data removed]",
      "text/plain": [
       "<Figure size 432x288 with 1 Axes>"
      ]
     },
     "metadata": {
      "needs_background": "light"
     },
     "output_type": "display_data"
    }
   ],
   "source": [
    "data_delta = np.cumsum( delta_regrets_bmoz[0] )\n",
    "data = np.cumsum(regrets_bmoz[0])\n",
    "plt.plot( data_delta ) \n",
    "plt.plot(data)\n",
    "plt.show()\n",
    "np.savetxt('bmo_zooming_delta.csv',data_delta)\n",
    "# plt.plot( np.cumsum( regrets_bmoz[0] ) ) \n",
    "np.savetxt('bmo_zooming.csv', data)\n"
   ]
  },
  {
   "cell_type": "code",
   "execution_count": 14,
   "metadata": {},
   "outputs": [],
   "source": [
    "# depth = []\n",
    "# for cube in root.get_terminals():\n",
    "#     i = 0\n",
    "#     while cube.parent:\n",
    "#         cube = cube.parent\n",
    "#         i += 1\n",
    "#     depth.append(i)\n",
    "# depth"
   ]
  },
  {
   "cell_type": "code",
   "execution_count": 15,
   "metadata": {},
   "outputs": [],
   "source": [
    "regret_m = np.mean(np.cumsum(regrets_bmoz, axis=1), axis=0)\n",
    "regret_std = np.std(np.cumsum(regrets_bmoz, axis=1), axis=0) ** 2\n",
    "regret_m_delta = np.mean(np.cumsum(delta_regrets_bmoz, axis=1), axis=0)\n",
    "regret_std_delta = np.std(np.cumsum(delta_regrets_bmoz, axis=1), axis=0) ** 2"
   ]
  },
  {
   "cell_type": "code",
   "execution_count": 16,
   "metadata": {},
   "outputs": [
    {
     "data": {
      "image/png": "[encoded data removed]",
      "text/plain": [
       "<Figure size 432x288 with 1 Axes>"
      ]
     },
     "metadata": {
      "needs_background": "light"
     },
     "output_type": "display_data"
    }
   ],
   "source": [
    "plt.plot(regret_m)\n",
    "plt.plot(regret_m_delta)\n",
    "plt.fill_between(np.array(range(len(regret_m))), \n",
    "                 regret_m - regret_std, regret_m + regret_std, alpha=0.1, color='b')\n",
    "plt.fill_between(np.array(range(len(regret_m_delta))), \n",
    "                                regret_m_delta - regret_std_delta, regret_m_delta + regret_std_delta, alpha=0.1, color='r')\n",
    "plt.show()"
   ]
  },
  {
   "cell_type": "code",
   "execution_count": 17,
   "metadata": {},
   "outputs": [],
   "source": [
    "np.savetxt('bmoz_delta.csv', regret_m_delta)\n",
    "np.savetxt('bmoz.csv', regret_m)\n",
    "np.savetxt('bmoz_std.csv', regret_std)\n",
    "np.savetxt('bmoz_std_delta.csv', regret_std_delta)"
   ]
  },
  {
   "cell_type": "code",
   "execution_count": null,
   "metadata": {},
   "outputs": [],
   "source": []
  },
  {
   "cell_type": "code",
   "execution_count": null,
   "metadata": {},
   "outputs": [],
   "source": []
  },
  {
   "cell_type": "markdown",
   "metadata": {},
   "source": [
    "# bandit-bmo-p"
   ]
  },
  {
   "cell_type": "code",
   "execution_count": 13,
   "metadata": {},
   "outputs": [
    {
     "name": "stdout",
     "output_type": "stream",
     "text": [
      "0\n"
     ]
    },
    {
     "name": "stderr",
     "output_type": "stream",
     "text": [
      "100%|████████████████████████████████████████████████████████████████████████████| 80000/80000 [17:10<00:00, 77.65it/s]\n"
     ]
    }
   ],
   "source": [
    "arms = []; rewards = []; avg_rewards = []; \n",
    "\n",
    "for dummy in range(1):\n",
    "    \n",
    "    print(dummy)\n",
    "    \n",
    "    rewards_tmp = []; avg_rewards_tmp = []\n",
    "    \n",
    "    root = cube( 0., 1., 0., 1., None, [], [], [], True )\n",
    "\n",
    "    for t in tqdm(range(N * 4)): \n",
    "\n",
    "        terminals = root.get_terminals() \n",
    "\n",
    "        Us = []; \n",
    "\n",
    "        for q in terminals:\n",
    "\n",
    "            u = q.m() + np.sqrt( np.log(T/epsilon) ) / np.sqrt( max([1, q.n()] ) ) +\\\n",
    "                       max([0, np.log( q.measure() / eta )  ] )\n",
    "\n",
    "            Us.append( u ) \n",
    "\n",
    "        selected = terminals[ np.argmax( Us ) ]\n",
    "\n",
    "        x1 = np.random.uniform( selected.x1_left , selected.x1_right )\n",
    "        x2 = np.random.uniform( selected.x2_left , selected.x2_right ) \n",
    "\n",
    "        reward, noise = func(x1, x2) \n",
    "\n",
    "        root.insert_all_children( x1, x2, reward + noise )\n",
    "\n",
    "        updated = True \n",
    "\n",
    "        while updated:\n",
    "            updated = update_children(root) \n",
    "\n",
    "        arms.append((x1,x2))\n",
    "        \n",
    "        rewards_tmp.append( reward )\n",
    "        \n",
    "        xs1 = np.random.uniform( selected.x1_left , selected.x1_right, size = (1000,1) )\n",
    "        xs2 = np.random.uniform( selected.x2_left , selected.x2_right, size = (1000,1) )\n",
    "\n",
    "        avg_reward = np.mean( func(xs1, xs2)[0] )\n",
    "        \n",
    "        avg_rewards_tmp.append( avg_reward ) \n",
    "\n",
    "    rewards.append( rewards_tmp ) \n",
    "    \n",
    "    avg_rewards.append( avg_rewards_tmp ) \n"
   ]
  },
  {
   "cell_type": "code",
   "execution_count": 15,
   "metadata": {},
   "outputs": [],
   "source": [
    "# rewards, avg_rewards = pickle.load(open('bmo-bandit-p-res','rb')) \n",
    "\n",
    "regrets_bmop = []; delta_regrets_bmop = []\n",
    "\n",
    "for j in range(len(rewards)): \n",
    "    \n",
    "    regret_tmp = []; delta_regret_tmp = []; \n",
    "\n",
    "    for i in range(len(rewards[j])):\n",
    "\n",
    "        regret = max([0, MAX_REWARD - rewards[j][i] ]) \n",
    "        delta_regret = max([0, delta_MAX - avg_rewards[j][i] ])  \n",
    "        \n",
    "        regret_tmp.append(regret) \n",
    "        \n",
    "        delta_regret_tmp.append( delta_regret )\n",
    "        \n",
    "    regrets_bmop.append( regret_tmp ) \n",
    "    delta_regrets_bmop.append( delta_regret_tmp )"
   ]
  },
  {
   "cell_type": "code",
   "execution_count": 16,
   "metadata": {},
   "outputs": [
    {
     "data": {
      "image/png": "[encoded data removed]",
      "text/plain": [
       "<Figure size 432x288 with 1 Axes>"
      ]
     },
     "metadata": {
      "needs_background": "light"
     },
     "output_type": "display_data"
    }
   ],
   "source": [
    "data_delta = np.cumsum( delta_regrets_bmop[0] )\n",
    "data = np.cumsum(regrets_bmop[0])\n",
    "plt.plot( data_delta ) \n",
    "plt.plot(data)\n",
    "np.savetxt('bmo_partition_delta.csv',data_delta)\n",
    "# plt.plot( np.cumsum( regrets_bmoz[0] ) ) \n",
    "np.savetxt('bmo_partition.csv', data)\n"
   ]
  },
  {
   "cell_type": "code",
   "execution_count": null,
   "metadata": {},
   "outputs": [],
   "source": []
  },
  {
   "cell_type": "code",
   "execution_count": null,
   "metadata": {},
   "outputs": [],
   "source": []
  },
  {
   "cell_type": "code",
   "execution_count": null,
   "metadata": {},
   "outputs": [],
   "source": []
  },
  {
   "cell_type": "code",
   "execution_count": null,
   "metadata": {},
   "outputs": [],
   "source": []
  },
  {
   "cell_type": "code",
   "execution_count": null,
   "metadata": {},
   "outputs": [],
   "source": []
  },
  {
   "cell_type": "code",
   "execution_count": null,
   "metadata": {},
   "outputs": [],
   "source": []
  },
  {
   "cell_type": "code",
   "execution_count": null,
   "metadata": {},
   "outputs": [],
   "source": [
    "regrets_bmoz_m = np.mean( regrets_bmoz, axis = 0 )\n",
    "regrets_bmoz_std = np.std( np.cumsum(regrets_bmoz, axis = 1), axis = 0 ) ** 2\n",
    "\n",
    "delta_regrets_bmoz_m = np.mean( delta_regrets_bmoz, axis = 0 )\n",
    "delta_regrets_bmoz_std = np.std( np.cumsum(delta_regrets_bmoz, axis = 1), axis = 0 ) ** 2\n",
    "\n",
    "# regrets_bmop_m = np.mean( regrets_bmop, axis = 0 ) \n",
    "# regrets_bmop_std = np.std( np.cumsum(regrets_bmop, axis = 1), axis = 0 ) ** 2\n",
    "\n",
    "# delta_regrets_bmop_m = np.mean( delta_regrets_bmop, axis = 0 ) \n",
    "# delta_regrets_bmop_std = np.std( np.cumsum(delta_regrets_bmop, axis = 1), axis = 0 ) ** 2\n"
   ]
  },
  {
   "cell_type": "code",
   "execution_count": null,
   "metadata": {},
   "outputs": [],
   "source": [
    "plt.rcParams['font.size'] = 18\n",
    "# plt.rcParams['font.size'] = 15\n",
    "plt.rcParams['figure.figsize'] = 6,5\n",
    "\n",
    "plt.rcParams[\"legend.loc\"] = 'upper left' \n",
    "\n",
    "l1, = plt.plot(np.cumsum(regrets_bmoz_m), label = 'Traditional regret', c = 'b')\n",
    "l3, = plt.plot(np.cumsum(delta_regrets_bmoz_m), label = '$\\delta$-regret', c = 'g')\n",
    "\n",
    "# l2, = plt.plot(np.cumsum(regrets_bmop_m), label = '$Bandit$-$BMO$-$P_t$', c = 'r')\n",
    "# l4, = plt.plot(np.cumsum(delta_regrets_bmop_m), label = '$Bandit$-$BMO$-$P_\\delta$', c = 'c')\n",
    "\n",
    "plt.fill_between( np.array(range(len(regrets_bmoz_m))) ,  \n",
    "                      np.cumsum(regrets_bmoz_m) - regrets_bmoz_std ,  \n",
    "                     np.cumsum(regrets_bmoz_m) + regrets_bmoz_std , \n",
    "                      alpha = 0.2, color = 'b' ) \n",
    "\n",
    "plt.fill_between( np.array(range(len(delta_regrets_bmoz_m))) ,  \n",
    "                      np.cumsum(delta_regrets_bmoz_m) - delta_regrets_bmoz_std ,  \n",
    "                     np.cumsum(delta_regrets_bmoz_m) + delta_regrets_bmoz_std , \n",
    "                      alpha = 0.2, color = 'g' ) \n",
    "\n",
    "# plt.fill_between( np.array(range(len(regrets_bmop_m))) ,  \n",
    "#                       np.cumsum(regrets_bmop_m) - regrets_bmop_std ,  \n",
    "#                      np.cumsum(regrets_bmop_m) + regrets_bmop_std , \n",
    "#                       alpha = 0.2, color = 'r' )\n",
    "\n",
    "# plt.fill_between( np.array(range(len(delta_regrets_bmop_m))) ,  \n",
    "#                       np.cumsum(delta_regrets_bmop_m) - delta_regrets_bmop_std ,  \n",
    "#                      np.cumsum(delta_regrets_bmop_m) + delta_regrets_bmop_std , \n",
    "#                       alpha = 0.2, color = 'c' ) \n",
    "\n",
    "plt.legend(handles = [l1,l3]) \n",
    "\n",
    "plt.ticklabel_format(style = 'sci', scilimits = (0,0))\n",
    "\n",
    "plt.ylabel('Regret / $\\delta$-regret')\n",
    "\n",
    "plt.xlabel('Number of Trials')\n",
    "\n",
    "plt.xlim( right = 10000)\n",
    "\n",
    "plt.ylim( top = 7000)\n",
    "\n",
    "plt.tight_layout() \n",
    "\n",
    "plt.savefig( 'exp-himmelblau-Z.png' , dpi = 150) "
   ]
  },
  {
   "cell_type": "code",
   "execution_count": null,
   "metadata": {},
   "outputs": [],
   "source": [
    "terminals = root.get_terminals()"
   ]
  },
  {
   "cell_type": "code",
   "execution_count": null,
   "metadata": {},
   "outputs": [],
   "source": []
  },
  {
   "cell_type": "code",
   "execution_count": null,
   "metadata": {},
   "outputs": [],
   "source": []
  },
  {
   "cell_type": "code",
   "execution_count": null,
   "metadata": {},
   "outputs": [],
   "source": []
  },
  {
   "cell_type": "code",
   "execution_count": null,
   "metadata": {},
   "outputs": [],
   "source": []
  },
  {
   "cell_type": "code",
   "execution_count": null,
   "metadata": {},
   "outputs": [],
   "source": []
  },
  {
   "cell_type": "code",
   "execution_count": null,
   "metadata": {},
   "outputs": [],
   "source": []
  }
 ],
 "metadata": {
  "kernelspec": {
   "display_name": "Python 3 (ipykernel)",
   "language": "python",
   "name": "python3"
  },
  "language_info": {
   "codemirror_mode": {
    "name": "ipython",
    "version": 3
   },
   "file_extension": ".py",
   "mimetype": "text/x-python",
   "name": "python",
   "nbconvert_exporter": "python",
   "pygments_lexer": "ipython3",
   "version": "3.8.8"
  }
 },
 "nbformat": 4,
 "nbformat_minor": 2
}
