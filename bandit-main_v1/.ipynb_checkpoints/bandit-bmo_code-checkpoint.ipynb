{
 "cells": [
  {
   "cell_type": "code",
   "execution_count": 1,
   "metadata": {},
   "outputs": [],
   "source": [
    "import numpy as np \n",
    "\n",
    "import matplotlib.pyplot as plt\n",
    "from itertools import product\n",
    "%matplotlib inline "
   ]
  },
  {
   "cell_type": "code",
   "execution_count": 2,
   "metadata": {},
   "outputs": [],
   "source": [
    "eta = 1e-4; T = 60000; epsilon = 1e-2"
   ]
  },
  {
   "cell_type": "code",
   "execution_count": 3,
   "metadata": {},
   "outputs": [],
   "source": [
    "def func(z, a): \n",
    "    x1, x2 = 4*z - 2, 4*a - 2\n",
    "    v1 = 1 + (x1 + x2 + 1)**2 * \\\n",
    "        (19 - 14*x1 + 3*x1**2 - 14*x2 + 6*x1*x2 + 3*x2**2)\n",
    "    v2 = 30 + (2*x1 - 3*x2)**2 * \\\n",
    "        (18 - 32*x1 + 12*x1**2 + 48*x2 - 36*x1*x2 + 27*x2**2)\n",
    "    \n",
    "    reward = v1 * v2\n",
    "    noise = np.random.normal(reward, 0.1) \n",
    "    return (reward, noise - reward) \n"
   ]
  },
  {
   "cell_type": "code",
   "execution_count": 4,
   "metadata": {},
   "outputs": [],
   "source": [
    "delta = 1e-3\n",
    "linspace = np.linspace(0,1,1000)\n",
    "arms = list(product(linspace, repeat=2))\n",
    "fun_values = []\n",
    "for arm in arms:\n",
    "    fun_values.append(func(arm[0], arm[1])[0])\n",
    "fun_values = np.array(fun_values)\n",
    "MAX_REWARD = np.max(fun_values)\n",
    "delta_MAX = np.quantile(fun_values, 1 - delta)"
   ]
  },
  {
   "cell_type": "code",
   "execution_count": 5,
   "metadata": {},
   "outputs": [],
   "source": [
    "class cube():\n",
    "    \n",
    "    def __init__(self, x1_left, x1_right, x2_left, x2_right, parent, children, xs, ys, bmo = True):\n",
    "#         print(\"options: {0}\".format(option)) \n",
    "        self.x1_left = x1_left\n",
    "        self.x1_right = x1_right\n",
    "        self.x2_left = x2_left\n",
    "        self.x2_right = x2_right\n",
    "    \n",
    "        self.parent = parent\n",
    "        self.children = children\n",
    "        \n",
    "        self.xs = xs\n",
    "        self.ys = ys\n",
    "            \n",
    "        self.bmo = False    \n",
    "    \n",
    "    def is_terminal(self):\n",
    "        \n",
    "        if len(self.children) == 0:\n",
    "            return True\n",
    "        else:\n",
    "            return False\n",
    "        \n",
    "    def is_preparent(self):\n",
    "        \n",
    "        is_preparent = False\n",
    "        \n",
    "        for c in self.children:\n",
    "            if c.is_terminal(): \n",
    "                return True\n",
    "        \n",
    "        return False\n",
    "    \n",
    "    def is_parent( self ):\n",
    "        \n",
    "        if self.parent is None:\n",
    "            return True\n",
    "        \n",
    "        if self.parent.is_preparent():\n",
    "            return False\n",
    "        else:\n",
    "            return True\n",
    "        \n",
    "    def measure(self): \n",
    "        \n",
    "        return (self.x1_right - self.x1_left) * (self.x2_right - self.x2_left)\n",
    "    \n",
    "    def insert_point(self, x1, x2, y): \n",
    "        \n",
    "        if ( (x1 >= self.x1_left ) & (x1 <= self.x1_right ) & ( x2 >= self.x2_left ) & ( x2 <= self.x2_right ) ):\n",
    "                        \n",
    "            self.xs = list(self.xs) + [[x1,x2]] \n",
    "            self.ys = list(self.ys) + [y] \n",
    "            \n",
    "    def insert_all_children(self, x1, x2, y):\n",
    "        \n",
    "        self.insert_point(x1, x2, y) \n",
    "        \n",
    "#         if len(self.children) > 0: \n",
    "            \n",
    "        for j in range(len(self.children)):\n",
    "\n",
    "            q = self.children[j]\n",
    "\n",
    "            q.insert_all_children(x1, x2, y) \n",
    "\n",
    "    \n",
    "#     def observe(self, x1, x2, y):\n",
    "        \n",
    "# #         self.insert_point(x1, x2 , y)\n",
    "        \n",
    "#         self.insert_all_children( x1, x2, y)\n",
    "        \n",
    "#         self.update_children()\n",
    "        \n",
    "    def get_terminals( self ):\n",
    "        \n",
    "#         terminals = []\n",
    "        \n",
    "        if len(self.children) == 0:\n",
    "            return [self] \n",
    "                            \n",
    "        l0 = self.children[0].get_terminals()\n",
    "        l1 = self.children[1].get_terminals()\n",
    "        l2 = self.children[2].get_terminals()\n",
    "        l3 = self.children[3].get_terminals()\n",
    "        \n",
    "        return l0 + l1 + l2 + l3 \n",
    "    \n",
    "    \n",
    "    def get_all_cubes(self ):\n",
    "                \n",
    "        if len(self.children) == 0:\n",
    "            return [self] \n",
    "                            \n",
    "        l0 = self.children[0].get_terminals() \n",
    "        l1 = self.children[1].get_terminals() \n",
    "        l2 = self.children[2].get_terminals() \n",
    "        l3 = self.children[3].get_terminals() \n",
    "        \n",
    "        return [self] + l0 + l1 + l2 + l3 \n",
    "        \n",
    "#         self.children\n",
    "        \n",
    "#         self.xs.append(x) \n",
    "#         self.ys.append(y) \n",
    "        \n",
    "#         self.update()\n",
    "        \n",
    "    def m(self): \n",
    "        \n",
    "        return np.mean(self.ys) \n",
    "    \n",
    "    def n(self):\n",
    "        \n",
    "        return len(self.ys)\n",
    "    \n",
    "    def get_parent(self):\n",
    "        \n",
    "        if self.parent is None:\n",
    "            return self\n",
    "        \n",
    "        else:\n",
    "            if self.parent.is_parent():\n",
    "#                 if self.parent.colored == False:\n",
    "#                     self.parent.colored = True\n",
    "                return self.parent\n",
    "#                 else:\n",
    "#                     return 'colored'\n",
    "            else:\n",
    "                return self.parent.get_parent() \n",
    "            \n",
    "    def reset_color(self):\n",
    "\n",
    "        self.colored = False\n",
    "        \n",
    "#     def U(self):\n",
    "        \n",
    "#         return self.m() + "
   ]
  },
  {
   "cell_type": "code",
   "execution_count": 6,
   "metadata": {},
   "outputs": [],
   "source": [
    "def update_children(c, bmo = True):\n",
    "    \n",
    "    alpha = 2\n",
    "        \n",
    "    terminals = c.get_terminals() \n",
    "\n",
    "    updated = False\n",
    "\n",
    "    for q in terminals: \n",
    "\n",
    "        if bmo : \n",
    "            condition = (np.log(T**2/epsilon))*np.sqrt(np.log(T**2/epsilon))/np.sqrt( max([1,q.n()]) ) < alpha * np.log( q.measure() / eta )\n",
    "        else:\n",
    "            condition = (np.sqrt(np.log(T/epsilon))/np.sqrt( 1 + q.n() ) < (q.x1_right - q.x1_left) )\n",
    "\n",
    "        if condition: \n",
    "\n",
    "            updated = True\n",
    "\n",
    "            l_children = 0\n",
    "\n",
    "            x1_mid = (q.x1_right + q.x1_left) / 2. \n",
    "            x2_mid = (q.x2_right + q.x2_left) / 2. \n",
    "\n",
    "            xs = np.array( q.xs ).copy(); ys = np.array( q.ys ).copy() \n",
    "            xs1 = xs[:,0].copy(); xs2 = xs[:,1].copy() \n",
    "    \n",
    "            xs_tmp = xs[ (xs1 < x1_mid) & ( xs2 < x2_mid ) , : ].copy()\n",
    "            ys_tmp = ys[ (xs1 < x1_mid) & ( xs2 < x2_mid )  ].copy()\n",
    "\n",
    "\n",
    "            l_children += len(ys_tmp)\n",
    "\n",
    "            q1 = cube( q.x1_left, x1_mid, \n",
    "                       q.x2_left, x2_mid, \n",
    "                      q, [  ], xs_tmp, ys_tmp, bmo )\n",
    "\n",
    "#                 x1_left, x1_right, x2_left, x2_right, parent, children, xs, ys, bmo = True\n",
    "\n",
    "            xs = np.array( q.xs ).copy(); ys = np.array( q.ys ).copy() \n",
    "            xs1 = xs[:,0].copy(); xs2 = xs[:,1].copy() \n",
    "            xs_tmp = xs[ (xs1 < x1_mid) & ( xs2 >= x2_mid ) , : ].copy()\n",
    "            ys_tmp = ys[ (xs1 < x1_mid) & ( xs2 >= x2_mid )  ].copy()\n",
    "\n",
    "            l_children += len(ys_tmp)\n",
    "\n",
    "            q2 = cube( q.x1_left, x1_mid, \n",
    "                       x2_mid, q.x2_right, \n",
    "                      q, [  ], xs_tmp, ys_tmp, bmo )\n",
    "\n",
    "            xs = np.array( q.xs ).copy(); ys = np.array( q.ys ).copy() \n",
    "            xs1 = xs[:,0].copy(); xs2 = xs[:,1].copy() \n",
    "            xs_tmp = xs[ ( xs1 >= x1_mid ) & ( xs2 < x2_mid ) , : ].copy()\n",
    "            ys_tmp = ys[ ( xs1 >= x1_mid ) & ( xs2 < x2_mid )  ].copy()\n",
    "#                 print(len(ys_tmp))\n",
    "    \n",
    "            l_children += len(ys_tmp) \n",
    "\n",
    "            q3 = cube( x1_mid, q.x1_right,\n",
    "                       q.x2_left, x2_mid, \n",
    "                      q, [  ], xs_tmp, ys_tmp, bmo )\n",
    "\n",
    "            xs = np.array( q.xs ).copy(); ys = np.array( q.ys ).copy() \n",
    "            xs1 = xs[:,0].copy(); xs2 = xs[:,1].copy() \n",
    "            xs_tmp = xs[ (xs1 >= x1_mid ) & ( xs2 >= x2_mid ) , : ].copy()\n",
    "            ys_tmp = ys[ (xs1 >= x1_mid ) & ( xs2 >= x2_mid )  ].copy()\n",
    "\n",
    "            l_children += len(ys_tmp) \n",
    "\n",
    "#                 print(len(ys_tmp))\n",
    "            q4 = cube( x1_mid, q.x1_right,\n",
    "                       x2_mid, q.x2_right,\n",
    "                      q, [  ], xs_tmp, ys_tmp, bmo )\n",
    "\n",
    "            q.children = [q1, q2, q3, q4] \n",
    "        \n",
    "#             print( q1.x1_left, q1.ys )\n",
    "\n",
    "#             print('l_children', l_children, len(q1.ys)+ len(q2.ys)+len(q3.ys)+len(q4.ys) )\n",
    "#             print('l_p', len(q.ys))\n",
    "#             print('') \n",
    "\n",
    "    return updated"
   ]
  },
  {
   "cell_type": "code",
   "execution_count": 7,
   "metadata": {},
   "outputs": [],
   "source": [
    "c = cube( 0., 1., 0., 1., None, [], [], [], True )\n",
    "\n",
    "\n",
    "for _ in range(3000):\n",
    "    \n",
    "    x1 = np.random.uniform(0,1)\n",
    "    x2 = np.random.uniform(0,1)\n",
    "    y = np.random.uniform(0,1)\n",
    "\n",
    "    c.insert_all_children(x1, x2, y)\n",
    "    \n",
    "#     update_children(c) "
   ]
  },
  {
   "cell_type": "code",
   "execution_count": 8,
   "metadata": {},
   "outputs": [],
   "source": [
    "N = 15000; eta = 1e-4"
   ]
  },
  {
   "cell_type": "markdown",
   "metadata": {},
   "source": [
    "# bandit-bmo-z"
   ]
  },
  {
   "cell_type": "code",
   "execution_count": 9,
   "metadata": {},
   "outputs": [
    {
     "name": "stdout",
     "output_type": "stream",
     "text": [
      "0\n"
     ]
    },
    {
     "name": "stderr",
     "output_type": "stream",
     "text": [
      "  0%|                                                                                        | 0/15000 [00:00<?, ?it/s]E:\\anoconda\\anoconda\\lib\\site-packages\\numpy\\core\\fromnumeric.py:3419: RuntimeWarning: Mean of empty slice.\n",
      "  return _methods._mean(a, axis=axis, dtype=dtype,\n",
      "E:\\anoconda\\anoconda\\lib\\site-packages\\numpy\\core\\_methods.py:188: RuntimeWarning: invalid value encountered in double_scalars\n",
      "  ret = ret.dtype.type(ret / rcount)\n",
      "100%|████████████████████████████████████████████████████████████████████████████| 15000/15000 [05:36<00:00, 44.62it/s]\n"
     ]
    },
    {
     "name": "stdout",
     "output_type": "stream",
     "text": [
      "1\n"
     ]
    },
    {
     "name": "stderr",
     "output_type": "stream",
     "text": [
      "100%|████████████████████████████████████████████████████████████████████████████| 15000/15000 [05:40<00:00, 44.08it/s]\n"
     ]
    },
    {
     "name": "stdout",
     "output_type": "stream",
     "text": [
      "2\n"
     ]
    },
    {
     "name": "stderr",
     "output_type": "stream",
     "text": [
      "100%|████████████████████████████████████████████████████████████████████████████| 15000/15000 [05:42<00:00, 43.73it/s]\n"
     ]
    },
    {
     "name": "stdout",
     "output_type": "stream",
     "text": [
      "3\n"
     ]
    },
    {
     "name": "stderr",
     "output_type": "stream",
     "text": [
      "100%|████████████████████████████████████████████████████████████████████████████| 15000/15000 [05:45<00:00, 43.45it/s]\n"
     ]
    },
    {
     "name": "stdout",
     "output_type": "stream",
     "text": [
      "4\n"
     ]
    },
    {
     "name": "stderr",
     "output_type": "stream",
     "text": [
      "100%|████████████████████████████████████████████████████████████████████████████| 15000/15000 [05:32<00:00, 45.06it/s]\n"
     ]
    },
    {
     "name": "stdout",
     "output_type": "stream",
     "text": [
      "5\n"
     ]
    },
    {
     "name": "stderr",
     "output_type": "stream",
     "text": [
      "100%|████████████████████████████████████████████████████████████████████████████| 15000/15000 [06:15<00:00, 39.97it/s]\n"
     ]
    },
    {
     "name": "stdout",
     "output_type": "stream",
     "text": [
      "6\n"
     ]
    },
    {
     "name": "stderr",
     "output_type": "stream",
     "text": [
      "100%|████████████████████████████████████████████████████████████████████████████| 15000/15000 [05:50<00:00, 42.85it/s]\n"
     ]
    },
    {
     "name": "stdout",
     "output_type": "stream",
     "text": [
      "7\n"
     ]
    },
    {
     "name": "stderr",
     "output_type": "stream",
     "text": [
      "100%|████████████████████████████████████████████████████████████████████████████| 15000/15000 [05:25<00:00, 46.05it/s]\n"
     ]
    },
    {
     "name": "stdout",
     "output_type": "stream",
     "text": [
      "8\n"
     ]
    },
    {
     "name": "stderr",
     "output_type": "stream",
     "text": [
      "100%|████████████████████████████████████████████████████████████████████████████| 15000/15000 [05:32<00:00, 45.16it/s]\n"
     ]
    },
    {
     "name": "stdout",
     "output_type": "stream",
     "text": [
      "9\n"
     ]
    },
    {
     "name": "stderr",
     "output_type": "stream",
     "text": [
      "100%|████████████████████████████████████████████████████████████████████████████| 15000/15000 [05:37<00:00, 44.45it/s]\n"
     ]
    }
   ],
   "source": [
    "from tqdm import tqdm\n",
    "arms = []; rewards = []; avg_rewards = []\n",
    "\n",
    "for dummy in range(10):\n",
    "    \n",
    "    rewards_tmp = []; avg_rewards_tmp = []\n",
    "    \n",
    "    print(dummy)\n",
    "    \n",
    "    root = cube( 0., 1., 0., 1., None, [], [], [], True )\n",
    "\n",
    "    for t in tqdm(range(N)): \n",
    "\n",
    "        terminals = root.get_terminals() \n",
    "\n",
    "        parents = []; Us = []; rs = []; ns = []; children_ns = []\n",
    "\n",
    "        for q in terminals:\n",
    "            p = q.get_parent()\n",
    "            if p not in parents:\n",
    "                parents.append(q.get_parent())\n",
    "\n",
    "        for q in parents:\n",
    "    \n",
    "            u = q.m() + (np.log(T**2/epsilon))*np.sqrt(np.log(T**2/epsilon))/np.sqrt( max([1,q.n()]) ) +\\\n",
    "                       max([0, np.log( q.measure() / eta )  ] )\n",
    "\n",
    "            Us.append( u ) \n",
    "\n",
    "            rs.append( q.x1_right - q.x1_left )\n",
    "            ns.append( len(q.ys) ) \n",
    "\n",
    "            for i in range(len(q.children)):\n",
    "\n",
    "                children_ns.append( len(q.children[i].ys) ) \n",
    "\n",
    "        selected = parents[ np.argmax( Us ) ]\n",
    "\n",
    "        if len( selected.children ) == 0:\n",
    "\n",
    "            x1 = np.random.uniform( selected.x1_left , selected.x1_right )\n",
    "            x2 = np.random.uniform( selected.x2_left , selected.x2_right ) \n",
    "\n",
    "            reward, noise = func(x1, x2) \n",
    "\n",
    "            root.insert_all_children( x1, x2, reward + noise )\n",
    "\n",
    "            updated = True \n",
    "\n",
    "            while updated:\n",
    "                updated = update_children(root)\n",
    "\n",
    "            arms.append((x1,x2))\n",
    "\n",
    "            rewards_tmp.append( reward ) \n",
    "            \n",
    "            xs1 = np.random.uniform( selected.x1_left ,selected.x1_right, size = (1000,1) )\n",
    "            xs2 = np.random.uniform( selected.x2_left ,selected.x2_right, size = (1000,1) )\n",
    "            \n",
    "            avg_reward = np.mean( func(xs1, xs2)[0] )\n",
    "            \n",
    "            avg_rewards_tmp.append(avg_reward)\n",
    "\n",
    "        else:\n",
    "\n",
    "            for j in range(4):\n",
    "\n",
    "                x1 = np.random.uniform( selected.children[j].x1_left , selected.children[j].x1_right )\n",
    "                x2 = np.random.uniform( selected.children[j].x2_left , selected.children[j].x2_right ) \n",
    "\n",
    "                reward, noise = func(x1, x2) \n",
    "\n",
    "                root.insert_all_children( x1, x2, reward + noise )\n",
    "\n",
    "                updated = True\n",
    "\n",
    "                while updated:\n",
    "                    updated = update_children(root)\n",
    "\n",
    "                arms.append((x1,x2))\n",
    "                \n",
    "                rewards_tmp.append( reward ) \n",
    "                \n",
    "                xs1 = np.random.uniform( selected.children[j].x1_left , selected.children[j].x1_right, size = (1000,1) )\n",
    "                xs2 = np.random.uniform( selected.children[j].x2_left , selected.children[j].x2_right, size = (1000,1) )\n",
    "\n",
    "                avg_reward = np.mean( func(xs1, xs2)[0] )\n",
    "\n",
    "                avg_rewards_tmp.append(avg_reward)\n",
    "\n",
    "    rewards.append( rewards_tmp ) \n",
    "    \n",
    "    \n",
    "    avg_rewards.append(avg_rewards_tmp)"
   ]
  },
  {
   "cell_type": "code",
   "execution_count": 12,
   "metadata": {},
   "outputs": [],
   "source": [
    "regrets_bmoz = []; delta_regrets_bmoz = []\n",
    "\n",
    "for j in range(len(rewards)): \n",
    "    \n",
    "    regret_tmp = []; delta_regret_tmp = []; \n",
    "\n",
    "    for i in range(len(rewards[j])):\n",
    "#         reward = np.exp((rewards[j][i] * 2.427) + 8.693)\n",
    "#         MAX_REWARD_ = np.exp(MAX_REWARD * 2.427 + 8.693)\n",
    "#         delta_MAX_ = np.exp(delta_MAX * 2.427 + 8.693)\n",
    "#         regret = max([0, MAX_REWARD_ - reward])\n",
    "#         delta_regret = max([0, delta_MAX_ - avg_rewards[j][i]])\n",
    "        \n",
    "        regret = max([0, MAX_REWARD - rewards[j][i] ]) \n",
    "        delta_regret = max([0, delta_MAX - rewards[j][i] ])  \n",
    "        \n",
    "        regret_tmp.append(regret) \n",
    "        \n",
    "        delta_regret_tmp.append( delta_regret )\n",
    "        \n",
    "    regrets_bmoz.append( regret_tmp ) \n",
    "    delta_regrets_bmoz.append( delta_regret_tmp )"
   ]
  },
  {
   "cell_type": "code",
   "execution_count": 13,
   "metadata": {},
   "outputs": [
    {
     "data": {
      "image/png": "[encoded data removed]",
      "text/plain": [
       "<Figure size 432x288 with 1 Axes>"
      ]
     },
     "metadata": {
      "needs_background": "light"
     },
     "output_type": "display_data"
    },
    {
     "data": {
      "image/png": "[encoded data removed]",
      "text/plain": [
       "<Figure size 432x288 with 1 Axes>"
      ]
     },
     "metadata": {
      "needs_background": "light"
     },
     "output_type": "display_data"
    }
   ],
   "source": [
    "for i in range(dummy):\n",
    "    data_delta = np.cumsum( regrets_bmoz[i] )\n",
    "    data = np.cumsum(regrets_bmoz[i])\n",
    "    plt.plot( data_delta, label='{}'.format(i) ) \n",
    "plt.legend()\n",
    "plt.show()\n",
    "\n",
    "for i in range(dummy):\n",
    "    data_delta = np.cumsum( delta_regrets_bmoz[i] )\n",
    "    data = np.cumsum(regrets_bmoz[i])\n",
    "    plt.plot( data_delta, label='{}'.format(i) ) \n",
    "plt.legend()\n",
    "plt.show()"
   ]
  },
  {
   "cell_type": "code",
   "execution_count": 14,
   "metadata": {},
   "outputs": [],
   "source": [
    "regret_m = np.mean(np.cumsum(regrets_bmoz, axis=1), axis=0)\n",
    "regret_std = np.std(np.cumsum(regrets_bmoz, axis=1), axis=0)\n",
    "regret_m_delta = np.mean(np.cumsum(delta_regrets_bmoz, axis=1), axis=0)\n",
    "regret_std_delta = np.std(np.cumsum(delta_regrets_bmoz, axis=1), axis=0)"
   ]
  },
  {
   "cell_type": "code",
   "execution_count": 15,
   "metadata": {},
   "outputs": [
    {
     "data": {
      "image/png": "[encoded data removed]",
      "text/plain": [
       "<Figure size 432x288 with 1 Axes>"
      ]
     },
     "metadata": {
      "needs_background": "light"
     },
     "output_type": "display_data"
    }
   ],
   "source": [
    "plt.plot(regret_m)\n",
    "plt.plot(regret_m_delta)\n",
    "plt.fill_between(np.array(range(len(regret_m))), \n",
    "                 regret_m - regret_std, regret_m + regret_std, alpha=0.1, color='b')\n",
    "plt.fill_between(np.array(range(len(regret_m_delta))), \n",
    "                                regret_m_delta - regret_std_delta, regret_m_delta + regret_std_delta, alpha=0.1, color='r')\n",
    "plt.show()"
   ]
  },
  {
   "cell_type": "code",
   "execution_count": 16,
   "metadata": {},
   "outputs": [],
   "source": [
    "np.savetxt('bmoz_delta.csv', delta_regrets_bmoz)\n",
    "np.savetxt('bmoz.csv', regrets_bmoz)"
   ]
  },
  {
   "cell_type": "code",
   "execution_count": null,
   "metadata": {},
   "outputs": [],
   "source": []
  }
 ],
 "metadata": {
  "kernelspec": {
   "display_name": "Python 3 (ipykernel)",
   "language": "python",
   "name": "python3"
  },
  "language_info": {
   "codemirror_mode": {
    "name": "ipython",
    "version": 3
   },
   "file_extension": ".py",
   "mimetype": "text/x-python",
   "name": "python",
   "nbconvert_exporter": "python",
   "pygments_lexer": "ipython3",
   "version": "3.8.8"
  }
 },
 "nbformat": 4,
 "nbformat_minor": 2
}
