{
 "cells": [
  {
   "cell_type": "code",
   "execution_count": 1,
   "id": "14feb16e",
   "metadata": {},
   "outputs": [],
   "source": [
    "from bandit_e import BMO_E"
   ]
  },
  {
   "cell_type": "code",
   "execution_count": 2,
   "id": "5fc480c7",
   "metadata": {},
   "outputs": [],
   "source": [
    "A = BMO_E(40000, [0,0], 1, 0.0001, 0.01, 0.01, 1)"
   ]
  },
  {
   "cell_type": "code",
   "execution_count": 3,
   "id": "1320d1cc",
   "metadata": {},
   "outputs": [
    {
     "name": "stdout",
     "output_type": "stream",
     "text": [
      "------initialize--------\n",
      "get f_delta:\n"
     ]
    },
    {
     "name": "stderr",
     "output_type": "stream",
     "text": [
      "100%|████████████████████████████████████████████████████████████████████| 1000000/1000000 [00:08<00:00, 111541.50it/s]\n"
     ]
    },
    {
     "name": "stdout",
     "output_type": "stream",
     "text": [
      "----play batch 0 ------\n",
      "576.0\n",
      "Hb 8.060054108660072\n",
      "every cube need to be played 576 times this batch\n"
     ]
    },
    {
     "name": "stderr",
     "output_type": "stream",
     "text": [
      "100%|█████████████████████████████████████████████████████████████████████████████| 576/576 [00:00<00:00, 28796.25it/s]\n",
      "100%|█████████████████████████████████████████████████████████████████████████████| 576/576 [00:00<00:00, 31994.69it/s]\n",
      "100%|█████████████████████████████████████████████████████████████████████████████| 576/576 [00:00<00:00, 31991.73it/s]\n",
      "100%|█████████████████████████████████████████████████████████████████████████████| 576/576 [00:00<00:00, 31995.54it/s]\n"
     ]
    },
    {
     "name": "stdout",
     "output_type": "stream",
     "text": [
      "have play 2304 times totally\n",
      "----play batch 1 ------\n",
      "900.0\n",
      "Hb 6.4480432869280575\n",
      "every cube need to be played 900 times this batch\n"
     ]
    },
    {
     "name": "stderr",
     "output_type": "stream",
     "text": [
      "100%|█████████████████████████████████████████████████████████████████████████████| 769/769 [00:00<00:00, 28475.50it/s]\n",
      "100%|█████████████████████████████████████████████████████████████████████████████| 747/747 [00:00<00:00, 28726.27it/s]\n",
      "100%|█████████████████████████████████████████████████████████████████████████████| 745/745 [00:00<00:00, 28653.03it/s]\n",
      "100%|█████████████████████████████████████████████████████████████████████████████| 763/763 [00:00<00:00, 28252.82it/s]\n"
     ]
    },
    {
     "name": "stdout",
     "output_type": "stream",
     "text": [
      "have play 5327 times totally\n",
      "----play batch 2 ------\n",
      "1444.0\n",
      "Hb 5.090560489680046\n",
      "every cube need to be played 1444 times this batch\n"
     ]
    },
    {
     "name": "stderr",
     "output_type": "stream",
     "text": [
      "100%|███████████████████████████████████████████████████████████████████████████| 1207/1207 [00:00<00:00, 26234.10it/s]\n",
      "100%|███████████████████████████████████████████████████████████████████████████| 1219/1219 [00:00<00:00, 26494.78it/s]\n",
      "100%|███████████████████████████████████████████████████████████████████████████| 1223/1223 [00:00<00:00, 26581.44it/s]\n",
      "100%|███████████████████████████████████████████████████████████████████████████| 1227/1227 [00:00<00:00, 26668.52it/s]\n"
     ]
    },
    {
     "name": "stdout",
     "output_type": "stream",
     "text": [
      "have play 10203 times totally\n",
      "----play batch 3 ------\n",
      "2704.0\n",
      "Hb 3.7200249732277255\n",
      "every cube need to be played 2704 times this batch\n"
     ]
    },
    {
     "name": "stderr",
     "output_type": "stream",
     "text": [
      "100%|███████████████████████████████████████████████████████████████████████████| 2344/2344 [00:00<00:00, 21901.35it/s]\n",
      "100%|███████████████████████████████████████████████████████████████████████████| 2356/2356 [00:00<00:00, 22221.93it/s]\n",
      "100%|███████████████████████████████████████████████████████████████████████████| 2344/2344 [00:00<00:00, 21901.39it/s]\n",
      "100%|███████████████████████████████████████████████████████████████████████████| 2328/2328 [00:00<00:00, 22166.79it/s]\n"
     ]
    },
    {
     "name": "stdout",
     "output_type": "stream",
     "text": [
      "have play 19575 times totally\n",
      "----play batch 4 ------\n",
      "7056.0\n",
      "Hb 2.3028726024743063\n",
      "every cube need to be played 7056 times this batch\n"
     ]
    },
    {
     "name": "stderr",
     "output_type": "stream",
     "text": [
      "100%|███████████████████████████████████████████████████████████████████████████| 6388/6388 [00:00<00:00, 13617.60it/s]\n",
      "100%|███████████████████████████████████████████████████████████████████████████| 6380/6380 [00:00<00:00, 13344.30it/s]\n",
      "100%|███████████████████████████████████████████████████████████████████████████| 6397/6397 [00:00<00:00, 13723.88it/s]\n",
      " 20%|██████████████▊                                                            | 1259/6355 [00:00<00:00, 25174.26it/s]\n"
     ]
    },
    {
     "name": "stdout",
     "output_type": "stream",
     "text": [
      "have play 40000 times totally\n",
      "----play batch 5 ------\n"
     ]
    },
    {
     "data": {
      "image/png": "[encoded data removed]",
      "text/plain": [
       "<Figure size 432x288 with 1 Axes>"
      ]
     },
     "metadata": {
      "needs_background": "light"
     },
     "output_type": "display_data"
    }
   ],
   "source": [
    "regrets_delta, regrets = A.plot()"
   ]
  },
  {
   "cell_type": "code",
   "execution_count": 4,
   "id": "7495ffcc",
   "metadata": {},
   "outputs": [
    {
     "data": {
      "text/plain": [
       "[[<bandit_e.cube at 0x20989f8d550>,\n",
       "  <bandit_e.cube at 0x20989f8daf0>,\n",
       "  <bandit_e.cube at 0x20989f8d9d0>,\n",
       "  <bandit_e.cube at 0x20989f8d670>],\n",
       " [<bandit_e.cube at 0x209861137f0>,\n",
       "  <bandit_e.cube at 0x2098a033a30>,\n",
       "  <bandit_e.cube at 0x2098a073550>,\n",
       "  <bandit_e.cube at 0x2098a0735b0>],\n",
       " [<bandit_e.cube at 0x20983e31550>,\n",
       "  <bandit_e.cube at 0x2098a053790>,\n",
       "  <bandit_e.cube at 0x2098a053700>,\n",
       "  <bandit_e.cube at 0x2098a053760>],\n",
       " [<bandit_e.cube at 0x2098a0535e0>,\n",
       "  <bandit_e.cube at 0x2098a073400>,\n",
       "  <bandit_e.cube at 0x20983d9f280>,\n",
       "  <bandit_e.cube at 0x20985a60d90>],\n",
       " [<bandit_e.cube at 0x2098417e940>,\n",
       "  <bandit_e.cube at 0x2098a033880>,\n",
       "  <bandit_e.cube at 0x2098a0536a0>,\n",
       "  <bandit_e.cube at 0x20989fac700>]]"
      ]
     },
     "execution_count": 4,
     "metadata": {},
     "output_type": "execute_result"
    }
   ],
   "source": [
    "A.cubes"
   ]
  },
  {
   "cell_type": "code",
   "execution_count": 5,
   "id": "db184ac4",
   "metadata": {},
   "outputs": [],
   "source": [
    "import numpy as np\n",
    "np.savetxt('bmo_eli_delta.csv', regrets_delta)\n",
    "np.savetxt('bmo_eli.csv', regrets)"
   ]
  },
  {
   "cell_type": "code",
   "execution_count": null,
   "id": "9daf761b",
   "metadata": {},
   "outputs": [],
   "source": []
  },
  {
   "cell_type": "code",
   "execution_count": null,
   "id": "c2fa9412",
   "metadata": {},
   "outputs": [],
   "source": []
  },
  {
   "cell_type": "code",
   "execution_count": null,
   "id": "bfb10cb1",
   "metadata": {},
   "outputs": [],
   "source": []
  },
  {
   "cell_type": "markdown",
   "id": "0016f5b6",
   "metadata": {},
   "source": [
    "split twice"
   ]
  },
  {
   "cell_type": "code",
   "execution_count": 15,
   "id": "b6fcd352",
   "metadata": {},
   "outputs": [],
   "source": [
    "A = BMO_E(40000, [0,0], 1, 0.0001, 0.01, 0.01, 2, 1)"
   ]
  },
  {
   "cell_type": "code",
   "execution_count": 16,
   "id": "60577290",
   "metadata": {},
   "outputs": [
    {
     "name": "stdout",
     "output_type": "stream",
     "text": [
      "------initialize--------\n",
      "get f_delta:\n"
     ]
    },
    {
     "name": "stderr",
     "output_type": "stream",
     "text": [
      "100%|████████████████████████████████████████████████████████████████████| 1000000/1000000 [00:09<00:00, 110827.92it/s]\n"
     ]
    },
    {
     "name": "stdout",
     "output_type": "stream",
     "text": [
      "----play batch 0 ------\n",
      "225.0\n",
      "Hb 12.896086573856115\n",
      "every cube need to be played 225 times this batch\n"
     ]
    },
    {
     "name": "stderr",
     "output_type": "stream",
     "text": [
      "100%|█████████████████████████████████████████████████████████████████████████████| 225/225 [00:00<00:00, 32162.72it/s]\n",
      "100%|█████████████████████████████████████████████████████████████████████████████| 225/225 [00:00<00:00, 32101.45it/s]\n",
      "100%|█████████████████████████████████████████████████████████████████████████████| 225/225 [00:00<00:00, 32101.45it/s]\n",
      "100%|█████████████████████████████████████████████████████████████████████████████| 225/225 [00:00<00:00, 32089.44it/s]\n",
      "100%|█████████████████████████████████████████████████████████████████████████████| 225/225 [00:00<00:00, 32139.71it/s]\n",
      "100%|█████████████████████████████████████████████████████████████████████████████| 225/225 [00:00<00:00, 32089.44it/s]\n",
      "100%|█████████████████████████████████████████████████████████████████████████████| 225/225 [00:00<00:00, 32136.43it/s]\n",
      "100%|█████████████████████████████████████████████████████████████████████████████| 225/225 [00:00<00:00, 32057.83it/s]\n",
      "100%|█████████████████████████████████████████████████████████████████████████████| 225/225 [00:00<00:00, 28117.82it/s]\n",
      "100%|█████████████████████████████████████████████████████████████████████████████| 225/225 [00:00<00:00, 28132.07it/s]\n",
      "100%|█████████████████████████████████████████████████████████████████████████████| 225/225 [00:00<00:00, 32074.17it/s]\n",
      "100%|█████████████████████████████████████████████████████████████████████████████| 225/225 [00:00<00:00, 28089.37it/s]\n",
      "100%|█████████████████████████████████████████████████████████████████████████████| 225/225 [00:00<00:00, 28083.51it/s]\n",
      "100%|█████████████████████████████████████████████████████████████████████████████| 225/225 [00:00<00:00, 32090.53it/s]\n",
      "100%|█████████████████████████████████████████████████████████████████████████████| 225/225 [00:00<00:00, 22493.59it/s]\n",
      "100%|█████████████████████████████████████████████████████████████████████████████| 225/225 [00:00<00:00, 32088.35it/s]\n"
     ]
    },
    {
     "name": "stdout",
     "output_type": "stream",
     "text": [
      "have play 3600 times totally\n",
      "----play batch 1 ------\n",
      "361.0\n",
      "Hb 10.181120979360092\n",
      "every cube need to be played 361 times this batch\n"
     ]
    },
    {
     "name": "stderr",
     "output_type": "stream",
     "text": [
      "100%|█████████████████████████████████████████████████████████████████████████████| 306/306 [00:00<00:00, 30594.92it/s]\n",
      "100%|█████████████████████████████████████████████████████████████████████████████| 315/315 [00:00<00:00, 28632.85it/s]\n",
      "100%|█████████████████████████████████████████████████████████████████████████████| 294/294 [00:00<00:00, 29394.42it/s]\n",
      "100%|█████████████████████████████████████████████████████████████████████████████| 304/304 [00:00<00:00, 27631.18it/s]\n"
     ]
    },
    {
     "name": "stdout",
     "output_type": "stream",
     "text": [
      "have play 4818 times totally\n",
      "----play batch 2 ------\n",
      "676.0\n",
      "Hb 7.440049946455451\n",
      "every cube need to be played 676 times this batch\n"
     ]
    },
    {
     "name": "stderr",
     "output_type": "stream",
     "text": [
      "100%|█████████████████████████████████████████████████████████████████████████████| 589/589 [00:00<00:00, 28042.65it/s]\n",
      "100%|█████████████████████████████████████████████████████████████████████████████| 580/580 [00:00<00:00, 28994.50it/s]\n",
      "100%|█████████████████████████████████████████████████████████████████████████████| 598/598 [00:00<00:00, 28470.50it/s]\n",
      "100%|█████████████████████████████████████████████████████████████████████████████| 576/576 [00:00<00:00, 30292.52it/s]\n"
     ]
    },
    {
     "name": "stdout",
     "output_type": "stream",
     "text": [
      "have play 7161 times totally\n",
      "----play batch 3 ------\n",
      "1764.0\n",
      "Hb 4.6057452049486125\n",
      "every cube need to be played 1764 times this batch\n"
     ]
    },
    {
     "name": "stderr",
     "output_type": "stream",
     "text": [
      "100%|███████████████████████████████████████████████████████████████████████████| 1588/1588 [00:00<00:00, 23693.09it/s]\n",
      "100%|███████████████████████████████████████████████████████████████████████████| 1589/1589 [00:00<00:00, 24818.74it/s]\n",
      "100%|███████████████████████████████████████████████████████████████████████████| 1599/1599 [00:00<00:00, 25371.27it/s]\n",
      "100%|███████████████████████████████████████████████████████████████████████████| 1604/1604 [00:00<00:00, 24667.58it/s]\n"
     ]
    },
    {
     "name": "stdout",
     "output_type": "stream",
     "text": [
      "have play 13541 times totally\n",
      "----play batch 4 ------\n",
      "11664.0\n",
      "Hb 1.7911231352577939\n",
      "every cube need to be played 11664 times this batch\n"
     ]
    },
    {
     "name": "stderr",
     "output_type": "stream",
     "text": [
      "100%|██████████████████████████████████████████████████████████████████████████| 11243/11243 [00:01<00:00, 9175.86it/s]\n",
      "100%|██████████████████████████████████████████████████████████████████████████| 11253/11253 [00:01<00:00, 9732.09it/s]\n",
      " 35%|██████████████████████████▏                                               | 3962/11196 [00:00<00:00, 20006.59it/s]\n"
     ]
    },
    {
     "name": "stdout",
     "output_type": "stream",
     "text": [
      "have play 40000 times totally\n",
      "----play batch 5 ------\n"
     ]
    },
    {
     "data": {
      "image/png": "[encoded data removed]",
      "text/plain": [
       "<Figure size 432x288 with 1 Axes>"
      ]
     },
     "metadata": {
      "needs_background": "light"
     },
     "output_type": "display_data"
    }
   ],
   "source": [
    "regrets_delta, regrets = A.plot()"
   ]
  },
  {
   "cell_type": "code",
   "execution_count": 14,
   "id": "f768486b",
   "metadata": {},
   "outputs": [
    {
     "data": {
      "text/plain": [
       "[[<bandit_e.cube at 0x20987ec8040>,\n",
       "  <bandit_e.cube at 0x20987ec8fa0>,\n",
       "  <bandit_e.cube at 0x20987ec8a30>,\n",
       "  <bandit_e.cube at 0x20986994e80>,\n",
       "  <bandit_e.cube at 0x20986994ca0>,\n",
       "  <bandit_e.cube at 0x20986994cd0>,\n",
       "  <bandit_e.cube at 0x20989376580>,\n",
       "  <bandit_e.cube at 0x209893765b0>,\n",
       "  <bandit_e.cube at 0x20989376880>,\n",
       "  <bandit_e.cube at 0x20989376d00>,\n",
       "  <bandit_e.cube at 0x20989376130>,\n",
       "  <bandit_e.cube at 0x20987ec1970>,\n",
       "  <bandit_e.cube at 0x20987ec1d60>,\n",
       "  <bandit_e.cube at 0x20987ec17c0>,\n",
       "  <bandit_e.cube at 0x20987ec1700>,\n",
       "  <bandit_e.cube at 0x20987ec1790>],\n",
       " [<bandit_e.cube at 0x209869d7760>,\n",
       "  <bandit_e.cube at 0x20989387250>,\n",
       "  <bandit_e.cube at 0x20989387490>,\n",
       "  <bandit_e.cube at 0x20989387700>],\n",
       " [<bandit_e.cube at 0x209869aa280>,\n",
       "  <bandit_e.cube at 0x209893876d0>,\n",
       "  <bandit_e.cube at 0x20983e4b940>,\n",
       "  <bandit_e.cube at 0x2098a0818e0>],\n",
       " [<bandit_e.cube at 0x2098937cbb0>,\n",
       "  <bandit_e.cube at 0x209869d7a30>,\n",
       "  <bandit_e.cube at 0x2098b7f0550>,\n",
       "  <bandit_e.cube at 0x2098937ca60>],\n",
       " [<bandit_e.cube at 0x2098b7f2d90>,\n",
       "  <bandit_e.cube at 0x2098937cac0>,\n",
       "  <bandit_e.cube at 0x20989387310>,\n",
       "  <bandit_e.cube at 0x209893875b0>]]"
      ]
     },
     "execution_count": 14,
     "metadata": {},
     "output_type": "execute_result"
    }
   ],
   "source": [
    "A.cubes"
   ]
  },
  {
   "cell_type": "code",
   "execution_count": 17,
   "id": "23d1151c",
   "metadata": {},
   "outputs": [],
   "source": [
    "import numpy as np\n",
    "np.savetxt('bmo_eli_delta_c2.csv', regrets_delta)\n",
    "np.savetxt('bmo_eli_c2.csv', regrets)"
   ]
  },
  {
   "cell_type": "code",
   "execution_count": 18,
   "id": "5bfd08e0",
   "metadata": {},
   "outputs": [],
   "source": [
    "import numpy as np\n",
    "a = np.array([])"
   ]
  },
  {
   "cell_type": "code",
   "execution_count": 19,
   "id": "bdd888c3",
   "metadata": {},
   "outputs": [
    {
     "name": "stdout",
     "output_type": "stream",
     "text": [
      "[]\n"
     ]
    }
   ],
   "source": [
    "if not a.any() :\n",
    "    print(a)"
   ]
  },
  {
   "cell_type": "code",
   "execution_count": null,
   "id": "d00d9949",
   "metadata": {},
   "outputs": [],
   "source": []
  }
 ],
 "metadata": {
  "kernelspec": {
   "display_name": "Python 3 (ipykernel)",
   "language": "python",
   "name": "python3"
  },
  "language_info": {
   "codemirror_mode": {
    "name": "ipython",
    "version": 3
   },
   "file_extension": ".py",
   "mimetype": "text/x-python",
   "name": "python",
   "nbconvert_exporter": "python",
   "pygments_lexer": "ipython3",
   "version": "3.8.8"
  }
 },
 "nbformat": 4,
 "nbformat_minor": 5
}
