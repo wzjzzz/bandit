{
 "cells": [
  {
   "cell_type": "code",
   "execution_count": 1,
   "metadata": {},
   "outputs": [],
   "source": [
    "import numpy as np\n",
    "import matplotlib\n",
    "import matplotlib.pyplot as plt\n",
    "import math\n",
    "\n",
    "from palettable.colorbrewer.diverging import RdBu_8"
   ]
  },
  {
   "cell_type": "markdown",
   "metadata": {},
   "source": [
    "Define the expected reward function $\\mu$"
   ]
  },
  {
   "cell_type": "code",
   "execution_count": 2,
   "metadata": {},
   "outputs": [],
   "source": [
    "def mu(x,y):\n",
    "    f = 0.5 * ((x - 0.8) ** 2 + (y - 0.7) ** 2) ** 0.5 + 0.3 * ((x - 0.1) ** 2 + (y - 0.1) ** 2) ** 0.5\n",
    "    return 1-f"
   ]
  },
  {
   "cell_type": "code",
   "execution_count": 3,
   "metadata": {},
   "outputs": [],
   "source": [
    "def mu(x, y):\n",
    "    x1, x2 = 4*x - 2, 4*y - 2\n",
    "    v1 = 1 + (x1 + x2 + 1)**2 * \\\n",
    "        (19 - 14*x1 + 3*x1**2 - 14*x2 + 6*x1*x2 + 3*x2**2)\n",
    "    v2 = 30 + (2*x1 - 3*x2)**2 * \\\n",
    "        (18 - 32*x1 + 12*x1**2 + 48*x2 - 36*x1*x2 + 27*x2**2)\n",
    "    reward = v1 * v2\n",
    "    # reward = (np.log(v1 * v2) - 8.693 ) / 2.427\n",
    "#     observation = np.random.normal(reward, 0.1)\n",
    "    return reward\n",
    "    "
   ]
  },
  {
   "cell_type": "markdown",
   "metadata": {},
   "source": [
    "Maximum of $\\mu$"
   ]
  },
  {
   "cell_type": "code",
   "execution_count": 4,
   "metadata": {},
   "outputs": [],
   "source": [
    "delta = 1e-3\n",
    "from itertools import product\n",
    "linspace = np.linspace(0,1,1000)\n",
    "arms = list(product(linspace, repeat=2))\n",
    "fun_values = []\n",
    "for arm in arms:\n",
    "    fun_values.append(mu(arm[0], arm[1]))\n",
    "fun_values = np.array(fun_values)\n",
    "mu_m_delta = np.quantile(fun_values, 1-delta)\n",
    "mu_m = np.max(fun_values)"
   ]
  },
  {
   "cell_type": "markdown",
   "metadata": {},
   "source": [
    "Plot $\\mu$"
   ]
  },
  {
   "cell_type": "code",
   "execution_count": 5,
   "metadata": {},
   "outputs": [
    {
     "data": {
      "image/png": "[encoded data removed]",
      "text/plain": [
       "<Figure size 432x288 with 1 Axes>"
      ]
     },
     "metadata": {
      "needs_background": "light"
     },
     "output_type": "display_data"
    }
   ],
   "source": [
    "x = np.linspace(0, 1, 1000)\n",
    "y = np.linspace(0, 1, 1000)\n",
    "X, Y = np.meshgrid(x, y)\n",
    "plt.contourf(X, Y, mu(X, Y))\n",
    "plt.show()"
   ]
  },
  {
   "cell_type": "code",
   "execution_count": 6,
   "metadata": {},
   "outputs": [],
   "source": [
    "def sample(p):\n",
    "    x = np.random.uniform(cubes[p][0], cubes[p][0] + cubes[p][2])\n",
    "    y = np.random.uniform(cubes[p][1], cubes[p][1] + cubes[p][2])\n",
    "    return np.random.normal(mu(x, y), 0.1), mu(x, y)"
   ]
  },
  {
   "cell_type": "code",
   "execution_count": 7,
   "metadata": {},
   "outputs": [],
   "source": [
    "def sample_final(time, p_h, p_t):\n",
    "    global timer\n",
    "    global regret\n",
    "    global regret_delta\n",
    "    pointer = p_h\n",
    "    for t in range(time):\n",
    "        r, mu_s = sample(pointer)\n",
    "        cubes[pointer][3] = cubes[pointer][3] + r\n",
    "        pointer = pointer + 1\n",
    "        if pointer > p_t:\n",
    "            pointer = p_h\n",
    "        regret = regret + max(mu_m - mu_s, 0)\n",
    "        regret_delta += max(mu_m_delta - mu_s, 0)\n",
    "        regretlist.append(regret)\n",
    "        regret_delta_lst.append(regret_delta)\n",
    "        timer = timer + 1\n",
    "    return(regret)"
   ]
  },
  {
   "cell_type": "code",
   "execution_count": 8,
   "metadata": {},
   "outputs": [],
   "source": [
    "def sample_fullbatch(num, p_h, p_t):\n",
    "    global timer\n",
    "    global regret\n",
    "    global regret_delta\n",
    "    for t in range(num):\n",
    "        for cube_now in range(p_h, p_t + 1):\n",
    "            r, mu_s = sample(cube_now)\n",
    "            cubes[cube_now][3] = cubes[cube_now][3] + r\n",
    "            regret = regret + max(mu_m - mu_s, 0)\n",
    "            regret_delta += max(mu_m_delta - mu_s, 0)\n",
    "            regretlist.append(regret)\n",
    "            regret_delta_lst.append(regret_delta)\n",
    "            timer = timer + 1\n",
    "    return(regret)"
   ]
  },
  {
   "cell_type": "code",
   "execution_count": 9,
   "metadata": {},
   "outputs": [],
   "source": [
    "def eli_par(r, mu_max, p_h, p_t, num_p):\n",
    "    p_new = p_t\n",
    "    for p in range(p_h, p_t + 1):\n",
    "        if mu_max - cubes[p][3] > 0.25 * r:  #mark2: 0.25\n",
    "            cubes_eli.append([[cubes[p][0], cubes[p][0], cubes[p][0] + cubes[p][2], cubes[p][0] + cubes[p][2]], [cubes[p][1], cubes[p][1] + cubes[p][2], cubes[p][1] + cubes[p][2], cubes[p][1]]])\n",
    "            continue\n",
    "        for i in range(num_p):\n",
    "            for j in range(num_p):\n",
    "                cubes.append([cubes[p][0] + i * cubes[p][2] / num_p, cubes[p][1] + j * cubes[p][2] / num_p, cubes[p][2] / num_p, 0])\n",
    "        p_new = p_new + num_p ** 2\n",
    "        for i in range(num_p - 1):\n",
    "            partition.append([cubes[p][0] + cubes[p][2] / num_p * (i + 1), cubes[p][1], cubes[p][0] + cubes[p][2] / num_p * (i + 1), cubes[p][1] + cubes[p][2]])\n",
    "        for i in range(num_p - 1):\n",
    "            partition.append([cubes[p][0], cubes[p][1] + cubes[p][2] / num_p * (i + 1), cubes[p][0] + cubes[p][2], cubes[p][1] + cubes[p][2] / num_p * (i + 1)])\n",
    "    partition_grid.append(len(partition)-1)\n",
    "    cubes_eli_grid.append(len(cubes_eli)-1)\n",
    "    return p_new"
   ]
  },
  {
   "cell_type": "code",
   "execution_count": 10,
   "metadata": {},
   "outputs": [
    {
     "name": "stdout",
     "output_type": "stream",
     "text": [
      "0\n",
      "cubes_num [4, 8, 12, 16, 20, 24]\n",
      "eli_cubes_num [3, 6, 9, 12, 15, 18]\n",
      "1\n",
      "cubes_num [4, 8, 12, 16, 20, 24]\n",
      "eli_cubes_num [3, 6, 9, 12, 15, 18]\n",
      "2\n",
      "cubes_num [4, 8, 12, 16, 20, 24]\n",
      "eli_cubes_num [3, 6, 9, 12, 15, 18]\n",
      "3\n",
      "cubes_num [4, 8, 12, 16, 20, 24]\n",
      "eli_cubes_num [3, 6, 9, 12, 15, 18]\n",
      "4\n",
      "cubes_num [4, 8, 12, 16, 20, 24]\n",
      "eli_cubes_num [3, 6, 9, 12, 15, 18]\n",
      "5\n",
      "cubes_num [4, 8, 12, 16, 20, 24]\n",
      "eli_cubes_num [3, 6, 9, 12, 15, 18]\n",
      "6\n",
      "cubes_num [4, 8, 12, 16, 20, 24]\n",
      "eli_cubes_num [3, 6, 9, 12, 15, 18]\n",
      "7\n",
      "cubes_num [4, 8, 12, 16, 20, 24]\n",
      "eli_cubes_num [3, 6, 9, 12, 15, 18]\n",
      "8\n",
      "cubes_num [4, 8, 12, 16, 20, 24]\n",
      "eli_cubes_num [3, 6, 9, 12, 15, 18]\n",
      "9\n",
      "cubes_num [4, 8, 12, 16, 20, 24]\n",
      "eli_cubes_num [3, 6, 9, 12, 15, 18]\n"
     ]
    }
   ],
   "source": [
    "regrets_all = []\n",
    "regrets_delta_all = []\n",
    "\n",
    "for i in range(10):\n",
    "    print(i)\n",
    "    T=60000\n",
    "    edge_length = []\n",
    "    num = []  # number of samples in each batch\n",
    "    partition = []   # edge of the cubes\n",
    "    partition_grid = []\n",
    "    cubes_eli = []   # cubes that have been eliminated\n",
    "    cubes_eli_grid = []\n",
    "    regretlist = []\n",
    "    regretlist.append(0)\n",
    "\n",
    "    regret_delta_lst = []\n",
    "    regret_delta_lst.append(0)\n",
    "\n",
    "    grid = []\n",
    "    timer = 0\n",
    "    eli_cubes_num = [] #number of cubes totally eliminated each batch\n",
    "    cubes_num = []\n",
    "\n",
    "    # ACE Sequence\n",
    "\n",
    "    ACE_c = []\n",
    "    ACE_d = []\n",
    "    ACE_c.append(1 / 6 * math.log2(T / math.log2(T)))\n",
    "    c_cumu = ACE_c[-1]\n",
    "    eta = 3 / 4\n",
    "    B_star = math.ceil(math.log2(math.log2(T)) / math.log2(4 / 3))\n",
    "    for i in range(B_star):\n",
    "        ACE_d.append(math.floor(c_cumu))\n",
    "        ACE_d.append(math.ceil(c_cumu))\n",
    "        ACE_c.append(ACE_c[-1] * eta)\n",
    "        c_cumu = c_cumu + ACE_c[-1]\n",
    "    ACE_d = sorted(list(set(ACE_d)))\n",
    "\n",
    "    for i in ACE_d:\n",
    "        edge_length.append(pow(2, -i))\n",
    "\n",
    "    for r in edge_length:\n",
    "        num.append(math.ceil(0.1 * math.log(T) / (r) ** 2)) ###mark1 0.75\n",
    "\n",
    "    cubes = []\n",
    "\n",
    "    # x_location  y_location  edge_length  total_reward\n",
    "\n",
    "    for i in range(round(1 / edge_length[0])):\n",
    "        for j in range(round(1 / edge_length[0])):\n",
    "            cubes.append([i * edge_length[0], j * edge_length[0], edge_length[0], 0])\n",
    "\n",
    "    for i in range(round(1 / edge_length[0]) - 1):\n",
    "        partition.append([0, edge_length[0] * (i + 1), 1, edge_length[0] * (i + 1)])\n",
    "        partition.append([edge_length[0] * (i + 1), 0, edge_length[0] * (i + 1), 1])\n",
    "\n",
    "    partition_grid.append(-1)\n",
    "    partition_grid.append(len(partition)-1)\n",
    "\n",
    "    cubes_eli_grid.append(-1)\n",
    "    cubes_eli_grid.append(len(cubes_eli)-1)\n",
    "    grid.append(0)\n",
    "\n",
    "    pointer_h = 0\n",
    "    pointer_t = round(1 / edge_length[0]) ** 2 - 1\n",
    "\n",
    "    B_total = len(edge_length)\n",
    "\n",
    "\n",
    "\n",
    "    T_accu = 0   # number of past rounds\n",
    "    regret = 0\n",
    "    regret_delta = 0\n",
    "\n",
    "    for B in range(T):   # number of batches B is less than time horizon T\n",
    "        if B == B_total:\n",
    "            r = sample_final(T - T_accu, pointer_h, pointer_t)\n",
    "            grid.append(T)\n",
    "            break\n",
    "        num_cube = pointer_t - pointer_h + 1\n",
    "        num_round = num_cube * num[B]\n",
    "        if (T_accu + num_round >= T) or (B == B_total):\n",
    "            r = sample_final(T - T_accu, pointer_h, pointer_t)\n",
    "            grid.append(T)\n",
    "            break\n",
    "        if T_accu + num_round < T:\n",
    "            T_accu = T_accu + num_round\n",
    "            r = sample_fullbatch(num[B], pointer_h, pointer_t)\n",
    "            grid.append(T_accu)\n",
    "            # compute the average reward for each cube and the maximal\n",
    "            hat_mu_max = 0\n",
    "            for p in range(pointer_h, pointer_t + 1):\n",
    "                cubes[p][3] = cubes[p][3] / num[B]\n",
    "                if cubes[p][3] > hat_mu_max:\n",
    "                    hat_mu_max = cubes[p][3]\n",
    "            if B == B_total -1:\n",
    "                num_p = 2\n",
    "            else:\n",
    "                num_p = round(edge_length[B] / edge_length[B + 1])\n",
    "            cubes_num.append(len(cubes))\n",
    "            p_t = eli_par(edge_length[B], hat_mu_max, pointer_h, pointer_t, num_p)\n",
    "\n",
    "            eli_cubes_num.append(len(cubes_eli))\n",
    "\n",
    "            pointer_h = pointer_t + 1\n",
    "            pointer_t = p_t\n",
    "            \n",
    "        \n",
    "    print('cubes_num', cubes_num)\n",
    "    print('eli_cubes_num', eli_cubes_num)\n",
    "\n",
    "            \n",
    "                \n",
    "    regrets_all.append(regretlist)\n",
    "    regrets_delta_all.append(regret_delta_lst)"
   ]
  },
  {
   "cell_type": "code",
   "execution_count": 11,
   "metadata": {},
   "outputs": [
    {
     "name": "stdout",
     "output_type": "stream",
     "text": [
      "cubes_num [4, 8, 12, 16, 20, 24]\n",
      "eli_cubes_num [3, 6, 9, 12, 15, 18]\n"
     ]
    }
   ],
   "source": [
    "print('cubes_num', cubes_num)\n",
    "print('eli_cubes_num', eli_cubes_num)"
   ]
  },
  {
   "cell_type": "code",
   "execution_count": 12,
   "metadata": {},
   "outputs": [],
   "source": [
    "# cum_regret = np.loadtxt('cum_regret_zooming.csv')\n",
    "# code of zooming algorithm is modified from 1-dimension version presented at https://github.com/runninglsy/Lipschitz-bandits-experiment"
   ]
  },
  {
   "cell_type": "code",
   "execution_count": 14,
   "metadata": {},
   "outputs": [],
   "source": [
    "import numpy as np\n",
    "regret_m = np.mean(regrets_all, axis=0)\n",
    "regret_std = np.std(regrets_all, axis=0)\n",
    "regret_m_delta = np.mean(regrets_delta_all, axis=0)\n",
    "regret_std_delta = np.std(regrets_delta_all, axis=0)"
   ]
  },
  {
   "cell_type": "code",
   "execution_count": 15,
   "metadata": {},
   "outputs": [
    {
     "data": {
      "image/png": "[encoded data removed]",
      "text/plain": [
       "<Figure size 432x288 with 1 Axes>"
      ]
     },
     "metadata": {
      "needs_background": "light"
     },
     "output_type": "display_data"
    }
   ],
   "source": [
    "import matplotlib.pyplot as plt\n",
    "plt.plot(regret_m)\n",
    "plt.plot(regret_m_delta)\n",
    "plt.fill_between(np.array(range(len(regret_m))), \n",
    "                 regret_m - regret_std, regret_m + regret_std, alpha=0.1, color='b')\n",
    "plt.fill_between(np.array(range(len(regret_m_delta))), \n",
    "                                regret_m_delta - regret_std_delta, regret_m_delta + regret_std_delta, alpha=0.1, color='r')\n",
    "plt.show()"
   ]
  },
  {
   "cell_type": "code",
   "execution_count": 16,
   "metadata": {},
   "outputs": [],
   "source": [
    "import numpy as np\n",
    "np.savetxt('ABLiN_delta.csv', regret_m_delta)\n",
    "np.savetxt('ABLiN.csv', regret_m)\n",
    "np.savetxt('ABLiN_std.csv', regret_std)\n",
    "np.savetxt('ABLiN_std_delta.csv', regret_std_delta)"
   ]
  },
  {
   "cell_type": "code",
   "execution_count": null,
   "metadata": {},
   "outputs": [],
   "source": []
  },
  {
   "cell_type": "code",
   "execution_count": null,
   "metadata": {},
   "outputs": [],
   "source": []
  },
  {
   "cell_type": "code",
   "execution_count": null,
   "metadata": {},
   "outputs": [],
   "source": []
  },
  {
   "cell_type": "code",
   "execution_count": null,
   "metadata": {},
   "outputs": [],
   "source": []
  },
  {
   "cell_type": "code",
   "execution_count": 15,
   "metadata": {},
   "outputs": [
    {
     "data": {
      "image/png": "[encoded data removed]",
      "text/plain": [
       "<Figure size 432x288 with 2 Axes>"
      ]
     },
     "metadata": {
      "needs_background": "light"
     },
     "output_type": "display_data"
    }
   ],
   "source": [
    "plt.rcParams['font.size']=14\n",
    "x = np.linspace(0, 1, 100)\n",
    "y = np.linspace(1, 0, 100)\n",
    "X, Y = np.meshgrid(x, y)\n",
    "Z = mu(X,Y)\n",
    "plt.imshow(Z, cmap=RdBu_8.mpl_colormap, extent = [0,1,0,1],)\n",
    "for line in partition:\n",
    "    if line[0] == line[2]:\n",
    "        plt.axvline(line[0], line[1], line[3], color = 'k', linewidth = 2)\n",
    "    if line[1] == line[3]:\n",
    "        plt.axhline(line[1], line[0], line[2], color = 'k', linewidth = 2)\n",
    "plt.colorbar()\n",
    "plt.gca().spines['top'].set_linewidth(2)\n",
    "plt.gca().spines['right'].set_linewidth(2)\n",
    "plt.gca().spines['bottom'].set_linewidth(2)\n",
    "plt.gca().spines['left'].set_linewidth(2)\n",
    "\n",
    "plt.xlabel(' ')\n",
    "\n",
    "plt.tight_layout()\n",
    "# plt.savefig('partition.png')"
   ]
  },
  {
   "cell_type": "code",
   "execution_count": 16,
   "metadata": {},
   "outputs": [
    {
     "data": {
      "text/plain": [
       "[0, 20, 92, 376, 1504, 6012, 24040, 60000]"
      ]
     },
     "execution_count": 16,
     "metadata": {},
     "output_type": "execute_result"
    }
   ],
   "source": [
    "grid"
   ]
  },
  {
   "cell_type": "code",
   "execution_count": 22,
   "metadata": {},
   "outputs": [
    {
     "data": {
      "image/png": "[encoded data removed]",
      "text/plain": [
       "<Figure size 432x288 with 1 Axes>"
      ]
     },
     "metadata": {
      "needs_background": "light"
     },
     "output_type": "display_data"
    }
   ],
   "source": [
    "# plt.rcParams['font.size']=14\n",
    "# colorbar = ['red', '#FF9900', 'blue', 'green']\n",
    "# shadow = ['#FCE4BF', '#F5F5B4', '#CDF8F8', '#B9F8B9']\n",
    "# plt.ylim([0, 3500])\n",
    "# plt.xlim([0, 80000])\n",
    "# for i in range(4):\n",
    "#     plt.fill([grid[i], grid[i], grid[i+1], grid[i+1]], [0, 3500, 3500, 0], color = shadow[i])\n",
    "#     plt.plot(np.linspace(grid[i], grid[i+1], grid[i+1] + 1 - grid[i]), regretlist[grid[i]: grid[i+1] + 1], color = colorbar[i], linewidth = 1)\n",
    "\n",
    "# l1 = plt.plot(np.linspace(0, 80000, 80001), cum_regret, color = 'red', linewidth = 2, ls = '--', label = 'Zooming')\n",
    "\n",
    "l1 = plt.plot(np.linspace(0, T, T+1), regret_delta_lst)\n",
    "l2 = plt.plot(np.linspace(0, T, T+1), regretlist)\n",
    "np.savetxt('ablin_regret.csv', regretlist)\n",
    "np.savetxt('ablin_regret_delta.csv', regret_delta_lst)\n",
    "    \n",
    "# gap = 2000\n",
    "# n = int(T / gap)\n",
    "# for i in range(n):\n",
    "#     t = (i + 1) * gap\n",
    "#     for j in range(4):\n",
    "#         if (grid[j] < t) and (grid[j + 1] >= t):\n",
    "#             plt.plot(t, regretlist[t], marker = 'v', markeredgewidth = 0.5, markeredgecolor = 'black', markerfacecolor = colorbar[j])\n",
    "            \n",
    "# plt.xlabel('t')\n",
    "# plt.ylabel('Regret')\n",
    "\n",
    "\n",
    "# plt.legend(loc = 'lower right')\n",
    "\n",
    "# plt.gca().spines['top'].set_linewidth(2)\n",
    "# plt.gca().spines['right'].set_linewidth(2)\n",
    "# plt.gca().spines['bottom'].set_linewidth(2)\n",
    "# plt.gca().spines['left'].set_linewidth(2)\n",
    "\n",
    "# plt.tight_layout()\n",
    "# plt.savefig('regret.png')"
   ]
  },
  {
   "cell_type": "code",
   "execution_count": 33,
   "metadata": {},
   "outputs": [
    {
     "data": {
      "image/png": "[encoded data removed]",
      "text/plain": [
       "<Figure size 432x288 with 1 Axes>"
      ]
     },
     "metadata": {},
     "output_type": "display_data"
    }
   ],
   "source": [
    "plt.rcParams['font.size']=14\n",
    "for k in range(1, 5):\n",
    "    for line in partition[0: partition_grid[k] + 1]:\n",
    "        if line[0] == line[2]:\n",
    "            plt.axvline(line[0], line[1], line[3], color = 'k', linewidth = 2)\n",
    "        if line[1] == line[3]:\n",
    "            plt.axhline(line[1], line[0], line[2], color = 'k', linewidth = 2)\n",
    "    plt.axis('scaled')\n",
    "    plt.xlim([0, 1])\n",
    "    plt.ylim([0, 1])\n",
    "    for cube_e in cubes_eli[0: cubes_eli_grid[k - 1] + 1]:\n",
    "        plt.fill(cube_e[0], cube_e[1], color = '#A9A9A9')\n",
    "    for cube_e in cubes_eli[cubes_eli_grid[k - 1] + 1: cubes_eli_grid[k] + 1]:\n",
    "        plt.fill(cube_e[0], cube_e[1], color = '#696969')\n",
    "    plt.xticks([])\n",
    "    plt.yticks([])\n",
    "    plt.gca().spines['top'].set_linewidth(2)\n",
    "    plt.gca().spines['right'].set_linewidth(2)\n",
    "    plt.gca().spines['bottom'].set_linewidth(2)\n",
    "    plt.gca().spines['left'].set_linewidth(2)\n",
    "    \n",
    "    plt.tight_layout()\n",
    "#     plt.savefig('partition_step_'+str(k)+'.png')"
   ]
  },
  {
   "cell_type": "code",
   "execution_count": null,
   "metadata": {},
   "outputs": [],
   "source": []
  }
 ],
 "metadata": {
  "kernelspec": {
   "display_name": "Python 3 (ipykernel)",
   "language": "python",
   "name": "python3"
  },
  "language_info": {
   "codemirror_mode": {
    "name": "ipython",
    "version": 3
   },
   "file_extension": ".py",
   "mimetype": "text/x-python",
   "name": "python",
   "nbconvert_exporter": "python",
   "pygments_lexer": "ipython3",
   "version": "3.8.8"
  },
  "toc": {
   "base_numbering": 1,
   "nav_menu": {},
   "number_sections": true,
   "sideBar": true,
   "skip_h1_title": false,
   "title_cell": "Table of Contents",
   "title_sidebar": "Contents",
   "toc_cell": false,
   "toc_position": {},
   "toc_section_display": true,
   "toc_window_display": false
  },
  "vscode": {
   "interpreter": {
    "hash": "37548702c2f54b096bb9f9be13c433d20d272ff03f3af3fb72cba1f38f113e47"
   }
  }
 },
 "nbformat": 4,
 "nbformat_minor": 4
}
