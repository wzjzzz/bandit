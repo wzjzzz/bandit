{
 "cells": [
  {
   "cell_type": "code",
   "execution_count": 1,
   "id": "c3e6afcd",
   "metadata": {},
   "outputs": [
    {
     "data": {
      "image/png": "[encoded data removed]",
      "text/plain": [
       "<Figure size 432x288 with 1 Axes>"
      ]
     },
     "metadata": {
      "needs_background": "light"
     },
     "output_type": "display_data"
    }
   ],
   "source": [
    "import pandas as pd\n",
    "import matplotlib.pyplot as plt\n",
    "df = pd.read_csv('../TSLA.csv')\n",
    "plt.plot(df['Adj Close'])\n",
    "plt.show()"
   ]
  },
  {
   "cell_type": "code",
   "execution_count": 2,
   "id": "3c935f61",
   "metadata": {},
   "outputs": [
    {
     "data": {
      "image/png": "[encoded data removed]",
      "text/plain": [
       "<Figure size 432x288 with 1 Axes>"
      ]
     },
     "metadata": {
      "needs_background": "light"
     },
     "output_type": "display_data"
    }
   ],
   "source": [
    "windows = 10\n",
    "data = df['Adj Close'].rolling(windows).var()[windows-1:].values\n",
    "plt.plot(data)\n",
    "plt.show()"
   ]
  },
  {
   "cell_type": "code",
   "execution_count": 3,
   "id": "14feb16e",
   "metadata": {},
   "outputs": [],
   "source": [
    "from itertools import product\n",
    "import numpy as np\n",
    "from tqdm import tqdm\n",
    "\n",
    "class cube:\n",
    "    def __init__(self, x, ys, xs, cube_length, d=1, reward=0):\n",
    "        '''\n",
    "        Parameters\n",
    "        ----------\n",
    "        x : TYPE: list or numpy.array\n",
    "            'bottom left' point of initial cube, \n",
    "            'bottom left' means the coordinates of other points in the cube are not less than this point\n",
    "            for example: the 'bottom left' point of cube [(0,0),(1,0),(0,1),(1,1)] is (0,0)\n",
    "        cube_length : TYPE: float\n",
    "            edge length of cube\n",
    "        d : TYPE, int\n",
    "            dimension of cube\n",
    "        reward: TYPE, float\n",
    "            mean reward of the cube\n",
    "        '''\n",
    "        self.x = x\n",
    "        self.cube_length = cube_length\n",
    "        self.d = d\n",
    "        self.ys = ys\n",
    "        self.xs = xs       \n",
    "        self.children = []\n",
    "        \n",
    "        \n",
    "    def split(self):\n",
    "        '''split by dyadic'''\n",
    "        new_cube_length = self.cube_length / 2\n",
    "        candidate_idx = np.array(list(product([0,1], repeat=self.d)))\n",
    "        for idx in candidate_idx:\n",
    "            new_x = self.x + idx * new_cube_length\n",
    "            if not np.array(self.xs).any():\n",
    "                new_cube = cube(new_x, [], [], new_cube_length)\n",
    "            else:\n",
    "                new_xs, new_ys = self.update_xy(self.xs, self.ys, new_x, new_cube_length)\n",
    "                new_cube = cube(new_x, new_ys, new_xs, new_cube_length)\n",
    "            new_cube.parent = self\n",
    "            self.children.append(new_cube)\n",
    "        return self.children\n",
    "    \n",
    "    \n",
    "    def insert_point(self, x, y):\n",
    "        if (x >= self.x).all() and (x <= (self.x+self.cube_length)).all():\n",
    "            self.xs.append(x)\n",
    "            self.ys.append(y)\n",
    "    \n",
    "\n",
    "        \n",
    "    def update_xy(self, parent_xs, parent_ys, child_x, child_cube_length):\n",
    "        xs = np.array(parent_xs).copy()\n",
    "        ys = np.array(parent_ys).copy()\n",
    "        condition = ((xs >= child_x) & (xs <= child_x + child_cube_length)).all(axis=1)\n",
    "        try:\n",
    "            return xs[condition], ys[condition]\n",
    "        except:\n",
    "            print(child_x)\n",
    "            print(ys.shape)\n",
    "    \n",
    "    \n",
    "    \n",
    "    def mean_reward(self):\n",
    "        return np.mean(self.ys)\n",
    "        \n",
    "        \n",
    "\n",
    "\n",
    "        \n",
    "class BMO_E:\n",
    "    def __init__(self, T, init_x, init_cube_length, eta, epsilon, c, delta, data, split_times=1):        \n",
    "        self.init_cubes = [cube(np.array(init_x), [], [], init_cube_length)]\n",
    "        self.T = T   #time horizon\n",
    "        self.s_cubes = []  #cubes surviving each batch\n",
    "        self.cubes = []    #cubes played each batch\n",
    "        self.count = 0     #number of times arm has been played\n",
    "        self.eta = eta\n",
    "        self.epsilon = epsilon\n",
    "        self.delta = delta\n",
    "        self.rewards = []\n",
    "        self.arms = []\n",
    "        self.delta_regret = 0\n",
    "        self.split_times = split_times\n",
    "        self.c = c\n",
    "        self.isfinal = 0\n",
    "        self.data = data\n",
    "        self.c_scale = 1\n",
    "\n",
    "        \n",
    "    \n",
    "    def initialize(self):\n",
    "        \n",
    "\n",
    "        self.delta_regret = np.quantile(self.data, 1-self.delta) * self.c_scale\n",
    "        self.m_regret = np.max(self.data) * self.c_scale\n",
    "        \n",
    "    \n",
    "        cubes = self.init_cubes\n",
    "        for i in range(self.split_times):\n",
    "            cubes = self.partition(cubes)\n",
    "        self.cubes.append(cubes)\n",
    "        \n",
    "        nb, Jb = self.values4batch()\n",
    "#         print('Jb', Jb)\n",
    "        self.play_one_batch(cubes, nb)\n",
    "#         print('have play {} times totally'.format(self.count))\n",
    "        \n",
    "        s_cubes = self.elimination(cubes, Jb)\n",
    "        self.s_cubes.append(s_cubes)\n",
    "        \n",
    "        \n",
    "          \n",
    "    def values4batch(self):\n",
    "        cube_length = self.cubes[-1][-1].cube_length\n",
    "        d = self.cubes[-1][-1].d\n",
    "        mu_cube = pow(cube_length, d)\n",
    "        \n",
    "        numerator = np.log(self.T**2/self.epsilon) + np.log2(1/self.eta)\n",
    "        \n",
    "        if pow(cube_length/2, d) <= self.eta:   #play final batch\n",
    "            nb = np.ceil((self.T-self.count) / len(self.cubes[-1]))\n",
    "            self.isfinal = 1\n",
    "        else:\n",
    "            denominator = self.c*np.log(mu_cube/self.eta)\n",
    "            nb = max(np.floor(numerator /denominator), 1)\n",
    "            \n",
    "\n",
    "        return int(nb), self.c*np.log(mu_cube/self.eta)\n",
    "        \n",
    "        \n",
    "    def partition(self, cubes):\n",
    "        '''\n",
    "        cubes: list of cubes to be split\n",
    "        '''\n",
    "        new_cubes = []\n",
    "        for cube in cubes:\n",
    "            new_cubes_ = cube.split()\n",
    "            new_cubes += new_cubes_\n",
    "        return new_cubes\n",
    "    \n",
    "    \n",
    "    \n",
    "    def play_one_batch(self, cubes, nb):\n",
    "            \n",
    "        for i in range(nb):\n",
    "            for cube in cubes:\n",
    "                if len(cube.xs) > nb and not self.isfinal:\n",
    "                    continue\n",
    "                arm = self.sample(cube)\n",
    "                self.arms.append(arm)\n",
    "                observation, reward = self.get_reward(arm)\n",
    "                cube.xs = list(cube.xs) + [arm]\n",
    "                cube.ys = list(cube.ys) + [observation]\n",
    "                self.rewards.append(reward)      \n",
    "                self.count += 1\n",
    "                \n",
    "                if self.count >= self.T:\n",
    "                    break\n",
    "                \n",
    "            if self.count >= self.T:\n",
    "                break           \n",
    "                \n",
    "                \n",
    "\n",
    "    def elimination(self, cubes, Jb):\n",
    "        rewards = [cube.mean_reward() for cube in cubes]\n",
    "        max_reward = np.max(rewards)\n",
    "        rewards_diff = max_reward - rewards\n",
    "        s_cubes_idx = np.where(rewards_diff <= (1+2*self.c)*Jb)[0]\n",
    "        s_cubes = [cubes[idx] for idx in s_cubes_idx]\n",
    "        return s_cubes\n",
    "                \n",
    "        \n",
    "    def sample(self, cube):\n",
    "        arm = np.random.uniform(cube.x, cube.x+cube.cube_length)\n",
    "        return arm\n",
    "        \n",
    "    \n",
    "    def get_reward(self, arm):\n",
    "        x = arm[0]\n",
    "        if x == 1:\n",
    "            idx = -1\n",
    "        else:\n",
    "            idx = int(np.floor(x*(len(data)-1)))\n",
    "        reward = data[idx] * self.c_scale\n",
    "        observation = np.random.normal(reward, 0.1)\n",
    "        return observation, reward\n",
    "\n",
    "    \n",
    "    \n",
    "    def play(self):\n",
    "        self.initialize()\n",
    "        for b in range(1, self.T):\n",
    "            cubes = self.partition(self.s_cubes[-1])\n",
    "                \n",
    "            self.cubes.append(cubes)\n",
    "            nb, Jb = self.values4batch()\n",
    "\n",
    "            self.play_one_batch(cubes, nb)\n",
    "\n",
    "            if self.count >= self.T:\n",
    "                break\n",
    "            \n",
    "            s_cubes = self.elimination(cubes, Jb)\n",
    "            self.s_cubes.append(s_cubes)\n",
    "            \n",
    "            \n",
    "    def plot(self):\n",
    "        self.play()\n",
    "        rewards = self.rewards\n",
    "        delta_regret = self.delta_regret\n",
    "        m_regret = self.m_regret\n",
    "        delta_regrets = [max(0, delta_regret - reward) for reward in rewards]\n",
    "        regrets = [(m_regret - reward) for reward in rewards]\n",
    "\n",
    "        print('cubes num:', [len(cubes) for cubes in self.cubes])\n",
    "        print('s_cubes num:', [len(cubes) for cubes in self.s_cubes])\n",
    "        \n",
    "        return delta_regrets, regrets"
   ]
  },
  {
   "cell_type": "code",
   "execution_count": 20,
   "id": "5fc480c7",
   "metadata": {
    "scrolled": true
   },
   "outputs": [
    {
     "name": "stdout",
     "output_type": "stream",
     "text": [
      "cubes num: [2, 4, 8, 2, 4, 6, 6, 2, 2, 2, 2, 4, 8, 14, 26, 52]\n",
      "s_cubes num: [2, 4, 1, 2, 3, 3, 1, 1, 1, 1, 2, 4, 7, 13, 26]\n",
      "cubes num: [2, 2, 2, 2, 2, 2, 2, 2, 2, 2, 4, 6, 8, 14, 28, 56]\n",
      "s_cubes num: [1, 1, 1, 1, 1, 1, 1, 1, 1, 2, 3, 4, 7, 14, 28]\n",
      "cubes num: [2, 4, 8, 16, 2, 2, 2, 2, 2, 2, 2, 4, 6, 10, 20, 40]\n",
      "s_cubes num: [2, 4, 8, 1, 1, 1, 1, 1, 1, 1, 2, 3, 5, 10, 20]\n",
      "cubes num: [2, 4, 8, 2, 4, 4, 4, 2, 2, 2, 2, 4, 8, 12, 12, 2]\n",
      "s_cubes num: [2, 4, 1, 2, 2, 2, 1, 1, 1, 1, 2, 4, 6, 6, 1]\n",
      "cubes num: [2, 2, 2, 2, 4, 6, 6, 2, 2, 2, 2, 4, 6, 12, 22, 40]\n",
      "s_cubes num: [1, 1, 1, 2, 3, 3, 1, 1, 1, 1, 2, 3, 6, 11, 20]\n",
      "cubes num: [2, 4, 8, 2, 4, 4, 2, 2, 2, 2, 2, 4, 6, 6, 2, 2]\n",
      "s_cubes num: [2, 4, 1, 2, 2, 1, 1, 1, 1, 1, 2, 3, 3, 1, 1]\n",
      "cubes num: [2, 4, 8, 16, 6, 8, 6, 4, 4, 4, 4, 4, 2, 4, 8, 16]\n",
      "s_cubes num: [2, 4, 8, 3, 4, 3, 2, 2, 2, 2, 2, 1, 2, 4, 8]\n",
      "cubes num: [2, 2, 2, 2, 4, 6, 6, 10, 2, 2, 2, 2, 4, 8, 6, 10]\n",
      "s_cubes num: [1, 1, 1, 2, 3, 3, 5, 1, 1, 1, 1, 2, 4, 3, 5]\n",
      "cubes num: [2, 4, 8, 16, 32, 6, 8, 2, 2, 2, 2, 4, 6, 10, 10, 20]\n",
      "s_cubes num: [2, 4, 8, 16, 3, 4, 1, 1, 1, 1, 2, 3, 5, 5, 10]\n",
      "cubes num: [2, 4, 8, 16, 32, 8, 2, 2, 2, 2, 2, 4, 6, 10, 10, 20]\n",
      "s_cubes num: [2, 4, 8, 16, 4, 1, 1, 1, 1, 1, 2, 3, 5, 5, 10]\n"
     ]
    }
   ],
   "source": [
    "T = 1000\n",
    "init_x = [0]\n",
    "init_cube_length = 1\n",
    "eta = 1e-5\n",
    "epsilon = 1e-2\n",
    "delta = 1e-2\n",
    "phi = 3\n",
    "split_times = 1\n",
    "\n",
    "regrets_all = []\n",
    "regrets_delta_all = []\n",
    "for _ in range(10):\n",
    "    A = BMO_E(T, init_x, init_cube_length, eta, epsilon, phi, delta, data, split_times=split_times)\n",
    "    regrets_delta, regrets = A.plot()\n",
    "    regrets_all.append(regrets)\n",
    "    regrets_delta_all.append(regrets_delta)"
   ]
  },
  {
   "cell_type": "code",
   "execution_count": 21,
   "id": "db184ac4",
   "metadata": {},
   "outputs": [
    {
     "data": {
      "image/png": "[encoded data removed]",
      "text/plain": [
       "<Figure size 432x288 with 1 Axes>"
      ]
     },
     "metadata": {
      "needs_background": "light"
     },
     "output_type": "display_data"
    }
   ],
   "source": [
    "import matplotlib.pyplot as plt\n",
    "\n",
    "for i in range(10):\n",
    "    plt.plot(np.cumsum(regrets_delta_all, axis=1)[i], label='{}'.format(i))\n",
    "plt.legend()\n",
    "plt.show()"
   ]
  },
  {
   "cell_type": "code",
   "execution_count": 22,
   "id": "9daf761b",
   "metadata": {},
   "outputs": [],
   "source": [
    "regret_m_delta = np.mean(np.cumsum(regrets_delta_all, axis=1), axis=0)\n",
    "regret_std_delta = np.std(np.cumsum(regrets_delta_all, axis=1), axis=0)"
   ]
  },
  {
   "cell_type": "code",
   "execution_count": 23,
   "id": "c2fa9412",
   "metadata": {},
   "outputs": [
    {
     "data": {
      "image/png": "[encoded data removed]",
      "text/plain": [
       "<Figure size 432x288 with 1 Axes>"
      ]
     },
     "metadata": {
      "needs_background": "light"
     },
     "output_type": "display_data"
    }
   ],
   "source": [
    "import matplotlib.pyplot as plt\n",
    "plt.plot(regret_m_delta)\n",
    "plt.fill_between(np.array(range(len(regret_m_delta))), \n",
    "                                regret_m_delta - regret_std_delta, regret_m_delta + regret_std_delta, alpha=0.1, color='r')\n",
    "plt.show()"
   ]
  },
  {
   "cell_type": "code",
   "execution_count": null,
   "id": "531cef74",
   "metadata": {},
   "outputs": [],
   "source": []
  },
  {
   "cell_type": "code",
   "execution_count": 24,
   "id": "bfb10cb1",
   "metadata": {},
   "outputs": [],
   "source": [
    "import numpy as np\n",
    "np.savetxt('bmo_eli_delta.csv', regrets_delta_all)\n",
    "# np.savetxt('bmo_eli.csv', regrets_all)"
   ]
  },
  {
   "cell_type": "code",
   "execution_count": null,
   "id": "8c6098c5",
   "metadata": {},
   "outputs": [],
   "source": []
  }
 ],
 "metadata": {
  "kernelspec": {
   "display_name": "Python 3 (ipykernel)",
   "language": "python",
   "name": "python3"
  },
  "language_info": {
   "codemirror_mode": {
    "name": "ipython",
    "version": 3
   },
   "file_extension": ".py",
   "mimetype": "text/x-python",
   "name": "python",
   "nbconvert_exporter": "python",
   "pygments_lexer": "ipython3",
   "version": "3.8.8"
  },
  "vscode": {
   "interpreter": {
    "hash": "37548702c2f54b096bb9f9be13c433d20d272ff03f3af3fb72cba1f38f113e47"
   }
  }
 },
 "nbformat": 4,
 "nbformat_minor": 5
}
